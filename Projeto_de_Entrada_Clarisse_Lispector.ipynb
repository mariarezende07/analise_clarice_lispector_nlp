{
  "cells": [
    {
      "cell_type": "markdown",
      "metadata": {
        "id": "Y6PEfK4mLzEt"
      },
      "source": [
        "# 👩🏻‍🏫 Projeto de ingresso em NLP 👩🏻‍🏫"
      ]
    },
    {
      "cell_type": "markdown",
      "metadata": {
        "id": "daGRIOhLRFy_"
      },
      "source": [
        "Sejam bem-vindos, NLPers! Neste notebook, realizaremos algumas análises em relação à alguns livros da Clarice Lispector: \"A hora da estrela\", \"Crônicas\" e \"Todos os contos\"."
      ]
    },
    {
      "cell_type": "markdown",
      "metadata": {
        "id": "IpeVcFiJRprf"
      },
      "source": [
        "## Importações"
      ]
    },
    {
      "cell_type": "markdown",
      "metadata": {
        "id": "k0_fNuLXpPmM"
      },
      "source": [
        "Vamos começar importando algumas bibliotecas necessárias para realizar a nossa análise\n"
      ]
    },
    {
      "cell_type": "code",
      "execution_count": 1,
      "metadata": {},
      "outputs": [],
      "source": [
        "%%capture\n",
        "%pip install transformers\n",
        "%pip install gensim\n",
        "!python -m spacy download pt_core_news_lg"
      ]
    },
    {
      "cell_type": "code",
      "execution_count": 2,
      "metadata": {
        "id": "d2c5pMTtqFdb"
      },
      "outputs": [],
      "source": [
        "import pandas as pd\n",
        "import numpy as np\n",
        "import json\n",
        "import re\n",
        "import spacy\n",
        "\n",
        "from wordcloud import WordCloud \n",
        "import matplotlib.pyplot as plt\n",
        "\n",
        "from gensim.models.phrases import Phrases, Phraser\n",
        "import multiprocessing\n",
        "from gensim.models import Word2Vec\n",
        "from collections import defaultdict\n",
        "\n",
        "from transformers import AutoTokenizer  # Or BertTokenizer\n",
        "from transformers import AutoModelForPreTraining  # Or BertForPreTraining for loading pretraining heads\n",
        "from transformers import AutoModel  # or BertModel, for BERT without pretraining heads\n",
        "from transformers import pipeline\n"
      ]
    },
    {
      "cell_type": "code",
      "execution_count": 3,
      "metadata": {
        "colab": {
          "base_uri": "https://localhost:8080/"
        },
        "id": "yfMvWmUjsSLv",
        "outputId": "4ce8c03c-b97e-4cb1-a707-37f685ae2c29"
      },
      "outputs": [
        {
          "name": "stderr",
          "output_type": "stream",
          "text": [
            "[nltk_data] Downloading package stopwords to\n",
            "[nltk_data]     C:\\Users\\mrggi\\AppData\\Roaming\\nltk_data...\n",
            "[nltk_data]   Package stopwords is already up-to-date!\n"
          ]
        },
        {
          "data": {
            "text/plain": [
              "True"
            ]
          },
          "execution_count": 3,
          "metadata": {},
          "output_type": "execute_result"
        }
      ],
      "source": [
        "import nltk\n",
        "nltk.download('stopwords')"
      ]
    },
    {
      "cell_type": "markdown",
      "metadata": {
        "id": "16Jr6WDopkrI"
      },
      "source": [
        "# Processamento do corpus"
      ]
    },
    {
      "cell_type": "markdown",
      "metadata": {
        "id": "o6R_gFGuR91u"
      },
      "source": [
        "Para realizar a análise do livros, já temos em posse um corpus pré-processado. Porém, ainda temos que fazer ainda alguns processos para facilitar a nossa análise.\n",
        "\n",
        "Vamos começar importando nosso corpus e transformando-o em um DataFrame para facilitar o manuseio."
      ]
    },
    {
      "cell_type": "code",
      "execution_count": 96,
      "metadata": {
        "id": "wRlK60Kiux4m"
      },
      "outputs": [],
      "source": [
        "with open(\"corpus_tokenizado.json\", 'r') as f:\n",
        "  corpus = json.load(f)"
      ]
    },
    {
      "cell_type": "code",
      "execution_count": 97,
      "metadata": {
        "id": "GbfJTaBQpncO"
      },
      "outputs": [],
      "source": [
        "corpus_dict = json.loads(corpus)"
      ]
    },
    {
      "cell_type": "code",
      "execution_count": 98,
      "metadata": {
        "id": "BFx2yn-hv0sv"
      },
      "outputs": [],
      "source": [
        "df_corpus = pd.DataFrame(corpus_dict['corpus'][0], columns = ['palavras'])"
      ]
    },
    {
      "cell_type": "markdown",
      "metadata": {
        "id": "LWBi3tJPTIon"
      },
      "source": [
        "Agora, podemos dar uma olhada no formato do nosso dataset"
      ]
    },
    {
      "cell_type": "code",
      "execution_count": 99,
      "metadata": {
        "colab": {
          "base_uri": "https://localhost:8080/",
          "height": 206
        },
        "id": "NewfGSvbSn_b",
        "outputId": "e8f980f4-00f5-4e72-ed9f-7bec7654f810"
      },
      "outputs": [
        {
          "data": {
            "text/html": [
              "<div>\n",
              "<style scoped>\n",
              "    .dataframe tbody tr th:only-of-type {\n",
              "        vertical-align: middle;\n",
              "    }\n",
              "\n",
              "    .dataframe tbody tr th {\n",
              "        vertical-align: top;\n",
              "    }\n",
              "\n",
              "    .dataframe thead th {\n",
              "        text-align: right;\n",
              "    }\n",
              "</style>\n",
              "<table border=\"1\" class=\"dataframe\">\n",
              "  <thead>\n",
              "    <tr style=\"text-align: right;\">\n",
              "      <th></th>\n",
              "      <th>palavras</th>\n",
              "    </tr>\n",
              "  </thead>\n",
              "  <tbody>\n",
              "    <tr>\n",
              "      <th>0</th>\n",
              "      <td>dados</td>\n",
              "    </tr>\n",
              "    <tr>\n",
              "      <th>1</th>\n",
              "      <td>de</td>\n",
              "    </tr>\n",
              "    <tr>\n",
              "      <th>2</th>\n",
              "      <td>copyright</td>\n",
              "    </tr>\n",
              "    <tr>\n",
              "      <th>3</th>\n",
              "      <td>sobre</td>\n",
              "    </tr>\n",
              "    <tr>\n",
              "      <th>4</th>\n",
              "      <td>a</td>\n",
              "    </tr>\n",
              "  </tbody>\n",
              "</table>\n",
              "</div>"
            ],
            "text/plain": [
              "    palavras\n",
              "0      dados\n",
              "1         de\n",
              "2  copyright\n",
              "3      sobre\n",
              "4          a"
            ]
          },
          "execution_count": 99,
          "metadata": {},
          "output_type": "execute_result"
        }
      ],
      "source": [
        "df_corpus.head()"
      ]
    },
    {
      "cell_type": "markdown",
      "metadata": {
        "id": "gKcZQ2DPTh0W"
      },
      "source": [
        "\"*Dados de copyright*\"? Meio estranho né? Bem, o corpus veio com uma introduçãozinha do site LeLivros. Para evitar que isso atrapalhe a nossa análise, vamos remover isso."
      ]
    },
    {
      "cell_type": "code",
      "execution_count": 100,
      "metadata": {
        "id": "ZjxxNFhB4KMQ"
      },
      "outputs": [],
      "source": [
        "start_lelivros = df_corpus.loc[df_corpus['palavras'] == 'dados'].index[0]\n",
        "end_lelivros = df_corpus.loc[df_corpus['palavras'] == 'nível'].index[0]"
      ]
    },
    {
      "cell_type": "code",
      "execution_count": 101,
      "metadata": {
        "id": "wi4EpuPC74OI"
      },
      "outputs": [],
      "source": [
        "df_corpus=df_corpus.drop(df_corpus.index[start_lelivros:end_lelivros+1])"
      ]
    },
    {
      "cell_type": "markdown",
      "metadata": {
        "id": "IDg07U3UXO9S"
      },
      "source": [
        "### Stopwords"
      ]
    },
    {
      "cell_type": "markdown",
      "metadata": {
        "id": "1Xmm8q_29IrQ"
      },
      "source": [
        "Agora, finalmente, vamos começar a fazer o pré-processamento de verdade. Primeiramente, vamos remover as \"stopwords\".\n",
        "\n",
        "As stopwords são palavras como \"as\", \"os\", \"de\", \"para\", \"com\", que são normalmente irrelevantes para a análise de um texto. Para fazer isso, vamos usar a biblioteca de stopwords do NLTK.\n",
        "\n",
        "Como algumas stopwords que são flexões não estão inclusas, vamos adicioná-las manualmente."
      ]
    },
    {
      "cell_type": "code",
      "execution_count": 102,
      "metadata": {
        "id": "JCozXinMsJ55"
      },
      "outputs": [],
      "source": [
        "stopwords = nltk.corpus.stopwords.words('portuguese')\n",
        "stopwords.append(\"pra\")\n",
        "stopwords.append(\"tá\")\n",
        "stopwords.append(\"dá\")\n",
        "stop = set(stopwords)"
      ]
    },
    {
      "cell_type": "markdown",
      "metadata": {
        "id": "nXenteUEW0u4"
      },
      "source": [
        "Com a lista de stopwords prontas, vamos removê-las do nosso dataframe."
      ]
    },
    {
      "cell_type": "code",
      "execution_count": 103,
      "metadata": {
        "id": "cDDkbhbVsav2"
      },
      "outputs": [],
      "source": [
        "df_corpus = df_corpus[~df_corpus.palavras.isin(stop)]"
      ]
    },
    {
      "cell_type": "markdown",
      "metadata": {
        "id": "zr9O9yY11yaH"
      },
      "source": [
        "### Lematização\n",
        "\n",
        "Para evitar que trabalhemos com um vetor muito grande com várias palavras repetidas que significam a mesma coisa, vamos aplicar uma técnica chamada de Lematização. O objetivo desta técnica é amos buscar reduzir a palavra à sua raiz, retirando todas as inflexões e chegando ao lemma. Essa técnica também permite que relacionemos algumas palavras cim seus sinônimos, como \"trânsito\" e \"engarrafamento\"."
      ]
    },
    {
      "cell_type": "markdown",
      "metadata": {
        "id": "LEt_6Rp7YRmS"
      },
      "source": [
        "Para aplicarmos essa técnica, vamos utilizar a biblioteca em português do Spacy."
      ]
    },
    {
      "cell_type": "code",
      "execution_count": 104,
      "metadata": {
        "id": "6CObhjOC3oW3"
      },
      "outputs": [],
      "source": [
        "nlp = spacy.load(\"pt_core_news_lg\")"
      ]
    },
    {
      "cell_type": "markdown",
      "metadata": {
        "id": "_wkMkN0qYX4w"
      },
      "source": [
        "Agora, vamos fazer uma list comprehension para passar por cada palavra, como uma grande string que será analisada."
      ]
    },
    {
      "cell_type": "code",
      "execution_count": 105,
      "metadata": {
        "id": "Bpoilk2V6adR"
      },
      "outputs": [],
      "source": [
        "doc = nlp(str([palavra for palavra in df_corpus['palavras']]))"
      ]
    },
    {
      "cell_type": "markdown",
      "metadata": {
        "id": "07aEPYW0Ybl4"
      },
      "source": [
        "Agora, podemos usar algumas propriedades da biblioteca Spacy para separarmos um pouco nosso dataset. Podemos, por exemplo, separar em colunas de verbos, substantivos e nomes próprios que são utilizados nos livros de Clarice."
      ]
    },
    {
      "cell_type": "code",
      "execution_count": 116,
      "metadata": {
        "colab": {
          "base_uri": "https://localhost:8080/",
          "height": 206
        },
        "id": "Xe6Sm31g7jvX",
        "outputId": "5a83de5f-4593-4d97-8318-fe9095b86c4f"
      },
      "outputs": [
        {
          "data": {
            "text/html": [
              "<div>\n",
              "<style scoped>\n",
              "    .dataframe tbody tr th:only-of-type {\n",
              "        vertical-align: middle;\n",
              "    }\n",
              "\n",
              "    .dataframe tbody tr th {\n",
              "        vertical-align: top;\n",
              "    }\n",
              "\n",
              "    .dataframe thead th {\n",
              "        text-align: right;\n",
              "    }\n",
              "</style>\n",
              "<table border=\"1\" class=\"dataframe\">\n",
              "  <thead>\n",
              "    <tr style=\"text-align: right;\">\n",
              "      <th></th>\n",
              "      <th>palavras</th>\n",
              "      <th>verbos</th>\n",
              "      <th>substantivos</th>\n",
              "      <th>nomes</th>\n",
              "    </tr>\n",
              "  </thead>\n",
              "  <tbody>\n",
              "    <tr>\n",
              "      <th>150</th>\n",
              "      <td>hora</td>\n",
              "      <td>gostar</td>\n",
              "      <td>nordestina</td>\n",
              "      <td>raimundo</td>\n",
              "    </tr>\n",
              "    <tr>\n",
              "      <th>152</th>\n",
              "      <td>estrela</td>\n",
              "      <td>anular</td>\n",
              "      <td>janeiro</td>\n",
              "      <td>estenografa</td>\n",
              "    </tr>\n",
              "    <tr>\n",
              "      <th>153</th>\n",
              "      <td>clarice</td>\n",
              "      <td>sanar</td>\n",
              "      <td>autor</td>\n",
              "      <td>raimundo</td>\n",
              "    </tr>\n",
              "    <tr>\n",
              "      <th>154</th>\n",
              "      <td>lispector</td>\n",
              "      <td>despontar</td>\n",
              "      <td>livro</td>\n",
              "      <td>Mauá</td>\n",
              "    </tr>\n",
              "    <tr>\n",
              "      <th>156</th>\n",
              "      <td>hora</td>\n",
              "      <td>ver</td>\n",
              "      <td>comentário</td>\n",
              "      <td>lo</td>\n",
              "    </tr>\n",
              "  </tbody>\n",
              "</table>\n",
              "</div>"
            ],
            "text/plain": [
              "      palavras     verbos substantivos        nomes\n",
              "150       hora     gostar   nordestina     raimundo\n",
              "152    estrela     anular      janeiro  estenografa\n",
              "153    clarice      sanar        autor     raimundo\n",
              "154  lispector  despontar        livro         Mauá\n",
              "156       hora        ver   comentário           lo"
            ]
          },
          "execution_count": 116,
          "metadata": {},
          "output_type": "execute_result"
        }
      ],
      "source": [
        "df_corpus['verbos']= pd.DataFrame([token.lemma_ for token in doc if token.pos_ == 'VERB'])\n",
        "df_corpus['substantivos']= pd.DataFrame([token.lemma_ for token in doc if token.pos_ == 'NOUN'])\n",
        "df_corpus['nomes']= pd.DataFrame([token.lemma_ for token in doc if token.pos_ == 'PROPN'])\n",
        "\n",
        "df_corpus.head()"
      ]
    },
    {
      "cell_type": "markdown",
      "metadata": {
        "id": "JIDBWfcbsGJb"
      },
      "source": [
        "## Exploração do corpus"
      ]
    },
    {
      "cell_type": "markdown",
      "metadata": {
        "id": "-Auw_T_2KvOk"
      },
      "source": [
        "Com as o nosso dataframe bem separado, podemos explorá-lo um pouco para entender mais sobre as obras de Clarice. "
      ]
    },
    {
      "cell_type": "markdown",
      "metadata": {
        "id": "zru35hXjgNTQ"
      },
      "source": [
        "### Wordclouds"
      ]
    },
    {
      "cell_type": "markdown",
      "metadata": {
        "id": "NjcQ7ci5be2n"
      },
      "source": [
        "A primeira coisa que vamos ver é uma WordCloud dos verbos, substantivos e nomes mais usados nas obras. \n",
        "\n",
        "As WordClouds são um formato de visualização em que podemos ver a distribuição de frequência de uma forma mais enxuta. Apesar de não serem perfeitos para entender esses dados, são bem bonitos né?"
      ]
    },
    {
      "cell_type": "code",
      "execution_count": 117,
      "metadata": {
        "id": "mVaQ1PkwK9P8"
      },
      "outputs": [],
      "source": [
        "palavras = df_corpus['palavras'].values\n",
        "\n",
        "verbos = ' '.join(df_corpus[df_corpus['verbos'].notnull()]['verbos'].values)\n",
        "substantivos = ' '.join(df_corpus[df_corpus['substantivos'].notnull()]['substantivos'].values)\n",
        "nomes = ' '.join(df_corpus[df_corpus['nomes'].notnull()]['nomes'].values)"
      ]
    },
    {
      "cell_type": "code",
      "execution_count": 118,
      "metadata": {
        "id": "XGStJ9J6dnoR"
      },
      "outputs": [],
      "source": [
        "wordcloud_verbos = WordCloud(background_color=\"white\",width=2000, height=800, collocations = False).generate(verbos)\n",
        "wordcloud_subs = WordCloud(background_color=\"white\",width=2000, height=800, collocations = False).generate(substantivos)\n",
        "wordcloud_nomes = WordCloud(background_color=\"white\",width=2000, height=800, collocations = False).generate(nomes)\n"
      ]
    },
    {
      "cell_type": "code",
      "execution_count": 119,
      "metadata": {
        "colab": {
          "base_uri": "https://localhost:8080/",
          "height": 250
        },
        "id": "gequ8WCJ6XBh",
        "outputId": "136919f6-df9a-4074-b1df-8c4fcefc3047"
      },
      "outputs": [
        {
          "data": {
            "image/png": "[encoded data removed]",
            "text/plain": [
              "<Figure size 1440x360 with 4 Axes>"
            ]
          },
          "metadata": {
            "needs_background": "light"
          },
          "output_type": "display_data"
        }
      ],
      "source": [
        "fig = plt.figure(figsize=(20,5))\n",
        "plt.axis(\"off\")\n",
        "ax1 = fig.add_subplot(1,3,1)\n",
        "ax1.imshow(wordcloud_verbos)\n",
        "ax1.set_title('Verbos mais usados')\n",
        "\n",
        "ax2 = fig.add_subplot(1,3,2)\n",
        "ax2.imshow(wordcloud_subs)\n",
        "ax2.set_title('Substantivos mais usados')\n",
        "\n",
        "ax3 = fig.add_subplot(1,3,3)\n",
        "ax3.imshow(wordcloud_nomes)\n",
        "ax3.set_title('Nomes mais usados')\n",
        "\n",
        "\n",
        "plt.show()"
      ]
    },
    {
      "cell_type": "markdown",
      "metadata": {
        "id": "OdGfjez7gRwR"
      },
      "source": [
        "No plot de nomes mais usados, encontramos alguns personagens presentes nos livros:\n",
        "- Carlota, que se refere à Madame Carlota, de \"A hora da estrela\"\n",
        "- Jesus, que pode se referir à Olímpico de Jesus\n",
        "\n",
        "Já a palavra Deus também aparece com muita frequência. Isto pois muitas obras de Clarice são recheadas de questões religiosas, pondo sempre em foco o ser humano. Um exemplo disto é o conto \"Perdoando a Deus\", presente no livro \"Todos os contos\".\n"
      ]
    },
    {
      "cell_type": "markdown",
      "metadata": {
        "id": "p2G0vle2NxUJ"
      },
      "source": [
        "### N-grams"
      ]
    },
    {
      "cell_type": "markdown",
      "metadata": {
        "id": "YUstaNGbo3F3"
      },
      "source": [
        "Outra análise que podemos fazer é em relação aos *n-grams*. Isto é, podemos fazer uma análise de frequência em que *n* palavras aparecem juntas. Aqui, vamos analisar *n-grams* de 2 palavras."
      ]
    },
    {
      "cell_type": "markdown",
      "metadata": {
        "id": "XKzjSJbHqmnf"
      },
      "source": [
        "Para facilitar um pouco a visualização, iremos ver apenas os 10 bigramas mais comuns."
      ]
    },
    {
      "cell_type": "code",
      "execution_count": 120,
      "metadata": {
        "colab": {
          "base_uri": "https://localhost:8080/",
          "height": 500
        },
        "id": "EePc2KDGNw90",
        "outputId": "4f843ae0-d76c-44f3-a1ea-95caa3f8dfda"
      },
      "outputs": [
        {
          "data": {
            "text/plain": [
              "<AxesSubplot:>"
            ]
          },
          "execution_count": 120,
          "metadata": {},
          "output_type": "execute_result"
        },
        {
          "data": {
            "image/png": "[encoded data removed]",
            "text/plain": [
              "<Figure size 864x576 with 1 Axes>"
            ]
          },
          "metadata": {
            "needs_background": "light"
          },
          "output_type": "display_data"
        }
      ],
      "source": [
        "bigrams = (pd.Series(nltk.ngrams(palavras, 2)).value_counts())[:10]\n",
        "bigrams.sort_values().plot.barh(color='pink', width=.9, figsize=(12, 8))"
      ]
    },
    {
      "cell_type": "markdown",
      "metadata": {
        "id": "CbrL2jCardSv"
      },
      "source": [
        "Nos bigramas mais comuns, podemos ver coisas como nomes de personagens (Madama e Carlota), nome do livro (Hora, Estrela), conectivos utilizados (Neste, Instante), e (Si,Mesma), que demonstra a intimicidade já conhecida das obras de Lispector."
      ]
    },
    {
      "cell_type": "markdown",
      "metadata": {
        "id": "JBwKamrmT1bE"
      },
      "source": [
        "### Classes gramaticais presentes\n",
        "\n"
      ]
    },
    {
      "cell_type": "markdown",
      "metadata": {
        "id": "3tdbKc1KsR6v"
      },
      "source": [
        "Outra análise que podemos fazer é ver o número de classes gramaticais presentes. Para isso, vamos usar novamente a biblioteca do Spacy. Para facilitar a análise, vamos excluir a classe gramatical de pontuações.\n"
      ]
    },
    {
      "cell_type": "code",
      "execution_count": 121,
      "metadata": {
        "colab": {
          "base_uri": "https://localhost:8080/",
          "height": 500
        },
        "id": "gnfOlXu_P-HP",
        "outputId": "3528c76a-eeff-4fc5-9c6c-f2a1f0f8ebf2"
      },
      "outputs": [
        {
          "data": {
            "text/plain": [
              "<AxesSubplot:>"
            ]
          },
          "execution_count": 121,
          "metadata": {},
          "output_type": "execute_result"
        },
        {
          "data": {
            "image/png": "[encoded data removed]",
            "text/plain": [
              "<Figure size 864x576 with 1 Axes>"
            ]
          },
          "metadata": {
            "needs_background": "light"
          },
          "output_type": "display_data"
        }
      ],
      "source": [
        "pos_tags = pd.Series([token.pos_ for token in doc if token.pos_ != \"PUNCT\"]).value_counts()\n",
        "pos_tags.sort_values().plot.barh(color='pink', width=.9, figsize=(12, 8))"
      ]
    },
    {
      "cell_type": "markdown",
      "metadata": {
        "id": "_QDvn4fXSUFz"
      },
      "source": [
        "Com isso, vemos que os textos de Clarice possuem uma predominância de substantivos, verbos e adjetivos, mas com poucos nomes próprios e pronomes. Esses dados refletem nas obras, em que o psicológico dos personagens é comumente tematizado, abusando de adjetivos e pensamentos."
      ]
    },
    {
      "cell_type": "markdown",
      "metadata": {
        "id": "zOM2Lao_UFH0"
      },
      "source": [
        "## Word2Vec"
      ]
    },
    {
      "cell_type": "markdown",
      "metadata": {
        "id": "PWi3LBH6TNZc"
      },
      "source": [
        "Agora, vamos usar o Word2Vec para nos auxiliar com algumas análises. Com ele, podemos manipular as palavras como se fossem números, a partir de seus embeddings."
      ]
    },
    {
      "cell_type": "markdown",
      "metadata": {
        "id": "DabRZccPSuH5"
      },
      "source": [
        "### Utilizando nosso conjunto de dados"
      ]
    },
    {
      "cell_type": "markdown",
      "metadata": {
        "id": "BCHZmjcxTZLL"
      },
      "source": [
        "A priori, vamos usar o nosso próprio conjunto de dados para treinar o modelo."
      ]
    },
    {
      "cell_type": "markdown",
      "metadata": {
        "id": "d1eY6muIMDB-"
      },
      "source": [
        "Para treinar o modelo, devemos enviar listas de palavras. Para isso, vamos pegar o array palavras e dívidi-lo em listas com 2 palavras cada."
      ]
    },
    {
      "cell_type": "code",
      "execution_count": 143,
      "metadata": {
        "colab": {
          "base_uri": "https://localhost:8080/"
        },
        "id": "yQliRvwTbnm9",
        "outputId": "edb6e03d-254f-4ca3-9c40-ed015473a24a"
      },
      "outputs": [
        {
          "data": {
            "text/plain": [
              "[['hora', 'estrela'],\n",
              " ['clarice', 'lispector'],\n",
              " ['hora', 'estrela'],\n",
              " ['culpa', 'hora'],\n",
              " ['estrela', 'arranje'],\n",
              " ['direito', 'grito'],\n",
              " ['quanto', 'futuro'],\n",
              " ['lamento', 'blue'],\n",
              " ['sabe', 'gritar'],\n",
              " ['assovio', 'vento'],\n",
              " ['escuro', 'posso'],\n",
              " ['fazer', 'nada'],\n",
              " ['registro', 'fatos'],\n",
              " ['antecedentes', 'história'],\n",
              " ['lacrimogênica', 'cordel'],\n",
              " ['saída', 'discreta'],\n",
              " ['porta', 'fundos'],\n",
              " ['apresentação', 'escrever'],\n",
              " ['estrelas', 'ora'],\n",
              " ['direis', 'clarice'],\n",
              " ['lispector', 'deixou'],\n",
              " ['vários', 'depoimentos'],\n",
              " ['sobre', 'produção'],\n",
              " ['literária', 'alguns'],\n",
              " ['parecia', 'defender'],\n",
              " ['estranhamento', 'causava'],\n",
              " ['leitores', 'críticos'],\n",
              " ['consciência', 'diferença'],\n",
              " ['desde', 'pequena'],\n",
              " ['ver', 'recusadas'],\n",
              " ['histórias', 'mandava'],\n",
              " ['jornal', 'recife'],\n",
              " ['pressentia', 'porque'],\n",
              " ['nenhuma', 'contava'],\n",
              " ['fatos', 'necessários'],\n",
              " ['história', 'nenhuma'],\n",
              " ['relatava', 'acontecimento'],\n",
              " ['sabia', 'adulta'],\n",
              " ['poderia', 'tornar'],\n",
              " ['atraente', 'texto'],\n",
              " ['usasse', 'exemplo'],\n",
              " ['algumas', 'coisas'],\n",
              " ['emolduram', 'vida'],\n",
              " ['coisa', 'romance'],\n",
              " ['personagem', 'entretanto'],\n",
              " ['arriscando', 'rótulo'],\n",
              " ['escritora', 'difícil'],\n",
              " ['admitindo', 'ter'],\n",
              " ['público', 'reduzido'],\n",
              " ['conseguiria', 'abrir'],\n",
              " ['mão', 'traçado:'],\n",
              " ['gente', 'cose'],\n",
              " ['coso', 'dentro'],\n",
              " ['afastou', 'escritores'],\n",
              " ['opção', 'engajamento'],\n",
              " ['defendem', 'valores'],\n",
              " ['morais', 'políticos'],\n",
              " ['sociais', 'outros'],\n",
              " ['cuja', 'literatura'],\n",
              " ['dirigida', 'planificada'],\n",
              " ['fim', 'exaltar'],\n",
              " ['valores', 'geralmente'],\n",
              " ['impostos', 'poderes'],\n",
              " ['políticos', 'religiosos'],\n",
              " ['etc', 'muitas'],\n",
              " ['vezes', 'alheios'],\n",
              " ['escritor', 'nome'],\n",
              " ['outra', 'forma'],\n",
              " ['questionar', 'realidade'],\n",
              " ['nela', 'intervir'],\n",
              " ['através', 'literatura'],\n",
              " ['talvez', 'saber'],\n",
              " ['clarice', 'optando'],\n",
              " ['tipo', 'escrita'],\n",
              " ['característica', 'escritor'],\n",
              " ['moderno', 'dizer'],\n",
              " ['crítico', 'francês'],\n",
              " ['roland', 'barthes'],\n",
              " ['escrever', 'fazer'],\n",
              " ['centro', 'processo'],\n",
              " ['palavra', 'efetuar'],\n",
              " ['escritura', 'afetando'],\n",
              " ['si', 'próprio'],\n",
              " ['fazer', 'coincidir'],\n",
              " ['ação', 'afeição'],\n",
              " ['via', 'formula'],\n",
              " ['outra', 'qualidade'],\n",
              " ['experiência', 'envolvida'],\n",
              " ['escrita', 'nova'],\n",
              " ['perspectiva', 'linguagem'],\n",
              " ['concebida:', 'importante'],\n",
              " ['relatar', 'fato'],\n",
              " ['praticar', 'autoconhecimento'],\n",
              " ['alargamento', 'conhecimento'],\n",
              " ['mundo', 'através'],\n",
              " ['exercício', 'linguagem'],\n",
              " ['hora', 'estrela'],\n",
              " ['leva', 'proposta'],\n",
              " ['últimas', 'conseqüências'],\n",
              " ['leitura', 'torna'],\n",
              " ['tão', 'instigante'],\n",
              " ['certo', 'aqui'],\n",
              " ['reencontramos', 'agudeza'],\n",
              " ['investigação', 'natureza'],\n",
              " ['psicologia', 'humanas'],\n",
              " ['gosto', 'minúcia'],\n",
              " ['patente', 'trato'],\n",
              " ['dado', 'palavra'],\n",
              " ['tão', 'peculiares'],\n",
              " ['clarice', 'lispector'],\n",
              " ['lermos', 'livro'],\n",
              " ['hora', 'vez'],\n",
              " ['inserindo', 'conjunto'],\n",
              " ['obra', 'constataremos'],\n",
              " ['existe', 'algo'],\n",
              " ['novo', 'além'],\n",
              " ['insólito', 'prefácio'],\n",
              " ['forma', 'dedicatória'],\n",
              " ['frouxidão', 'enredo'],\n",
              " ['mescla', 'linguagem'],\n",
              " ['sutil', 'tom'],\n",
              " ['desnudo', 'cru'],\n",
              " ['ainda', 'intimidade'],\n",
              " ['choque', 'social'],\n",
              " ['apresentado', 'aqui'],\n",
              " ['autora', 'aborda'],\n",
              " ['frente', 'embate'],\n",
              " ['escritor', 'moderno'],\n",
              " ['melhor', 'escritor'],\n",
              " ['brasileiro', 'moderno'],\n",
              " ['condição', 'indigente'],\n",
              " ['população', 'brasileira'],\n",
              " ['deixar', 'lado'],\n",
              " ['afinal', 'contas'],\n",
              " ['traz', 'assinatura'],\n",
              " ['clarice', 'lispector'],\n",
              " ['reflexão', 'sobre'],\n",
              " ['mulher', 'discussão'],\n",
              " ['arma', 'partir'],\n",
              " ['estórias', 'entrecruzam'],\n",
              " ['acorde', 'musical:'],\n",
              " ['vida', 'macabéa'],\n",
              " ['imigrante', 'nordestina'],\n",
              " ['vive', 'desajustada'],\n",
              " ['rio', 'janeiro;'],\n",
              " ['autor', 'livro'],\n",
              " ['embora', 'rosto'],\n",
              " ['definido', 'conhecer'],\n",
              " ['comentários', 'faz;'],\n",
              " ['ainda', 'estória'],\n",
              " ['próprio', 'ato'],\n",
              " ['escrever', 'verdade'],\n",
              " ['última', 'estória'],\n",
              " ['promove', 'grande'],\n",
              " ['elo', 'todas'],\n",
              " ['escrever', 'livro'],\n",
              " ['escrever', 'macabéa'],\n",
              " ['sobretudo', 'escrever'],\n",
              " ['si', 'eis'],\n",
              " ['grande', 'desafio'],\n",
              " ['dessa', 'proposta'],\n",
              " ['cria', 'dramaticidade'],\n",
              " ['narrativa', 'pois'],\n",
              " ['escrita', 'envolve'],\n",
              " ['múltiplas', 'complexas'],\n",
              " ['relações:', 'escritor'],\n",
              " ['texto', 'escritor'],\n",
              " ['público', 'escritor'],\n",
              " ['personagem', 'tão'],\n",
              " ['distante', 'universo'],\n",
              " ['linguagem', 'moeda'],\n",
              " ['comunicação', 'homens'],\n",
              " ['ganha', 'foros'],\n",
              " ['personagem', 'personagem'],\n",
              " ['crise', 'emergem'],\n",
              " ['indagações:', 'palavra'],\n",
              " ['usa', 'expressa'],\n",
              " ['verdadeiramente?', 'linguagem'],\n",
              " ['funda', 'realidade?'],\n",
              " ['palavra', 'distancia'],\n",
              " ['aproxima', 'pessoas?'],\n",
              " ['dispor', 'palavra'],\n",
              " ['dom', 'maldição?'],\n",
              " ['palavra', 'cabe'],\n",
              " ['artista', 'contemporâneo?'],\n",
              " ['palavra', 'adequa'],\n",
              " ['escritor', 'terceiromundista'],\n",
              " ['falar', 'brasil'],\n",
              " ['miserável?', 'papel'],\n",
              " ['espera', 'artista?'],\n",
              " ['assim', 'posto'],\n",
              " ['enredo', 'fugaz'],\n",
              " ['aparência', 'revela'],\n",
              " ['algumas', 'linhas'],\n",
              " ['sustentação', 'jogo'],\n",
              " ['linguagem', 'poder'],\n",
              " ['conhecimento', 'comunicação'],\n",
              " ['convencimento', 'debatem'],\n",
              " ['existência', 'humana'],\n",
              " ['laços', 'sociais'],\n",
              " ['patente', 'isolamento'],\n",
              " ['pessoas', 'parece'],\n",
              " ['conduzir', 'reflexão'],\n",
              " ['sobre', 'condição'],\n",
              " ['humano', 'agravada'],\n",
              " ['tipo', 'organização'],\n",
              " ['social', 'segrega'],\n",
              " ['indivíduos', 'si'],\n",
              " ['artista', 'constata'],\n",
              " ['exílio', 'homem'],\n",
              " ['própria', 'terra'],\n",
              " ['respostas', 'prontas'],\n",
              " ['justifiquem', 'inquietação'],\n",
              " ['move', 'faz'],\n",
              " ['escreva', 'tente'],\n",
              " ['descobrir', 'escrita'],\n",
              " ['própria', 'identidade'],\n",
              " ['própria', 'humanidade'],\n",
              " ['cara', 'cara'],\n",
              " ['outra', 'qualquer'],\n",
              " ['pessoa', 'hora'],\n",
              " ['estrela', 'empreendimento'],\n",
              " ['assume', 'ousadia'],\n",
              " ['profundidade', 'inusitadas'],\n",
              " ['escritor', 'solta'],\n",
              " ['amarras', 'vai'],\n",
              " ['fundo', 'poço:'],\n",
              " ['origens', 'contradições'],\n",
              " ['sociedade', 'vive'],\n",
              " ['tal', 'tomando'],\n",
              " ['base', 'linguagem'],\n",
              " ['dispõe', 'três'],\n",
              " ['tipos', 'abordagem:'],\n",
              " ['filosófica', 'social'],\n",
              " ['estética', 'perspectiva'],\n",
              " ['filosófica', 'limites'],\n",
              " ['alcances', 'conhecimento'],\n",
              " ['mundo', 'diante'],\n",
              " ['á', 'palavra'],\n",
              " ['consciência', 'através'],\n",
              " ['quais', 'humano'],\n",
              " ['distingue', 'outros'],\n",
              " ['seres', 'perspectiva'],\n",
              " ['social', 'investiga'],\n",
              " ['impasses', 'criados'],\n",
              " ['separação', 'indivíduos'],\n",
              " ['diferentes', 'grupos'],\n",
              " ['dando', 'destaque'],\n",
              " ['inserção', 'escritor'],\n",
              " ['nordestino', 'sociedade'],\n",
              " ['brasileira;', 'perspectiva'],\n",
              " ['estética', 'sonda'],\n",
              " ['gesto', 'criador'],\n",
              " ['trabalho', 'busca'],\n",
              " ['expressão', 'inaugure'],\n",
              " ['apreensão', 'original'],\n",
              " ['real', 'três'],\n",
              " ['aspectos', 'claro'],\n",
              " ['apresentam', 'forma'],\n",
              " ['imbricada', 'livro'],\n",
              " ['ângulo', 'filosófico'],\n",
              " ['evidência', 'origens'],\n",
              " ['perdem', 'tempo'],\n",
              " ['impossível', 'voltar'],\n",
              " ['época', 'coisas'],\n",
              " ['acontecem', 'antes'],\n",
              " ['acontecer', 'leva'],\n",
              " ['indivíduo', 'estado'],\n",
              " ['perplexidade', 'afirmar'],\n",
              " ['tudo', 'mundo'],\n",
              " ['começou', 'sim'],\n",
              " ['narrador', 'revela'],\n",
              " ['sabe', 'coisas'],\n",
              " ['criam', 'ato'],\n",
              " ['vontade', 'afirmação'],\n",
              " ['sabe', 'portanto'],\n",
              " ['modo', 'algo'],\n",
              " ['passa', 'existir'],\n",
              " ['compreensão', 'deste'],\n",
              " ['algo', 'entanto'],\n",
              " ['esbarra', 'naquilo'],\n",
              " ['antecedeu', 'possibilitou'],\n",
              " ['expressão', 'vontade'],\n",
              " ['possibilitou', 'sim'],\n",
              " ['então', 'escolha'],\n",
              " ['fizesse', 'importante'],\n",
              " ['modo', 'algo'],\n",
              " ['existia', 'ganha'],\n",
              " ['existência', 'problema'],\n",
              " ['fundamental', 'origem'],\n",
              " ['começo', 'tudo'],\n",
              " ['situa', 'ordem'],\n",
              " ['temporal', 'inapreensível'],\n",
              " ['homem:', 'sempre'],\n",
              " ['sei', 'quê'],\n",
              " ['sei', 'universo'],\n",
              " ['jamais', 'começou'],\n",
              " ['assim', 'pessoa'],\n",
              " ['faz', 'intermináveis'],\n",
              " ['perguntas', 'vive'],\n",
              " ['série', 'faltas'],\n",
              " ['única', 'verdade'],\n",
              " ['indiscutível', 'existências'],\n",
              " ['individuais', 'intui'],\n",
              " ['certo', 'identificação'],\n",
              " ['todos', 'unidade'],\n",
              " ['todos', 'unificação'],\n",
              " ['mostra', 'principalmente'],\n",
              " ['carência', 'pobreza'],\n",
              " ['dinheiro', 'pobreza'],\n",
              " ['espírito', 'saudade'],\n",
              " ['faltar', 'coisa'],\n",
              " ['preciosa', 'ouro'],\n",
              " ['existe', 'falte'],\n",
              " ['delicado', 'essencial'],\n",
              " ['fica', 'apenas'],\n",
              " ['constatação', 'cada'],\n",
              " ['fragmento', 'parte'],\n",
              " ['algo', 'daí'],\n",
              " ['projetar', 'sentido'],\n",
              " ['último', 'realidade'],\n",
              " ['realidade', 'sempre'],\n",
              " ['faltando', 'dolorosamente'],\n",
              " ['ainda', 'existe'],\n",
              " ['consciência', 'cada'],\n",
              " ['advertindo', 'sobre'],\n",
              " ['vazio', 'empenho'],\n",
              " ['transpô', 'lo'],\n",
              " ['consciência', 'aflora'],\n",
              " ['atributo', 'humano'],\n",
              " ['paradoxal:', 'instrumentos'],\n",
              " ['tentar', 'responder'],\n",
              " ['indagações', 'possibilita'],\n",
              " ['busque', 'sentido'],\n",
              " ['vida', 'desponta'],\n",
              " ['fonte', 'dúvidas'],\n",
              " ['assinalando', 'ruptura'],\n",
              " ['cada', 'individual'],\n",
              " ['modo', 'existência'],\n",
              " ['originário', 'tudo'],\n",
              " ['todo', 'cheio'],\n",
              " ['harmonia', 'consciência'],\n",
              " ['condição', 'liberdade'],\n",
              " ['simultaneamente', 'aprisionamento'],\n",
              " ['nostalgia', 'integração'],\n",
              " ['total', 'cosmos'],\n",
              " ['confere', 'certa'],\n",
              " ['tragicidade', 'projeto'],\n",
              " ['narrador', 'pois'],\n",
              " ['tempo', 'sabe'],\n",
              " ['independente', 'gosta'],\n",
              " ['sê', 'lo'],\n",
              " ['anseia', 'identificação'],\n",
              " ['completa', 'outro'],\n",
              " ['comunicação', 'direta'],\n",
              " ['obstáculos', 'acabaria'],\n",
              " ['anulando', 'individualidade'],\n",
              " ['autonomia', 'vivência'],\n",
              " ['culpa', 'erro'],\n",
              " ['fundamental', 'sanado'],\n",
              " ['desponta', 'desde'],\n",
              " ['primeiro', 'subtítulo'],\n",
              " ['livro', 'culpa'],\n",
              " ['sempre', 'retorna'],\n",
              " ['sintomas', 'deste'],\n",
              " ['desgarramento', 'homem'],\n",
              " ['mundo', 'vendo'],\n",
              " ['cerradas', 'portas'],\n",
              " ['acesso', 'unidade'],\n",
              " ['originária', 'vai'],\n",
              " ['investigar', 'solitário'],\n",
              " ['dinâmica', 'existência'],\n",
              " ['individual', 'escolha'],\n",
              " ['macabéa', 'anônima'],\n",
              " ['incompetente', 'vida'],\n",
              " ['integra', 'determinação'],\n",
              " ['inclui', 'busca'],\n",
              " ['regressão', 'inumano'],\n",
              " ['trata', 'apenas'],\n",
              " ['narrativa', 'antes'],\n",
              " ['tudo', 'vida'],\n",
              " ['primária', 'respira'],\n",
              " ['respira', 'respira'],\n",
              " ['expiação', 'possível'],\n",
              " ['culpa', 'narrador'],\n",
              " ['perpassado', 'toda'],\n",
              " ['sorte', 'indagações'],\n",
              " ['sobre', 'existir'],\n",
              " ['atormentado', 'incompletude'],\n",
              " ['dualidade', 'natureza'],\n",
              " ['humana', 'quais'],\n",
              " ['respostas', 'precárias'],\n",
              " ['converte', 'busca'],\n",
              " ['única', 'certeza'],\n",
              " ['daí', 'decorrem'],\n",
              " ['menos', 'dois'],\n",
              " ['movimentos', 'centrais'],\n",
              " ['narrativa', 'primeiro'],\n",
              " ['toda', 'busca'],\n",
              " ['toda', 'pergunta'],\n",
              " ['busca', 'algo'],\n",
              " ['pergunta', 'alguém'],\n",
              " ['narrador', 'saber'],\n",
              " ['desdobrar', 'dialogar'],\n",
              " ['situação', 'comunicativa'],\n",
              " ['banal', 'passa'],\n",
              " ['despercebido', 'projeta'],\n",
              " ['narrador', 'condição'],\n",
              " ['essencial', 'ser:'],\n",
              " ['apreender', 'si'],\n",
              " ['inclui', 'confronto'],\n",
              " ['outro', 'tempo'],\n",
              " ['projeção', 'traz'],\n",
              " ['implícito', 'retorno'],\n",
              " ['si', 'tenta'],\n",
              " ['unificar', 'único'],\n",
              " ['sujeito', 'individual'],\n",
              " ['elementos', 'presentes'],\n",
              " ['outros', 'seres'],\n",
              " ['universo', 'dois'],\n",
              " ['movimentos', 'tensão'],\n",
              " ['permanente', 'interior'],\n",
              " ['obra', 'narrador'],\n",
              " ['mantém', 'interlocutor'],\n",
              " ['deus', 'leitor'],\n",
              " ['macabéa', 'postura'],\n",
              " ['ambivalente', 'identificação'],\n",
              " ['afastamento', 'enquanto'],\n",
              " ['artista', 'aproxima'],\n",
              " ['deus', 'ambos'],\n",
              " ['criadores', 'fazê'],\n",
              " ['lo', 'cena'],\n",
              " ['forma', 'humaniza'],\n",
              " ['diviniza', 'si'],\n",
              " ['tempo', 'entanto'],\n",
              " ['deus', 'permanece'],\n",
              " ['enquanto', 'figura'],\n",
              " ['abstrata', 'dominadora'],\n",
              " ['corporifica', 'idéia'],\n",
              " ['totalidade', 'nisto'],\n",
              " ['constitui', 'ente'],\n",
              " ['demoníaco', 'diante'],\n",
              " ['homem', 'condenado'],\n",
              " ['expressar', 'palavras'],\n",
              " ['fadado', 'morrer'],\n",
              " ['apequena', 'vosso'],\n",
              " ['deus', 'mandou'],\n",
              " ['inventar', 'leitor'],\n",
              " ['ora', 'alguém'],\n",
              " ['solidariza', 'dor'],\n",
              " ['desamparo', 'ora'],\n",
              " ['alguém', 'quer'],\n",
              " ['distância', 'macabéa'],\n",
              " ['nordestina', 'afasta'],\n",
              " ['abismo', 'social'],\n",
              " ['separa', 'meio'],\n",
              " ['tensão', 'homem'],\n",
              " ['mundo', 'surge'],\n",
              " ['debate', 'torno'],\n",
              " ['palavra', 'sendo'],\n",
              " ['narrador', 'escritor'],\n",
              " ['diálogo', 'mediado'],\n",
              " ['palavra', 'tal'],\n",
              " ['consciência', 'palavra'],\n",
              " ['faca', 'dois'],\n",
              " ['gumes', 'pois'],\n",
              " ['tempo', 'constitui'],\n",
              " ['instrumento', 'aproximação'],\n",
              " ['risco', 'palavra'],\n",
              " ['artista', 'abusar'],\n",
              " ['poder', 'aniquilar'],\n",
              " ['palavra', 'macabéa'],\n",
              " ['disso', 'resultaria'],\n",
              " ['fracasso', 'dessa'],\n",
              " ['experiência', 'ficcional'],\n",
              " ['caso', 'significaria'],\n",
              " ['fracasso', 'projeto'],\n",
              " ['escrever', 'enquanto'],\n",
              " ['projeto', 'existencial'],\n",
              " ['tudo', 'hora'],\n",
              " ['estrela', 'acha'],\n",
              " ['mergulhado', 'desassossego'],\n",
              " ['ausência', 'sentido'],\n",
              " ['tudo', 'todos'],\n",
              " ['livro', 'caça'],\n",
              " ['narrador', 'escritor'],\n",
              " ['diante', 'morte'],\n",
              " ['deus', 'enquanto'],\n",
              " ['horizonte', 'sentido'],\n",
              " ['homem', 'homem'],\n",
              " ['tempo', 'padece'],\n",
              " ['figura', 'poderosa'],\n",
              " ['criador', 'vai'],\n",
              " ['então', 'vasculhar'],\n",
              " ['interioridade', 'entanto'],\n",
              " ['sempre', 'escapa'],\n",
              " ['vai', 'indagar'],\n",
              " ['sentido', 'existência'],\n",
              " ['macabéa', 'tosca'],\n",
              " ['manifestação', 'vida'],\n",
              " ['nesta', 'verdadeira'],\n",
              " ['viagem', 'põe'],\n",
              " ['nu', 'imagem'],\n",
              " ['escritor', 'denuncia'],\n",
              " ['mentira', 'palavra'],\n",
              " ['transparente', 'verdadeira'],\n",
              " ['usada', 'forma'],\n",
              " ['comunicação', 'homens'],\n",
              " ['homem', 'consigo'],\n",
              " ['trajetória', 'aproxima'],\n",
              " ['clarice', 'lispector'],\n",
              " ['outros', 'escritores'],\n",
              " ['modernos', 'fernando'],\n",
              " ['pessoa', 'colocaram'],\n",
              " ['sob', 'suspeita'],\n",
              " ['comunicação', 'direta'],\n",
              " ['perspectiva', 'social'],\n",
              " ['vai', 'assim'],\n",
              " ['definindo', 'reflexão'],\n",
              " ['sobre', 'projeto'],\n",
              " ['ficcional', 'hora'],\n",
              " ['estrela', 'meio'],\n",
              " ['denuncia', 'máscaras'],\n",
              " ['sociais', 'encobrem'],\n",
              " ['crise', 'fundamental'],\n",
              " ['indivíduo', 'alienado'],\n",
              " ['si', 'rígidos'],\n",
              " ['papéis', 'sociais'],\n",
              " ['escrever', 'livro'],\n",
              " ['forma', 'autoconhecimento'],\n",
              " ['escrevendo', 'hora'],\n",
              " ['mesma', 'lido'],\n",
              " ['levado', 'últimas'],\n",
              " ['conseqüências', 'elege'],\n",
              " ['heroína', 'alguém'],\n",
              " ['tão', 'inexpressivo'],\n",
              " ['macabéa', 'escrever'],\n",
              " ['implica', 'desnudar'],\n",
              " ['aceitar', 'dor'],\n",
              " ['envolvida', 'neste'],\n",
              " ['processo;', 'escrever'],\n",
              " ['macabéa', 'significa'],\n",
              " ['enfrentar', 'desamparo'],\n",
              " ['palavra', 'tenta'],\n",
              " ['ajustar', 'essência'],\n",
              " ['natureza', 'constrói'],\n",
              " ['forma', 'personagem'],\n",
              " ['narrador', 'escritor'],\n",
              " ['coloca', 'desde'],\n",
              " ['início', 'drama'],\n",
              " ['afirmar:', 'desconhecido'],\n",
              " ['responder', 'falta'],\n",
              " ['sentido', 'põe'],\n",
              " ['mostra', 'condição'],\n",
              " ['artista', 'desmistifica'],\n",
              " ['lugar', 'pessoa'],\n",
              " ['eleita', 'antecedentes'],\n",
              " ['escrever?', 'homem'],\n",
              " ['dinheiro', 'passam'],\n",
              " ['fome', 'faz'],\n",
              " ['mim', 'algum'],\n",
              " ['modo', 'desonesto'],\n",
              " ['ironiza', 'dificuldade'],\n",
              " ['inserção', 'escritor'],\n",
              " ['sociedade', 'sim'],\n",
              " ['classe', 'social'],\n",
              " ['marginalizado', 'classe'],\n",
              " ['alta', 'monstro'],\n",
              " ['esquisito', 'média'],\n",
              " ['desconfiança', 'possa'],\n",
              " ['desequilibrá', 'la'],\n",
              " ['classe', 'baixa'],\n",
              " ['nunca', 'vem'],\n",
              " ['mim', 'desmascara'],\n",
              " ['preconceito', 'contra'],\n",
              " ['escritora', 'mulher'],\n",
              " ['aliás', 'descubro'],\n",
              " ['agora', 'faço'],\n",
              " ['menor', 'falta'],\n",
              " ['escrevo', 'outro'],\n",
              " ['escreveria', 'outro'],\n",
              " ['escritor', 'sim'],\n",
              " ['homem', 'porque'],\n",
              " ['escritora', 'mulher'],\n",
              " ['pode', 'lacrimejar'],\n",
              " ['piegas:', 'põe'],\n",
              " ['cheque', 'importância'],\n",
              " ['trabalho', 'diante'],\n",
              " ['manifestação', 'vida:'],\n",
              " ['quanto', 'escrever'],\n",
              " ['vale', 'cachorro'],\n",
              " ['vivo', 'ironia'],\n",
              " ['empregada', 'narrador'],\n",
              " ['leva', 'entanto'],\n",
              " ['outro', 'aspecto'],\n",
              " ['existência', 'mesma'],\n",
              " ['livro', 'confirma:'],\n",
              " ['crédito', 'atribuído'],\n",
              " ['ficção', 'via'],\n",
              " ['acesso', 'compreensão'],\n",
              " ['mundo', 'outras'],\n",
              " ['passagens', 'livro'],\n",
              " ['mostram', 'existe'],\n",
              " ['outro', 'modo'],\n",
              " ['narrar', 'difícil'],\n",
              " ['certo', 'permite'],\n",
              " ['provocar', 'novo'],\n",
              " ['olhar', 'sobre'],\n",
              " ['vida', 'método'],\n",
              " ['trabalho', 'configura'],\n",
              " ['verdadeiro', 'ritual'],\n",
              " ['iniciação', 'esquentando'],\n",
              " ['corpo', 'iniciar'],\n",
              " ['esfregando', 'mãos'],\n",
              " ['outra', 'ter'],\n",
              " ['coragem', 'consiste'],\n",
              " ['eliminar', 'supérfluo'],\n",
              " ['porque', 'assim'],\n",
              " ['poderá', 'captar'],\n",
              " ['fracas', 'aventuras'],\n",
              " ['moça', 'cidade'],\n",
              " ['toda', 'feita'],\n",
              " ['contra', 'atitude'],\n",
              " ['diante', 'macabéa'],\n",
              " ['continuidade', 'atitude'],\n",
              " ['diante', 'linguagem'],\n",
              " ['falar', 'moça'],\n",
              " ['fazer', 'barba'],\n",
              " ['durante', 'dias'],\n",
              " ['adquirir', 'olheiras'],\n",
              " ['escuras', 'dormir'],\n",
              " ['pouco', 'vestir'],\n",
              " ['roupa', 'velha'],\n",
              " ['rasgada', 'tudo'],\n",
              " ['nível', 'nordestina'],\n",
              " ['travestir', 'pretende'],\n",
              " ['ocultar', 'disfarce'],\n",
              " ['fazer', 'si'],\n",
              " ['terreno', 'propício'],\n",
              " ['voz', 'presença'],\n",
              " ['macabéa', 'ganhem'],\n",
              " ['existência', 'traição'],\n",
              " ['sabendo', 'corre'],\n",
              " ['risco', 'perda'],\n",
              " ['comunicação', 'moldes'],\n",
              " ['canonizados', 'vê'],\n",
              " ['portanto', 'narrador'],\n",
              " ['escritor', 'tece'],\n",
              " ['paralelo', 'certa'],\n",
              " ['postura', 'física'],\n",
              " ['espiritual', 'ética'],\n",
              " ['postura', 'diante'],\n",
              " ['instrumento', 'trabalho'],\n",
              " ['palavra', 'pode'],\n",
              " ['enfeitada', 'artisticamente'],\n",
              " ['vã', 'apenas'],\n",
              " ['tal', 'opõe'],\n",
              " ['palavra', 'sentido'],\n",
              " ['alienada', 'ilusória'],\n",
              " ['descarta', 'palavraexpressão'],\n",
              " ['nomeadora:', 'escrever'],\n",
              " ['nome', 'real'],\n",
              " ['dado', 'coisas'],\n",
              " ['cada', 'coisa'],\n",
              " ['palavra', 'hora'],\n",
              " ['estrela', 'consiste'],\n",
              " ['verdadeira', 'peregrinação'],\n",
              " ['escuta', 'fala'],\n",
              " ['longo', 'escritor'],\n",
              " ['tenta', 'construir'],\n",
              " ['partir', 'limo'],\n",
              " ['pessoa', 'formiga'],\n",
              " ['macabéa', 'própria'],\n",
              " ['pessoa', 'gigante'],\n",
              " ['deconsciência', 'estrela'],\n",
              " ['pessoa', 'estrela'],\n",
              " ['palavra', 'assim'],\n",
              " ['pessoa', 'rala'],\n",
              " ['muda', 'recolhida'],\n",
              " ['olhar', 'arguto'],\n",
              " ['escritor', 'desorientado'],\n",
              " ['conduzido', 'palavra'],\n",
              " ['desconfiando', 'forma'],\n",
              " ['destino', 'si'],\n",
              " ['próprio', 'moça'],\n",
              " ['nordestina', 'busca'],\n",
              " ['faz', 'fixe'],\n",
              " ['duas', 'metas'],\n",
              " ['aparentemente', 'contraditórias:'],\n",
              " ['simplicidade', 'história'],\n",
              " ['quer', 'exterior'],\n",
              " ['explícita', 'sim'],\n",
              " ['contém', 'segredos'],\n",
              " ['aproximação', 'palavra'],\n",
              " ['silêncio', 'narrador'],\n",
              " ['escritor', 'tal'],\n",
              " ['poeta', 'francês'],\n",
              " ['baudelaire', 'vagando'],\n",
              " ['ruas', 'paris'],\n",
              " ['vã', 'deserto'],\n",
              " ['cidade', 'rio'],\n",
              " ['janeiro', 'decadência'],\n",
              " ['humano', 'através'],\n",
              " ['macabéa', 'representante'],\n",
              " ['milhares', 'moças'],\n",
              " ['espalhadas', 'cortiços'],\n",
              " ['notam', 'sequer'],\n",
              " ['facilmente', 'substituíveis'],\n",
              " ['baudelaire', 'ainda'],\n",
              " ['sente', 'atraído'],\n",
              " ['mundo', 'sórdido'],\n",
              " ['precário', 'artista'],\n",
              " ['vê', 'detrás'],\n",
              " ['máscaras', 'inclui'],\n",
              " ['nessa', 'sociedade'],\n",
              " ['cruel', 'aniquiladora'],\n",
              " ['compraz', 'denúncia'],\n",
              " ['alvos', 'favoritos'],\n",
              " ['leitores', 'deus'],\n",
              " ['todo', 'ambiente'],\n",
              " ['agressivo', 'vive'],\n",
              " ['normalmente', 'desvia'],\n",
              " ['olhar', 'nessa'],\n",
              " ['perambulação', 'constata'],\n",
              " ['algo', 'poderia'],\n",
              " ['ter', 'vingado'],\n",
              " ['vingou', 'dito'],\n",
              " ['livro', 'duas'],\n",
              " ['vezes', 'maneira'],\n",
              " ['faz', 'lembrar'],\n",
              " ['verso', 'conhecido'],\n",
              " ['manuel', 'bandeira'],\n",
              " ['pneumotórax:', 'experimentei'],\n",
              " ['quase', 'tudo'],\n",
              " ['inclusive', 'paixão'],\n",
              " ['desespero', 'agora'],\n",
              " ['queria', 'ter'],\n",
              " ['sido', 'p'],\n",
              " ['gargalhada', 'aterrorizadora'],\n",
              " ['porque', 'acontecia'],\n",
              " ['passado', 'imaginação'],\n",
              " ['maléfica', 'trazia'],\n",
              " ['presente', 'saudade'],\n",
              " ['poderia', 'ter'],\n",
              " ['sido', 'p'],\n",
              " ['primeira', 'vez'],\n",
              " ['refere', 'escritor;'],\n",
              " ['segunda', 'macabéa'],\n",
              " ['aí', 'pode'],\n",
              " ['inferir', 'vivência'],\n",
              " ['restrita', 'realidade'],\n",
              " ['particular', 'sim'],\n",
              " ['coletiva', 'perspectiva'],\n",
              " ['ampla', 'porque'],\n",
              " ['pano', 'fundo'],\n",
              " ['encontro', 'mundo'],\n",
              " ['deus', 'ousadia'],\n",
              " ['desmascaramento', 'reflete'],\n",
              " ['meticulosidade', 'grotesco'],\n",
              " ['feiúra', 'macabéa'],\n",
              " ['tratados', 'escritor'],\n",
              " ['descreve', 'ombros'],\n",
              " ['curvos', 'cerzideira'],\n",
              " ['corpo', 'cariado'],\n",
              " ['acaso', 'feto'],\n",
              " ['jogado', 'lata'],\n",
              " ['lixo', 'embrulhado'],\n",
              " ['jornal', 'interesse'],\n",
              " ['feio', 'grotesco'],\n",
              " ['dado', 'ligação'],\n",
              " ['desta', 'obra'],\n",
              " ['tradição', 'modernidade'],\n",
              " ['trata', 'feio'],\n",
              " ['apenas', 'elemento'],\n",
              " ['cômico', 'inferioridade'],\n",
              " ['moral', 'eleva'],\n",
              " ['plano', 'valores'],\n",
              " ['metafísicos', 'coisa'],\n",
              " ['incompleta', 'discordante'],\n",
              " ['feio', 'afirma'],\n",
              " ['fragmentário', 'vida'],\n",
              " ['macabéa', 'matéria'],\n",
              " ['orgânica', 'exemplo'],\n",
              " ['concreto', 'existência'],\n",
              " ['ara', 'nada'],\n",
              " ['sobretudo', 'porque'],\n",
              " ['expõe', 'apenas'],\n",
              " ['maior', 'evidência'],\n",
              " ['ausência', 'sentido'],\n",
              " ['atinge', 'todos'],\n",
              " ['escritor', 'tenta'],\n",
              " ['penetrar', 'nessa'],\n",
              " ['feiúra', 'extrema'],\n",
              " ['intuito', 'recobrar'],\n",
              " ['ainda', 'guarda'],\n",
              " ['estrela', 'idealidade'],\n",
              " ['grotesco', 'vem'],\n",
              " ['exprimir', 'encontro'],\n",
              " ['violento', 'divino'],\n",
              " ['diabólico', 'autor'],\n",
              " ['procura', 'danadamente'],\n",
              " ['achar', 'nessa'],\n",
              " ['existência', 'menos'],\n",
              " ['topázio', 'esplendor'],\n",
              " ['grifo', 'algum'],\n",
              " ['brilho', 'irá'],\n",
              " ['avivar', 'contraste'],\n",
              " ['insuficiência', 'real'],\n",
              " ['macabéa', 'tudo'],\n",
              " ['tudo', 'oposto'],\n",
              " ['herói', 'épico'],\n",
              " ['trajetória', 'vida'],\n",
              " ['aponta', 'inviabilidade'],\n",
              " ['grandes', 'feitos'],\n",
              " ['sociedade', 'moderna'],\n",
              " ['retomando', 'conceito'],\n",
              " ['crítico', 'alemão'],\n",
              " ['walter', 'benjamin'],\n",
              " ['pode', 'afirmar'],\n",
              " ['sequer', 'experiência'],\n",
              " ['vida', 'memória'],\n",
              " ['dia', 'pudesse'],\n",
              " ['soubesse', 'resgatar'],\n",
              " ['máximo', 'canto'],\n",
              " ['galo', 'faz'],\n",
              " ['lembre', 'terra'],\n",
              " ['infância', 'território'],\n",
              " ['espúrio', 'proveniente'],\n",
              " ['meio', 'rude'],\n",
              " ['órfã', 'pai'],\n",
              " ['mãe', 'criada'],\n",
              " ['pancadas', 'tia'],\n",
              " ['macabéa', 'propriamente'],\n",
              " ['história', 'pessoal'],\n",
              " ['felicidade', 'conceito'],\n",
              " ['oco', 'índole'],\n",
              " ['passiva', 'torna'],\n",
              " ['presa', 'fácil'],\n",
              " ['mitos', 'produtos'],\n",
              " ['indústria', 'cultural'],\n",
              " ['admira', 'grandes'],\n",
              " ['estrelas', 'cinema'],\n",
              " ['sente', 'fascinada'],\n",
              " ['anúncios', 'publicitários'],\n",
              " ['notícias', 'descosidas'],\n",
              " ['rádio', 'relógio'],\n",
              " ['integram', 'contexto'],\n",
              " ['alienante', 'dentro'],\n",
              " ['cotidiano', 'faz'],\n",
              " ['tempo', 'meramente'],\n",
              " ['físico', 'desprovido'],\n",
              " ['ação', 'subjetiva'],\n",
              " ['interaja', 'proposta'],\n",
              " ['transformação', 'inexiste'],\n",
              " ['passado;', 'inexiste'],\n",
              " ['projeto', 'futuro'],\n",
              " ['quotidiano', 'macabéa'],\n",
              " ['confirma', 'cada'],\n",
              " ['detalhe', 'inabilidade'],\n",
              " ['despreparo', 'enfrentamento'],\n",
              " ['elementar', 'diante'],\n",
              " ['dificuldades', 'inerentes'],\n",
              " ['vida', 'pouco'],\n",
              " ['habilitada', 'trabalho;'],\n",
              " ['fracassa', 'amor'],\n",
              " ['única', 'conquista'],\n",
              " ['amorosa', 'desajeitado'],\n",
              " ['olimpo', 'foge'],\n",
              " ['mãos', 'água'],\n",
              " ['parece', 'esgotada'],\n",
              " ['denúncia', 'fragilidade'],\n",
              " ['pormenor', 'desponta'],\n",
              " ['boneca', 'animada'],\n",
              " ['macabéa', 'estimulasse'],\n",
              " ['forças', 'negativas'],\n",
              " ['mundo', 'acentuando'],\n",
              " ['lugar', 'vítima'],\n",
              " ['desenlace', 'trágico'],\n",
              " ['atropelamento', 'estória'],\n",
              " ['macabéa', 'resume'],\n",
              " ['sobrevivência', 'quase'],\n",
              " ['inumana', 'pois'],\n",
              " ['tudo', 'sente'],\n",
              " ['deseja', 'dispõe'],\n",
              " ['palavras', 'expressar'],\n",
              " ['assim', 'testemunho'],\n",
              " ['veemente', 'falta'],\n",
              " ['deposse', 'sobre'],\n",
              " ['si', 'mesma'],\n",
              " ['sobre', 'mundo'],\n",
              " ['maneira', 'lida'],\n",
              " ['palavra', 'priva'],\n",
              " ['palavra', 'permanece'],\n",
              " ['silêncio', 'opção'],\n",
              " ['maneira', 'precária'],\n",
              " ['oposição', 'silêncio'],\n",
              " ['enquanto', 'momento'],\n",
              " ['linguagem', 'fala'],\n",
              " ['sartre', ';'],\n",
              " ['fala', 'dissonância'],\n",
              " ['sempre', 'expressa'],\n",
              " ['inadequadamente', 'mostra'],\n",
              " ['interesse', 'palavras'],\n",
              " ['conceitos', 'reveladores'],\n",
              " ['condição', 'existencial'],\n",
              " ['social', 'descontextualizados'],\n",
              " ['levam', 'autoconhecimento'],\n",
              " ['vale', 'magia'],\n",
              " ['secreta', 'termos'],\n",
              " ['designar', 'mimetismo'],\n",
              " ['efeméride', 'renda'],\n",
              " ['per', 'capita'],\n",
              " ['conde', 'somente'],\n",
              " ['despertam', 'nela'],\n",
              " ['curiosidade', 'infantil?'],\n",
              " ['próprio', 'nome'],\n",
              " ['adverte', 'ara'],\n",
              " ['contrasenso', 'pois'],\n",
              " ['nada', 'aproxima'],\n",
              " ['índole', 'heróica'],\n",
              " ['macabeus', 'povo'],\n",
              " ['guerreiro', 'história'],\n",
              " ['hebreus', 'perspectiva'],\n",
              " ['estética', 'vem'],\n",
              " ['propósito', 'evitar'],\n",
              " ['falseamento', 'realidade'],\n",
              " ['narradorescritor', 'escolhe'],\n",
              " ['nova', 'maneira'],\n",
              " ['olhar', 'nova'],\n",
              " ['postura', 'diante'],\n",
              " ['narrar', 'indicadas'],\n",
              " ['livro', 'distração'],\n",
              " ['flash', 'fotográfico'],\n",
              " ['ambos', 'destaca'],\n",
              " ['idéia', 'relance'],\n",
              " ['súbita', 'visão'],\n",
              " ['desarma', 'permitindo'],\n",
              " ['apreenda', 'algo'],\n",
              " ['resiste', 'descoberto'],\n",
              " ['analogias', 'palavra'],\n",
              " ['sonho', 'pedra'],\n",
              " ['silêncio', 'vão'],\n",
              " ['mesma', 'direção'],\n",
              " ['sonhos', 'deixam'],\n",
              " ['fluir', 'penumbra'],\n",
              " ['atormentada', 'atormentada'],\n",
              " ['porque', 'toca'],\n",
              " ['verdade', 'sempre'],\n",
              " ['contato', 'interior'],\n",
              " ['inexplicável', 'aventura'],\n",
              " ['paradoxal', 'dessa'],\n",
              " ['ficção', 'consiste'],\n",
              " ['pôr', 'claras'],\n",
              " ['algo', 'caracteriza'],\n",
              " ['obscuridade', 'conseguir'],\n",
              " ['integração', 'palavra'],\n",
              " ['sentido', 'trata'],\n",
              " ['primeira', 'corpo'],\n",
              " ['trabalhado', 'põe'],\n",
              " ['frente', 'próprio'],\n",
              " ['corpo', 'captar'],\n",
              " ['sinais', 'ocultos'],\n",
              " ['ser:', 'intelectual'],\n",
              " ['escrevo', 'corpo'],\n",
              " ['solidificação', 'fatos'],\n",
              " ['faz', 'leitura'],\n",
              " ['história', 'nordeste'],\n",
              " ['identidade', 'macabéa'],\n",
              " ['è', 'articulação'],\n",
              " ['obra', 'história'],\n",
              " ['literária', 'brasileira'],\n",
              " ['abdica', 'modernoso'],\n",
              " ['satiriza', 'história'],\n",
              " ['começo', 'meio'],\n",
              " ['gran', 'finale'],\n",
              " ['seguido', 'silêncio'],\n",
              " ['chuva', 'caindo'],\n",
              " ['estabelece', 'diálogo'],\n",
              " ['literatura', 'cordel'],\n",
              " ['nordeste', 'fala'],\n",
              " ['literatura', 'fala'],\n",
              " ['nordeste', 'último'],\n",
              " ['confronto', 'escolhe'],\n",
              " ['nordestino', 'mudou'],\n",
              " ['espaço', 'desenraizou'],\n",
              " ['perdeu', 'respaldo'],\n",
              " ['grupo', 'bloco'],\n",
              " ['estigmatizado', 'mudo'],\n",
              " ['vida', 'grande'],\n",
              " ['metrópole', 'comovido'],\n",
              " ['narrador', 'desvincula'],\n",
              " ['padrão', 'interpretação'],\n",
              " ['realista', 'deixando'],\n",
              " ['vazar', 'ternura'],\n",
              " ['desespero', 'personagens'],\n",
              " ['nordestinas', 'macabéa'],\n",
              " ['olimpo', 'reescreve'],\n",
              " ['assim', 'famosa'],\n",
              " ['frase', 'euclides'],\n",
              " ['cunha', 'sertanejo'],\n",
              " ...]"
            ]
          },
          "execution_count": 143,
          "metadata": {},
          "output_type": "execute_result"
        }
      ],
      "source": [
        "sent = np.array_split(palavras,7110.0)\n",
        "sent = [l.tolist() for l in sent]\n",
        "sent"
      ]
    },
    {
      "cell_type": "markdown",
      "metadata": {
        "id": "O_WnNZ-qMOtf"
      },
      "source": [
        "Agora, vamos definir um modelo do Word2Vec"
      ]
    },
    {
      "cell_type": "code",
      "execution_count": 144,
      "metadata": {
        "id": "pVWoAslHZG02"
      },
      "outputs": [],
      "source": [
        "w2v_model = Word2Vec(min_count=20,\n",
        "                     window=2,\n",
        "                     sample=6e-5, \n",
        "                     alpha=0.03, \n",
        "                     min_alpha=0.0007, \n",
        "                     negative=20)"
      ]
    },
    {
      "cell_type": "markdown",
      "metadata": {
        "id": "kM_ApLDFMSLt"
      },
      "source": [
        "E vamos, finalmente, adicionar vocabulário"
      ]
    },
    {
      "cell_type": "code",
      "execution_count": 145,
      "metadata": {
        "id": "ryJobvtKd2Vt"
      },
      "outputs": [
        {
          "data": {
            "text/plain": [
              "{'porque': 0,\n",
              " 'macabéa': 1,\n",
              " 'pois': 2,\n",
              " 'vida': 3,\n",
              " 'palavra': 4,\n",
              " 'ter': 5,\n",
              " 'tudo': 6,\n",
              " 'nada': 7,\n",
              " 'história': 8,\n",
              " 'sei': 9,\n",
              " 'moça': 10,\n",
              " 'nunca': 11,\n",
              " 'coisa': 12,\n",
              " 'tão': 13,\n",
              " 'si': 14,\n",
              " 'assim': 15,\n",
              " 'mim': 16,\n",
              " 'dizer': 17,\n",
              " 'sim': 18,\n",
              " 'vez': 19,\n",
              " 'mundo': 20,\n",
              " 'sabia': 21,\n",
              " 'bem': 22,\n",
              " 'glória': 23,\n",
              " 'então': 24,\n",
              " 'agora': 25,\n",
              " 'olímpico': 26,\n",
              " 'dia': 27,\n",
              " 'havia': 28,\n",
              " 'homem': 29,\n",
              " 'verdade': 30,\n",
              " 'disse': 31,\n",
              " 'deus': 32,\n",
              " 'enquanto': 33,\n",
              " 'sempre': 34,\n",
              " 'sabe': 35,\n",
              " 'vai': 36,\n",
              " 'mesma': 37,\n",
              " 'pouco': 38,\n",
              " 'menos': 39,\n",
              " 'grande': 40,\n",
              " 'apenas': 41,\n",
              " 'ainda': 42,\n",
              " 'escritor': 43,\n",
              " 'dava': 44,\n",
              " 'tempo': 45,\n",
              " 'embora': 46,\n",
              " 'sobre': 47,\n",
              " 'pessoa': 48,\n",
              " 'escrever': 49,\n",
              " 'quero': 50,\n",
              " 'vezes': 51,\n",
              " 'outra': 52,\n",
              " 'hora': 53,\n",
              " 'quase': 54,\n",
              " 'todos': 55,\n",
              " 'corpo': 56,\n",
              " 'todo': 57,\n",
              " 'tanto': 58,\n",
              " 'ninguém': 59,\n",
              " 'coisas': 60,\n",
              " 'sangue': 61,\n",
              " 'livro': 62,\n",
              " 'morte': 63,\n",
              " 'modo': 64,\n",
              " 'tia': 65,\n",
              " 'meio': 66,\n",
              " 'rua': 67,\n",
              " 'outro': 68,\n",
              " 'fazer': 69,\n",
              " 'mulher': 70,\n",
              " 'ver': 71,\n",
              " 'vou': 72,\n",
              " 'quanto': 73,\n",
              " 'talvez': 74,\n",
              " 'faz': 75,\n",
              " 'saber': 76,\n",
              " 'toda': 77,\n",
              " 'palavras': 78,\n",
              " 'pode': 79,\n",
              " 'queria': 80,\n",
              " 'falar': 81,\n",
              " 'fatos': 82,\n",
              " 'parecia': 83,\n",
              " 'antes': 84,\n",
              " 'onde': 85,\n",
              " 'escrevo': 86,\n",
              " 'silêncio': 87,\n",
              " 'mal': 88,\n",
              " 'explosão': 89,\n",
              " 'música': 90,\n",
              " 'lá': 91,\n",
              " 'melhor': 92,\n",
              " 'ia': 93,\n",
              " 'pensava': 94,\n",
              " 'algum': 95}"
            ]
          },
          "execution_count": 145,
          "metadata": {},
          "output_type": "execute_result"
        }
      ],
      "source": [
        "w2v_model.build_vocab(sent, progress_per=10000)\n",
        "w2v_model.wv.key_to_index"
      ]
    },
    {
      "cell_type": "markdown",
      "metadata": {
        "id": "2e-ZfcJpMV0-"
      },
      "source": [
        "E agora, podemos treinar nosso modelo."
      ]
    },
    {
      "cell_type": "code",
      "execution_count": 146,
      "metadata": {
        "colab": {
          "base_uri": "https://localhost:8080/"
        },
        "id": "k7gz8NWeZXjX",
        "outputId": "1060551b-5d5a-4ae0-ade4-6aee715d3d80"
      },
      "outputs": [
        {
          "data": {
            "text/plain": [
              "(8471, 426600)"
            ]
          },
          "execution_count": 146,
          "metadata": {},
          "output_type": "execute_result"
        }
      ],
      "source": [
        "w2v_model.train(sent, total_examples=w2v_model.corpus_count, epochs=30, report_delay=1)\n"
      ]
    },
    {
      "cell_type": "markdown",
      "metadata": {
        "id": "mO1sZXMUPU4m"
      },
      "source": [
        "Agora, podemos fazer alguns testes para validar nossos embeddings. O primeiro teste que faremos será a distância de cossenos entre os embeddings de \"Macabéa\" e \"Olímpico\". Aqui, quanto mais próximo de 1, maior a similaridade entre os nossos embeddings."
      ]
    },
    {
      "cell_type": "code",
      "execution_count": 148,
      "metadata": {
        "colab": {
          "base_uri": "https://localhost:8080/"
        },
        "id": "p_qhF7J0Zfa8",
        "outputId": "e825e92c-fded-456b-d302-22005ab5acdb"
      },
      "outputs": [
        {
          "data": {
            "text/plain": [
              "0.994846373796463"
            ]
          },
          "execution_count": 148,
          "metadata": {},
          "output_type": "execute_result"
        }
      ],
      "source": [
        "w2v_model.wv.distance('macabéa','olímpico')"
      ]
    },
    {
      "cell_type": "markdown",
      "metadata": {
        "id": "8O5X_5WXPwD2"
      },
      "source": [
        "Como esperado, a similaridade obtida é alta, uma vez que Macabéa e Olímpico são um \"\"par\"\" em \"A hora da estrela\"."
      ]
    },
    {
      "cell_type": "markdown",
      "metadata": {
        "id": "fg2SJQo7Q70X"
      },
      "source": [
        "Também podemos fazer a distância euclidiana dessas palavras."
      ]
    },
    {
      "cell_type": "code",
      "execution_count": 149,
      "metadata": {
        "colab": {
          "base_uri": "https://localhost:8080/"
        },
        "id": "gHlHHJHnP02d",
        "outputId": "6f811304-58d9-4db6-a870-47d22cef212c"
      },
      "outputs": [
        {
          "data": {
            "text/plain": [
              "0.07966077"
            ]
          },
          "execution_count": 149,
          "metadata": {},
          "output_type": "execute_result"
        }
      ],
      "source": [
        "np.linalg.norm(w2v_model.wv['palavra'] - w2v_model.wv['escrever'])"
      ]
    },
    {
      "cell_type": "markdown",
      "metadata": {
        "id": "ZQsj5iH3QQbG"
      },
      "source": [
        "Aqui, a distância euclidiana das palavras é baixa, sinalizando a similaridade entre elas."
      ]
    },
    {
      "cell_type": "markdown",
      "metadata": {
        "id": "C9RtguNzR2u_"
      },
      "source": [
        "Outra coisa que podemos verificar são as palavras mais similares em relação à outra."
      ]
    },
    {
      "cell_type": "code",
      "execution_count": 150,
      "metadata": {
        "colab": {
          "base_uri": "https://localhost:8080/"
        },
        "id": "bLQ1-o0pRP22",
        "outputId": "34fb77ed-2d6c-4c82-ae04-a382dbcb18e4"
      },
      "outputs": [
        {
          "data": {
            "text/plain": [
              "[('dia', 0.2993881404399872),\n",
              " ('outra', 0.24214047193527222),\n",
              " ('pois', 0.2288215160369873),\n",
              " ('explosão', 0.21094125509262085),\n",
              " ('dava', 0.19069448113441467),\n",
              " ('pessoa', 0.18224401772022247),\n",
              " ('sobre', 0.17106352746486664),\n",
              " ('falar', 0.17023850977420807),\n",
              " ('livro', 0.15569734573364258),\n",
              " ('ver', 0.14912207424640656)]"
            ]
          },
          "execution_count": 150,
          "metadata": {},
          "output_type": "execute_result"
        }
      ],
      "source": [
        "w2v_model.wv.most_similar(positive=[\"história\"])\n"
      ]
    },
    {
      "cell_type": "markdown",
      "metadata": {
        "id": "rrTW3MEtSS_u"
      },
      "source": [
        "E também podemos achar o que menos se encaixa entre uma lista de palavras do vocabulário"
      ]
    },
    {
      "cell_type": "code",
      "execution_count": 154,
      "metadata": {
        "colab": {
          "base_uri": "https://localhost:8080/",
          "height": 90
        },
        "id": "ukKlA2_BSXoe",
        "outputId": "eb716c25-f738-4003-8098-f0564b83f74a"
      },
      "outputs": [
        {
          "data": {
            "text/plain": [
              "'explosão'"
            ]
          },
          "execution_count": 154,
          "metadata": {},
          "output_type": "execute_result"
        }
      ],
      "source": [
        "w2v_model.wv.doesnt_match(['macabéa', 'explosão', 'olímpico'])\n"
      ]
    },
    {
      "cell_type": "markdown",
      "metadata": {},
      "source": [
        "Esses testes parecem muito bons, mas, quando vamos testar algumas semelhanças entre palavras com um significado parecido, temos resultados pouco satisfatórios."
      ]
    },
    {
      "cell_type": "code",
      "execution_count": 155,
      "metadata": {},
      "outputs": [
        {
          "data": {
            "text/plain": [
              "[('ver', 0.20423831045627594),\n",
              " ('si', 0.1779285967350006),\n",
              " ('vou', 0.16394688189029694),\n",
              " ('vai', 0.16356000304222107),\n",
              " ('tempo', 0.14957574009895325),\n",
              " ('quanto', 0.13779953122138977),\n",
              " ('falar', 0.13490407168865204),\n",
              " ('corpo', 0.13472458720207214),\n",
              " ('ter', 0.13272759318351746),\n",
              " ('tanto', 0.12322933226823807)]"
            ]
          },
          "execution_count": 155,
          "metadata": {},
          "output_type": "execute_result"
        }
      ],
      "source": [
        "w2v_model.wv.most_similar(positive=[\"vida\"])"
      ]
    },
    {
      "cell_type": "markdown",
      "metadata": {},
      "source": [
        "Isto, pois, quando treinamos um modelo de embedding a partir de livros, o modelo acaba por levar em conta o contexto. Assim, mesmo que não sejam palavras parecidas, elas são encontradas frequentemente em contextos parecidos."
      ]
    },
    {
      "cell_type": "markdown",
      "metadata": {
        "id": "1Xp3LMBMSyPn"
      },
      "source": [
        "### Carregando um modelo do NILC"
      ]
    },
    {
      "cell_type": "markdown",
      "metadata": {},
      "source": [
        "A partir de agora, vamos testar alguns modelos pré-treinados disponibilizados no NILC. Vamos utilizar 3 modelos: com 50, 300 e 1000 posições vetoriais."
      ]
    },
    {
      "cell_type": "code",
      "execution_count": null,
      "metadata": {
        "id": "BiTOzcSRTBT2"
      },
      "outputs": [],
      "source": [
        "from gensim.models import KeyedVectors"
      ]
    },
    {
      "cell_type": "markdown",
      "metadata": {},
      "source": [
        "Vamos começar testando o modelo com 50 dimensões"
      ]
    },
    {
      "cell_type": "code",
      "execution_count": null,
      "metadata": {
        "colab": {
          "base_uri": "https://localhost:8080/",
          "height": 345
        },
        "id": "WQmtY8icSx0B",
        "outputId": "d9e76fa7-2e48-427d-fa79-21060c655ef3"
      },
      "outputs": [],
      "source": [
        "model_50 = KeyedVectors.load_word2vec_format(\"cbow_s50/cbow_s50.txt\")"
      ]
    },
    {
      "cell_type": "markdown",
      "metadata": {},
      "source": [
        "Vamos fazer alguns testes parecidos, e outros mais focados na similaridade das palavras. Começando com os testes feitos para o nosso modelo, temos:"
      ]
    },
    {
      "cell_type": "code",
      "execution_count": null,
      "metadata": {},
      "outputs": [
        {
          "data": {
            "text/plain": [
              "0.8036423921585083"
            ]
          },
          "execution_count": 66,
          "metadata": {},
          "output_type": "execute_result"
        }
      ],
      "source": [
        "model_50.distance('macabéa','olímpico')"
      ]
    },
    {
      "cell_type": "code",
      "execution_count": null,
      "metadata": {},
      "outputs": [
        {
          "data": {
            "text/plain": [
              "2.5691442"
            ]
          },
          "execution_count": 67,
          "metadata": {},
          "output_type": "execute_result"
        }
      ],
      "source": [
        "np.linalg.norm(model_50['macabéa'] - model_50['olímpico'])"
      ]
    },
    {
      "cell_type": "code",
      "execution_count": null,
      "metadata": {},
      "outputs": [
        {
          "data": {
            "text/plain": [
              "[('ressureição', 0.8563553690910339),\n",
              " ('viscondessa', 0.8303345441818237),\n",
              " ('morgada', 0.8292663097381592),\n",
              " ('cachola', 0.8285811543464661),\n",
              " ('expectação', 0.8280422687530518),\n",
              " ('princeza', 0.8252332210540771),\n",
              " ('auctoridade', 0.8210678696632385),\n",
              " ('consolação', 0.8173748850822449),\n",
              " ('innocencia', 0.8172270059585571),\n",
              " ('ressurreição', 0.8168944716453552)]"
            ]
          },
          "execution_count": 68,
          "metadata": {},
          "output_type": "execute_result"
        }
      ],
      "source": [
        "model_50.most_similar(positive=[\"glória\"])"
      ]
    },
    {
      "cell_type": "code",
      "execution_count": null,
      "metadata": {},
      "outputs": [
        {
          "data": {
            "text/plain": [
              "'olímpico'"
            ]
          },
          "execution_count": 69,
          "metadata": {},
          "output_type": "execute_result"
        }
      ],
      "source": [
        "model_50.doesnt_match(['macabéa', 'olímpico', 'morte'])\n"
      ]
    },
    {
      "cell_type": "markdown",
      "metadata": {},
      "source": [
        "Agora, os resultados se apresentam de forma bem diferente. Quando fazemos esses testes para palavras do livro, obtemos resultados que não possuem contexto fixado nas obras de Lispector. Porém, quando queremos palavras que tem significado similar, o resultado é satisfatório."
      ]
    },
    {
      "cell_type": "code",
      "execution_count": null,
      "metadata": {},
      "outputs": [
        {
          "data": {
            "text/plain": [
              "[('menina', 0.9310055375099182),\n",
              " ('mulatinha', 0.9054270386695862),\n",
              " ('donzela', 0.8990174531936646),\n",
              " ('mulata', 0.8980569243431091),\n",
              " ('égua', 0.894492506980896),\n",
              " ('cadelinha', 0.8927095532417297),\n",
              " ('mocinha', 0.8922073841094971),\n",
              " ('loira', 0.892098605632782),\n",
              " ('ricaça', 0.8900133967399597),\n",
              " ('rapariga', 0.8834722638130188)]"
            ]
          },
          "execution_count": 70,
          "metadata": {},
          "output_type": "execute_result"
        }
      ],
      "source": [
        "model_50.most_similar(positive=[\"moça\"])"
      ]
    },
    {
      "cell_type": "markdown",
      "metadata": {},
      "source": [
        "Porém, vamos notar que, com a medida que as posições vetoriais crescem, as contextualizações também crescem e mudam."
      ]
    },
    {
      "cell_type": "code",
      "execution_count": 71,
      "metadata": {},
      "outputs": [],
      "source": [
        "model_300 = KeyedVectors.load_word2vec_format(\"cbow_s300/cbow_s300.txt\")"
      ]
    },
    {
      "cell_type": "code",
      "execution_count": 72,
      "metadata": {},
      "outputs": [
        {
          "data": {
            "text/plain": [
              "[('formosura', 0.5699642896652222),\n",
              " ('felicidade', 0.5674874782562256),\n",
              " ('glã³ria', 0.5519635677337646),\n",
              " ('sabedoria', 0.5500460863113403),\n",
              " ('innocencia', 0.5491595268249512),\n",
              " ('graça', 0.5475744009017944),\n",
              " ('piedade', 0.5217739343643188),\n",
              " ('auto-existência', 0.5181103944778442),\n",
              " ('bondade', 0.5136435031890869),\n",
              " ('dôr', 0.5032995939254761)]"
            ]
          },
          "execution_count": 72,
          "metadata": {},
          "output_type": "execute_result"
        }
      ],
      "source": [
        "model_300.most_similar(positive=[\"glória\"])"
      ]
    },
    {
      "cell_type": "markdown",
      "metadata": {},
      "source": [
        "Enquanto no modelo com 50 posições vetoriais, a palavra glória estava relacionada com títulos e era vista como um nome próprio, aqui glória assume o papel de um adjetivo, e as palavras similares são outros adjetivos."
      ]
    },
    {
      "cell_type": "code",
      "execution_count": 73,
      "metadata": {},
      "outputs": [
        {
          "data": {
            "text/plain": [
              "0.9637558422982693"
            ]
          },
          "execution_count": 73,
          "metadata": {},
          "output_type": "execute_result"
        }
      ],
      "source": [
        "model_300.distance('macabéa','olímpico')"
      ]
    },
    {
      "cell_type": "code",
      "execution_count": 74,
      "metadata": {},
      "outputs": [],
      "source": [
        "model_1000 = KeyedVectors.load_word2vec_format(\"cbow_s1000/cbow_s1000.txt\")"
      ]
    },
    {
      "cell_type": "code",
      "execution_count": null,
      "metadata": {},
      "outputs": [],
      "source": [
        "model_1000.distance('macabéa','olímpico')"
      ]
    },
    {
      "cell_type": "code",
      "execution_count": null,
      "metadata": {},
      "outputs": [],
      "source": [
        "model_1000.most_similar(positive=[\"glória\"])"
      ]
    },
    {
      "cell_type": "markdown",
      "metadata": {},
      "source": [
        "O mesmo ocorre para 1000 posições vetoriais, mas com ainda mais precisão."
      ]
    },
    {
      "cell_type": "markdown",
      "metadata": {},
      "source": [
        "### Treinando embeddings de frases"
      ]
    },
    {
      "cell_type": "markdown",
      "metadata": {},
      "source": [
        "Agora, vamos treinar alguns embeddings para frases. Para isso, vamos começar analisando bigramas presentes nas palavras. Lembra que lá em cima vimos alguns bigramas presentes no texto?"
      ]
    },
    {
      "cell_type": "code",
      "execution_count": 156,
      "metadata": {},
      "outputs": [],
      "source": [
        "from gensim.models import phrases, word2vec"
      ]
    },
    {
      "cell_type": "markdown",
      "metadata": {},
      "source": [
        "Aqui, vamos usar a biblioteca do Gensim para identificar bigramas em nossas frases"
      ]
    },
    {
      "cell_type": "code",
      "execution_count": 157,
      "metadata": {},
      "outputs": [],
      "source": [
        "bigrams = phrases.Phrases(sent)"
      ]
    },
    {
      "cell_type": "markdown",
      "metadata": {},
      "source": [
        "Abaixo, podemos verificar que o algoritmo está identificando um bigrama que, previamente, foi tido como comum no texto"
      ]
    },
    {
      "cell_type": "code",
      "execution_count": 159,
      "metadata": {},
      "outputs": [
        {
          "name": "stdout",
          "output_type": "stream",
          "text": [
            "['si_mesma', 'clarice']\n"
          ]
        }
      ],
      "source": [
        "print(bigrams[\"si\",\"mesma\",\"clarice\"])"
      ]
    },
    {
      "cell_type": "markdown",
      "metadata": {},
      "source": [
        "Agora, vamos seguir o mesmo esquema e treinar o modelo novamente."
      ]
    },
    {
      "cell_type": "code",
      "execution_count": 160,
      "metadata": {},
      "outputs": [],
      "source": [
        "w2v_model_sent = Word2Vec(min_count=20,\n",
        "                     window=2,\n",
        "                     sample=6e-5, \n",
        "                     alpha=0.03, \n",
        "                     min_alpha=0.0007, \n",
        "                     negative=20)"
      ]
    },
    {
      "cell_type": "code",
      "execution_count": 161,
      "metadata": {},
      "outputs": [],
      "source": [
        "w2v_model_sent.build_vocab(bigrams[sent], progress_per=10000)"
      ]
    },
    {
      "cell_type": "code",
      "execution_count": 162,
      "metadata": {},
      "outputs": [
        {
          "data": {
            "text/plain": [
              "(8386, 425640)"
            ]
          },
          "execution_count": 162,
          "metadata": {},
          "output_type": "execute_result"
        }
      ],
      "source": [
        "w2v_model_sent.train(bigrams[sent], total_examples=w2v_model_sent.corpus_count, epochs=30, report_delay=1)"
      ]
    },
    {
      "cell_type": "markdown",
      "metadata": {},
      "source": [
        "Para facilitar um pouco a análise, vamos visualizar o nosso modelo por meio do TSNE"
      ]
    },
    {
      "cell_type": "code",
      "execution_count": 163,
      "metadata": {},
      "outputs": [],
      "source": [
        "from sklearn.manifold import TSNE"
      ]
    },
    {
      "cell_type": "code",
      "execution_count": 164,
      "metadata": {},
      "outputs": [
        {
          "name": "stderr",
          "output_type": "stream",
          "text": [
            "c:\\Users\\mrggi\\AppData\\Local\\Programs\\Python\\Python310\\lib\\site-packages\\sklearn\\manifold\\_t_sne.py:795: FutureWarning: The default initialization in TSNE will change from 'random' to 'pca' in 1.2.\n",
            "  warnings.warn(\n",
            "c:\\Users\\mrggi\\AppData\\Local\\Programs\\Python\\Python310\\lib\\site-packages\\sklearn\\manifold\\_t_sne.py:805: FutureWarning: The default learning rate in TSNE will change from 200.0 to 'auto' in 1.2.\n",
            "  warnings.warn(\n"
          ]
        },
        {
          "data": {
            "image/png": "[encoded data removed]",
            "text/plain": [
              "<Figure size 432x288 with 1 Axes>"
            ]
          },
          "metadata": {
            "needs_background": "light"
          },
          "output_type": "display_data"
        }
      ],
      "source": [
        "vocab = list(w2v_model_sent.wv.key_to_index)\n",
        "X = w2v_model_sent.wv[vocab]\n",
        "\n",
        "tsne = TSNE(n_components=2)\n",
        "X_tsne = tsne.fit_transform(X)\n",
        "\n",
        "df = pd.DataFrame(X_tsne, index=vocab, columns=['x', 'y'])\n",
        "fig = plt.figure()\n",
        "ax = fig.add_subplot(1, 1, 1)\n",
        "\n",
        "ax.scatter(df['x'], df['y'])\n",
        "for word, pos in df.iterrows():\n",
        "    ax.annotate(word, pos)\n",
        "\n",
        "plt.show()"
      ]
    },
    {
      "cell_type": "markdown",
      "metadata": {
        "id": "Ma96JG0jUHCc"
      },
      "source": [
        "# Bert"
      ]
    },
    {
      "cell_type": "code",
      "execution_count": null,
      "metadata": {},
      "outputs": [
        {
          "name": "stderr",
          "output_type": "stream",
          "text": [
            "Some weights of the model checkpoint at neuralmind/bert-large-portuguese-cased were not used when initializing BertForMaskedLM: ['cls.seq_relationship.weight', 'cls.seq_relationship.bias']\n",
            "- This IS expected if you are initializing BertForMaskedLM from the checkpoint of a model trained on another task or with another architecture (e.g. initializing a BertForSequenceClassification model from a BertForPreTraining model).\n",
            "- This IS NOT expected if you are initializing BertForMaskedLM from the checkpoint of a model that you expect to be exactly identical (initializing a BertForSequenceClassification model from a BertForSequenceClassification model).\n"
          ]
        }
      ],
      "source": [
        "import torch\n",
        "from transformers import AutoTokenizer  # Or BertTokenizer\n",
        "from transformers import AutoModelForMaskedLM  # or BertModel, for BERT without pretraining heads\n",
        "\n",
        "model = AutoModelForMaskedLM.from_pretrained('neuralmind/bert-large-portuguese-cased')\n",
        "tokenizer = AutoTokenizer.from_pretrained('neuralmind/bert-large-portuguese-cased', do_lower_case=False)"
      ]
    },
    {
      "cell_type": "code",
      "execution_count": null,
      "metadata": {
        "id": "Y7Z-CemWeaNk"
      },
      "outputs": [
        {
          "ename": "RuntimeError",
          "evalue": "Numpy is not available",
          "output_type": "error",
          "traceback": [
            "\u001b[1;31m---------------------------------------------------------------------------\u001b[0m",
            "\u001b[1;31mRuntimeError\u001b[0m                              Traceback (most recent call last)",
            "\u001b[1;32mc:\\Users\\mrggi\\Desktop\\nlp\\Projeto_de_Entrada_Clarisse_Lispector.ipynb Célula: 109\u001b[0m in \u001b[0;36m<cell line: 3>\u001b[1;34m()\u001b[0m\n\u001b[0;32m      <a href='vscode-notebook-cell:/c%3A/Users/mrggi/Desktop/nlp/Projeto_de_Entrada_Clarisse_Lispector.ipynb#ch0000107?line=0'>1</a>\u001b[0m pipe \u001b[39m=\u001b[39m pipeline(\u001b[39m'\u001b[39m\u001b[39mfill-mask\u001b[39m\u001b[39m'\u001b[39m, model\u001b[39m=\u001b[39mmodel, tokenizer\u001b[39m=\u001b[39mtokenizer)\n\u001b[1;32m----> <a href='vscode-notebook-cell:/c%3A/Users/mrggi/Desktop/nlp/Projeto_de_Entrada_Clarisse_Lispector.ipynb#ch0000107?line=2'>3</a>\u001b[0m pipe(\u001b[39m'\u001b[39;49m\u001b[39mTinha uma [MASK] no meio do caminho.\u001b[39;49m\u001b[39m'\u001b[39;49m)\n",
            "File \u001b[1;32mc:\\Users\\mrggi\\AppData\\Local\\Programs\\Python\\Python310\\lib\\site-packages\\transformers\\pipelines\\fill_mask.py:227\u001b[0m, in \u001b[0;36mFillMaskPipeline.__call__\u001b[1;34m(self, inputs, *args, **kwargs)\u001b[0m\n\u001b[0;32m    205\u001b[0m \u001b[39mdef\u001b[39;00m \u001b[39m__call__\u001b[39m(\u001b[39mself\u001b[39m, inputs, \u001b[39m*\u001b[39margs, \u001b[39m*\u001b[39m\u001b[39m*\u001b[39mkwargs):\n\u001b[0;32m    206\u001b[0m     \u001b[39m\"\"\"\u001b[39;00m\n\u001b[0;32m    207\u001b[0m \u001b[39m    Fill the masked token in the text(s) given as inputs.\u001b[39;00m\n\u001b[0;32m    208\u001b[0m \n\u001b[1;32m   (...)\u001b[0m\n\u001b[0;32m    225\u001b[0m \u001b[39m        - **token** (`str`) -- The predicted token (to replace the masked one).\u001b[39;00m\n\u001b[0;32m    226\u001b[0m \u001b[39m    \"\"\"\u001b[39;00m\n\u001b[1;32m--> 227\u001b[0m     outputs \u001b[39m=\u001b[39m \u001b[39msuper\u001b[39m()\u001b[39m.\u001b[39m\u001b[39m__call__\u001b[39m(inputs, \u001b[39m*\u001b[39m\u001b[39m*\u001b[39mkwargs)\n\u001b[0;32m    228\u001b[0m     \u001b[39mif\u001b[39;00m \u001b[39misinstance\u001b[39m(inputs, \u001b[39mlist\u001b[39m) \u001b[39mand\u001b[39;00m \u001b[39mlen\u001b[39m(inputs) \u001b[39m==\u001b[39m \u001b[39m1\u001b[39m:\n\u001b[0;32m    229\u001b[0m         \u001b[39mreturn\u001b[39;00m outputs[\u001b[39m0\u001b[39m]\n",
            "File \u001b[1;32mc:\\Users\\mrggi\\AppData\\Local\\Programs\\Python\\Python310\\lib\\site-packages\\transformers\\pipelines\\base.py:1067\u001b[0m, in \u001b[0;36mPipeline.__call__\u001b[1;34m(self, inputs, num_workers, batch_size, *args, **kwargs)\u001b[0m\n\u001b[0;32m   1065\u001b[0m     \u001b[39mreturn\u001b[39;00m \u001b[39mself\u001b[39m\u001b[39m.\u001b[39miterate(inputs, preprocess_params, forward_params, postprocess_params)\n\u001b[0;32m   1066\u001b[0m \u001b[39melse\u001b[39;00m:\n\u001b[1;32m-> 1067\u001b[0m     \u001b[39mreturn\u001b[39;00m \u001b[39mself\u001b[39;49m\u001b[39m.\u001b[39;49mrun_single(inputs, preprocess_params, forward_params, postprocess_params)\n",
            "File \u001b[1;32mc:\\Users\\mrggi\\AppData\\Local\\Programs\\Python\\Python310\\lib\\site-packages\\transformers\\pipelines\\base.py:1075\u001b[0m, in \u001b[0;36mPipeline.run_single\u001b[1;34m(self, inputs, preprocess_params, forward_params, postprocess_params)\u001b[0m\n\u001b[0;32m   1073\u001b[0m model_inputs \u001b[39m=\u001b[39m \u001b[39mself\u001b[39m\u001b[39m.\u001b[39mpreprocess(inputs, \u001b[39m*\u001b[39m\u001b[39m*\u001b[39mpreprocess_params)\n\u001b[0;32m   1074\u001b[0m model_outputs \u001b[39m=\u001b[39m \u001b[39mself\u001b[39m\u001b[39m.\u001b[39mforward(model_inputs, \u001b[39m*\u001b[39m\u001b[39m*\u001b[39mforward_params)\n\u001b[1;32m-> 1075\u001b[0m outputs \u001b[39m=\u001b[39m \u001b[39mself\u001b[39m\u001b[39m.\u001b[39mpostprocess(model_outputs, \u001b[39m*\u001b[39m\u001b[39m*\u001b[39mpostprocess_params)\n\u001b[0;32m   1076\u001b[0m \u001b[39mreturn\u001b[39;00m outputs\n",
            "File \u001b[1;32mc:\\Users\\mrggi\\AppData\\Local\\Programs\\Python\\Python310\\lib\\site-packages\\transformers\\pipelines\\fill_mask.py:130\u001b[0m, in \u001b[0;36mFillMaskPipeline.postprocess\u001b[1;34m(self, model_outputs, top_k, target_ids)\u001b[0m\n\u001b[0;32m    127\u001b[0m row \u001b[39m=\u001b[39m []\n\u001b[0;32m    128\u001b[0m \u001b[39mfor\u001b[39;00m v, p \u001b[39min\u001b[39;00m \u001b[39mzip\u001b[39m(_values, _predictions):\n\u001b[0;32m    129\u001b[0m     \u001b[39m# Copy is important since we're going to modify this array in place\u001b[39;00m\n\u001b[1;32m--> 130\u001b[0m     tokens \u001b[39m=\u001b[39m input_ids\u001b[39m.\u001b[39;49mnumpy()\u001b[39m.\u001b[39mcopy()\n\u001b[0;32m    131\u001b[0m     \u001b[39mif\u001b[39;00m target_ids \u001b[39mis\u001b[39;00m \u001b[39mnot\u001b[39;00m \u001b[39mNone\u001b[39;00m:\n\u001b[0;32m    132\u001b[0m         p \u001b[39m=\u001b[39m target_ids[p]\u001b[39m.\u001b[39mtolist()\n",
            "\u001b[1;31mRuntimeError\u001b[0m: Numpy is not available"
          ]
        }
      ],
      "source": [
        "from transformers import pipeline\n",
        "\n",
        "pipe = pipeline('fill-mask', model=model, tokenizer=tokenizer)"
      ]
    },
    {
      "cell_type": "code",
      "execution_count": null,
      "metadata": {},
      "outputs": [],
      "source": []
    },
    {
      "cell_type": "markdown",
      "metadata": {
        "id": "l_Mb7OCP6Xeg"
      },
      "source": [
        "Referencias\n",
        "\n",
        "https://www.alura.com.br/artigos/lemmatization-vs-stemming-quando-usar-cada-uma\n",
        "\n",
        "https://towardsdatascience.com/from-dataframe-to-n-grams-e34e29df3460\n",
        "\n",
        "https://www.kaggle.com/code/pierremegret/gensim-word2vec-tutorial/notebook\n"
      ]
    }
  ],
  "metadata": {
    "accelerator": "GPU",
    "colab": {
      "name": "Projeto de Entrada - Clarisse Lispector.ipynb",
      "provenance": []
    },
    "gpuClass": "standard",
    "kernelspec": {
      "display_name": "Python 3.10.4 64-bit",
      "language": "python",
      "name": "python3"
    },
    "language_info": {
      "codemirror_mode": {
        "name": "ipython",
        "version": 3
      },
      "file_extension": ".py",
      "mimetype": "text/x-python",
      "name": "python",
      "nbconvert_exporter": "python",
      "pygments_lexer": "ipython3",
      "version": "3.10.4"
    },
    "vscode": {
      "interpreter": {
        "hash": "8e502c3083077283654ee0db8689729377640bb97ef493668650ddc40e07c009"
      }
    }
  },
  "nbformat": 4,
  "nbformat_minor": 0
}
