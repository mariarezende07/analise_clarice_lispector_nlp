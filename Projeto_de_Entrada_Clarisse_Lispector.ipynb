{
  "cells": [
    {
      "cell_type": "markdown",
      "metadata": {
        "id": "Y6PEfK4mLzEt"
      },
      "source": [
        "# 👩🏻‍🏫 Projeto de ingresso em NLP 👩🏻‍🏫"
      ]
    },
    {
      "cell_type": "markdown",
      "metadata": {
        "id": "daGRIOhLRFy_"
      },
      "source": [
        "Sejam bem-vindos, NLPers! Neste notebook, realizaremos algumas análises em relação à alguns livros da Clarice Lispector: \"A hora da estrela\", \"Crônicas\" e \"Todos os contos\"."
      ]
    },
    {
      "cell_type": "markdown",
      "metadata": {
        "id": "IpeVcFiJRprf"
      },
      "source": [
        "## Importações"
      ]
    },
    {
      "cell_type": "markdown",
      "metadata": {
        "id": "k0_fNuLXpPmM"
      },
      "source": [
        "Vamos começar importando algumas bibliotecas necessárias para realizar a nossa análise\n"
      ]
    },
    {
      "cell_type": "code",
      "execution_count": 3,
      "metadata": {
        "id": "wuUe5Ly11yXC"
      },
      "outputs": [],
      "source": [
        "%%capture\n",
        "%pip install transformers\n",
        "%pip install gensim\n",
        "!python -m spacy download pt_core_news_lg"
      ]
    },
    {
      "cell_type": "code",
      "execution_count": 82,
      "metadata": {
        "id": "d2c5pMTtqFdb"
      },
      "outputs": [],
      "source": [
        "import pandas as pd\n",
        "import numpy as np\n",
        "import json\n",
        "import re\n",
        "import spacy\n",
        "\n",
        "from wordcloud import WordCloud \n",
        "import matplotlib.pyplot as plt\n",
        "\n",
        "import seaborn as sns;\n",
        "\n",
        "\n",
        "from gensim.models.phrases import Phrases, Phraser\n",
        "import multiprocessing\n",
        "from gensim.models import Word2Vec\n",
        "from collections import defaultdict\n",
        "\n",
        "import torch\n",
        "import transformers\n",
        "from transformers import AutoTokenizer, AutoModel\n"
      ]
    },
    {
      "cell_type": "code",
      "execution_count": 5,
      "metadata": {
        "colab": {
          "base_uri": "https://localhost:8080/"
        },
        "id": "yfMvWmUjsSLv",
        "outputId": "f067ea1b-fefe-4d91-bc69-984636750275"
      },
      "outputs": [
        {
          "output_type": "stream",
          "name": "stderr",
          "text": [
            "[nltk_data] Downloading package stopwords to /root/nltk_data...\n",
            "[nltk_data]   Package stopwords is already up-to-date!\n"
          ]
        },
        {
          "output_type": "execute_result",
          "data": {
            "text/plain": [
              "True"
            ]
          },
          "metadata": {},
          "execution_count": 5
        }
      ],
      "source": [
        "import nltk\n",
        "nltk.download('stopwords')"
      ]
    },
    {
      "cell_type": "markdown",
      "metadata": {
        "id": "16Jr6WDopkrI"
      },
      "source": [
        "# Processamento do corpus"
      ]
    },
    {
      "cell_type": "markdown",
      "metadata": {
        "id": "o6R_gFGuR91u"
      },
      "source": [
        "Para realizar a análise do livros, já temos em posse um corpus pré-processado. Porém, ainda temos que fazer ainda alguns processos para facilitar a nossa análise.\n",
        "\n",
        "Vamos começar importando nosso corpus e transformando-o em um DataFrame para facilitar o manuseio."
      ]
    },
    {
      "cell_type": "code",
      "execution_count": 6,
      "metadata": {
        "id": "wRlK60Kiux4m"
      },
      "outputs": [],
      "source": [
        "with open(\"corpus_tokenizado.json\", 'r') as f:\n",
        "  corpus = json.load(f)"
      ]
    },
    {
      "cell_type": "code",
      "execution_count": 7,
      "metadata": {
        "id": "GbfJTaBQpncO"
      },
      "outputs": [],
      "source": [
        "corpus_dict = json.loads(corpus)"
      ]
    },
    {
      "cell_type": "code",
      "execution_count": 8,
      "metadata": {
        "id": "BFx2yn-hv0sv"
      },
      "outputs": [],
      "source": [
        "df_corpus = pd.DataFrame(corpus_dict['corpus'][0], columns = ['palavras'])"
      ]
    },
    {
      "cell_type": "markdown",
      "metadata": {
        "id": "LWBi3tJPTIon"
      },
      "source": [
        "Agora, podemos dar uma olhada no formato do nosso dataset"
      ]
    },
    {
      "cell_type": "code",
      "execution_count": 9,
      "metadata": {
        "colab": {
          "base_uri": "https://localhost:8080/",
          "height": 206
        },
        "id": "NewfGSvbSn_b",
        "outputId": "2db16e54-27d5-43cd-a96c-29a0cce375f2"
      },
      "outputs": [
        {
          "output_type": "execute_result",
          "data": {
            "text/plain": [
              "    palavras\n",
              "0      dados\n",
              "1         de\n",
              "2  copyright\n",
              "3      sobre\n",
              "4          a"
            ],
            "text/html": [
              "\n",
              "  <div id=\"df-e049b23c-3416-4e4d-b43c-f7d87120e01b\">\n",
              "    <div class=\"colab-df-container\">\n",
              "      <div>\n",
              "<style scoped>\n",
              "    .dataframe tbody tr th:only-of-type {\n",
              "        vertical-align: middle;\n",
              "    }\n",
              "\n",
              "    .dataframe tbody tr th {\n",
              "        vertical-align: top;\n",
              "    }\n",
              "\n",
              "    .dataframe thead th {\n",
              "        text-align: right;\n",
              "    }\n",
              "</style>\n",
              "<table border=\"1\" class=\"dataframe\">\n",
              "  <thead>\n",
              "    <tr style=\"text-align: right;\">\n",
              "      <th></th>\n",
              "      <th>palavras</th>\n",
              "    </tr>\n",
              "  </thead>\n",
              "  <tbody>\n",
              "    <tr>\n",
              "      <th>0</th>\n",
              "      <td>dados</td>\n",
              "    </tr>\n",
              "    <tr>\n",
              "      <th>1</th>\n",
              "      <td>de</td>\n",
              "    </tr>\n",
              "    <tr>\n",
              "      <th>2</th>\n",
              "      <td>copyright</td>\n",
              "    </tr>\n",
              "    <tr>\n",
              "      <th>3</th>\n",
              "      <td>sobre</td>\n",
              "    </tr>\n",
              "    <tr>\n",
              "      <th>4</th>\n",
              "      <td>a</td>\n",
              "    </tr>\n",
              "  </tbody>\n",
              "</table>\n",
              "</div>\n",
              "      <button class=\"colab-df-convert\" onclick=\"convertToInteractive('df-e049b23c-3416-4e4d-b43c-f7d87120e01b')\"\n",
              "              title=\"Convert this dataframe to an interactive table.\"\n",
              "              style=\"display:none;\">\n",
              "        \n",
              "  <svg xmlns=\"http://www.w3.org/2000/svg\" height=\"24px\"viewBox=\"0 0 24 24\"\n",
              "       width=\"24px\">\n",
              "    <path d=\"M0 0h24v24H0V0z\" fill=\"none\"/>\n",
              "    <path d=\"M18.56 5.44l.94 2.06.94-2.06 2.06-.94-2.06-.94-.94-2.06-.94 2.06-2.06.94zm-11 1L8.5 8.5l.94-2.06 2.06-.94-2.06-.94L8.5 2.5l-.94 2.06-2.06.94zm10 10l.94 2.06.94-2.06 2.06-.94-2.06-.94-.94-2.06-.94 2.06-2.06.94z\"/><path d=\"M17.41 7.96l-1.37-1.37c-.4-.4-.92-.59-1.43-.59-.52 0-1.04.2-1.43.59L10.3 9.45l-7.72 7.72c-.78.78-.78 2.05 0 2.83L4 21.41c.39.39.9.59 1.41.59.51 0 1.02-.2 1.41-.59l7.78-7.78 2.81-2.81c.8-.78.8-2.07 0-2.86zM5.41 20L4 18.59l7.72-7.72 1.47 1.35L5.41 20z\"/>\n",
              "  </svg>\n",
              "      </button>\n",
              "      \n",
              "  <style>\n",
              "    .colab-df-container {\n",
              "      display:flex;\n",
              "      flex-wrap:wrap;\n",
              "      gap: 12px;\n",
              "    }\n",
              "\n",
              "    .colab-df-convert {\n",
              "      background-color: #E8F0FE;\n",
              "      border: none;\n",
              "      border-radius: 50%;\n",
              "      cursor: pointer;\n",
              "      display: none;\n",
              "      fill: #1967D2;\n",
              "      height: 32px;\n",
              "      padding: 0 0 0 0;\n",
              "      width: 32px;\n",
              "    }\n",
              "\n",
              "    .colab-df-convert:hover {\n",
              "      background-color: #E2EBFA;\n",
              "      box-shadow: 0px 1px 2px rgba(60, 64, 67, 0.3), 0px 1px 3px 1px rgba(60, 64, 67, 0.15);\n",
              "      fill: #174EA6;\n",
              "    }\n",
              "\n",
              "    [theme=dark] .colab-df-convert {\n",
              "      background-color: #3B4455;\n",
              "      fill: #D2E3FC;\n",
              "    }\n",
              "\n",
              "    [theme=dark] .colab-df-convert:hover {\n",
              "      background-color: #434B5C;\n",
              "      box-shadow: 0px 1px 3px 1px rgba(0, 0, 0, 0.15);\n",
              "      filter: drop-shadow(0px 1px 2px rgba(0, 0, 0, 0.3));\n",
              "      fill: #FFFFFF;\n",
              "    }\n",
              "  </style>\n",
              "\n",
              "      <script>\n",
              "        const buttonEl =\n",
              "          document.querySelector('#df-e049b23c-3416-4e4d-b43c-f7d87120e01b button.colab-df-convert');\n",
              "        buttonEl.style.display =\n",
              "          google.colab.kernel.accessAllowed ? 'block' : 'none';\n",
              "\n",
              "        async function convertToInteractive(key) {\n",
              "          const element = document.querySelector('#df-e049b23c-3416-4e4d-b43c-f7d87120e01b');\n",
              "          const dataTable =\n",
              "            await google.colab.kernel.invokeFunction('convertToInteractive',\n",
              "                                                     [key], {});\n",
              "          if (!dataTable) return;\n",
              "\n",
              "          const docLinkHtml = 'Like what you see? Visit the ' +\n",
              "            '<a target=\"_blank\" href=https://colab.research.google.com/notebooks/data_table.ipynb>data table notebook</a>'\n",
              "            + ' to learn more about interactive tables.';\n",
              "          element.innerHTML = '';\n",
              "          dataTable['output_type'] = 'display_data';\n",
              "          await google.colab.output.renderOutput(dataTable, element);\n",
              "          const docLink = document.createElement('div');\n",
              "          docLink.innerHTML = docLinkHtml;\n",
              "          element.appendChild(docLink);\n",
              "        }\n",
              "      </script>\n",
              "    </div>\n",
              "  </div>\n",
              "  "
            ]
          },
          "metadata": {},
          "execution_count": 9
        }
      ],
      "source": [
        "df_corpus.head()"
      ]
    },
    {
      "cell_type": "markdown",
      "metadata": {
        "id": "gKcZQ2DPTh0W"
      },
      "source": [
        "\"*Dados de copyright*\"? Meio estranho né? Bem, o corpus veio com uma introduçãozinha do site LeLivros. Para evitar que isso atrapalhe a nossa análise, vamos remover isso."
      ]
    },
    {
      "cell_type": "code",
      "execution_count": 10,
      "metadata": {
        "id": "ZjxxNFhB4KMQ"
      },
      "outputs": [],
      "source": [
        "start_lelivros = df_corpus.loc[df_corpus['palavras'] == 'dados'].index[0]\n",
        "end_lelivros = df_corpus.loc[df_corpus['palavras'] == 'nível'].index[0]"
      ]
    },
    {
      "cell_type": "code",
      "execution_count": 11,
      "metadata": {
        "id": "wi4EpuPC74OI"
      },
      "outputs": [],
      "source": [
        "df_corpus=df_corpus.drop(df_corpus.index[start_lelivros:end_lelivros+1])"
      ]
    },
    {
      "cell_type": "markdown",
      "metadata": {
        "id": "IDg07U3UXO9S"
      },
      "source": [
        "### Stopwords"
      ]
    },
    {
      "cell_type": "markdown",
      "metadata": {
        "id": "1Xmm8q_29IrQ"
      },
      "source": [
        "Agora, finalmente, vamos começar a fazer o pré-processamento de verdade. Primeiramente, vamos remover as \"stopwords\".\n",
        "\n",
        "As stopwords são palavras como \"as\", \"os\", \"de\", \"para\", \"com\", que são normalmente irrelevantes para a análise de um texto. Para fazer isso, vamos usar a biblioteca de stopwords do NLTK.\n",
        "\n",
        "Como algumas stopwords que são flexões não estão inclusas, vamos adicioná-las manualmente."
      ]
    },
    {
      "cell_type": "code",
      "execution_count": 12,
      "metadata": {
        "id": "JCozXinMsJ55"
      },
      "outputs": [],
      "source": [
        "stopwords = nltk.corpus.stopwords.words('portuguese')\n",
        "stopwords.append(\"pra\")\n",
        "stopwords.append(\"tá\")\n",
        "stopwords.append(\"dá\")\n",
        "stop = set(stopwords)"
      ]
    },
    {
      "cell_type": "markdown",
      "metadata": {
        "id": "nXenteUEW0u4"
      },
      "source": [
        "Com a lista de stopwords prontas, vamos removê-las do nosso dataframe."
      ]
    },
    {
      "cell_type": "code",
      "execution_count": 13,
      "metadata": {
        "id": "cDDkbhbVsav2"
      },
      "outputs": [],
      "source": [
        "df_corpus = df_corpus[~df_corpus.palavras.isin(stop)]"
      ]
    },
    {
      "cell_type": "markdown",
      "metadata": {
        "id": "zr9O9yY11yaH"
      },
      "source": [
        "### Lematização\n",
        "\n",
        "Para evitar que trabalhemos com um vetor muito grande com várias palavras repetidas que significam a mesma coisa, vamos aplicar uma técnica chamada de Lematização. O objetivo desta técnica é amos buscar reduzir a palavra à sua raiz, retirando todas as inflexões e chegando ao lemma. Essa técnica também permite que relacionemos algumas palavras cim seus sinônimos, como \"trânsito\" e \"engarrafamento\"."
      ]
    },
    {
      "cell_type": "markdown",
      "metadata": {
        "id": "LEt_6Rp7YRmS"
      },
      "source": [
        "Para aplicarmos essa técnica, vamos utilizar a biblioteca em português do Spacy."
      ]
    },
    {
      "cell_type": "code",
      "execution_count": 14,
      "metadata": {
        "id": "6CObhjOC3oW3"
      },
      "outputs": [],
      "source": [
        "nlp = spacy.load(\"pt_core_news_lg\")"
      ]
    },
    {
      "cell_type": "markdown",
      "metadata": {
        "id": "_wkMkN0qYX4w"
      },
      "source": [
        "Agora, vamos fazer uma list comprehension para passar por cada palavra, como uma grande string que será analisada."
      ]
    },
    {
      "cell_type": "code",
      "execution_count": 15,
      "metadata": {
        "id": "Bpoilk2V6adR"
      },
      "outputs": [],
      "source": [
        "doc = nlp(str([palavra for palavra in df_corpus['palavras']]))"
      ]
    },
    {
      "cell_type": "markdown",
      "metadata": {
        "id": "07aEPYW0Ybl4"
      },
      "source": [
        "Agora, podemos usar algumas propriedades da biblioteca Spacy para separarmos um pouco nosso dataset. Podemos, por exemplo, separar em colunas de verbos, substantivos e nomes próprios que são utilizados nos livros de Clarice."
      ]
    },
    {
      "cell_type": "code",
      "execution_count": 16,
      "metadata": {
        "colab": {
          "base_uri": "https://localhost:8080/",
          "height": 206
        },
        "id": "Xe6Sm31g7jvX",
        "outputId": "cdce66a9-e2eb-4362-f862-259018040cc8"
      },
      "outputs": [
        {
          "output_type": "execute_result",
          "data": {
            "text/plain": [
              "      palavras   palavra     verbos substantivos        nomes\n",
              "150       hora  escritor     gostar   nordestina     raimundo\n",
              "152    estrela     dizer     anular      janeiro  estenografa\n",
              "153    clarice   crítico      sanar        autor     raimundo\n",
              "154  lispector   francês  despontar        livro         Mauá\n",
              "156       hora    barthe        ver   comentário           lo"
            ],
            "text/html": [
              "\n",
              "  <div id=\"df-b975c775-53c0-40e2-a2dc-8a051efa02fb\">\n",
              "    <div class=\"colab-df-container\">\n",
              "      <div>\n",
              "<style scoped>\n",
              "    .dataframe tbody tr th:only-of-type {\n",
              "        vertical-align: middle;\n",
              "    }\n",
              "\n",
              "    .dataframe tbody tr th {\n",
              "        vertical-align: top;\n",
              "    }\n",
              "\n",
              "    .dataframe thead th {\n",
              "        text-align: right;\n",
              "    }\n",
              "</style>\n",
              "<table border=\"1\" class=\"dataframe\">\n",
              "  <thead>\n",
              "    <tr style=\"text-align: right;\">\n",
              "      <th></th>\n",
              "      <th>palavras</th>\n",
              "      <th>palavra</th>\n",
              "      <th>verbos</th>\n",
              "      <th>substantivos</th>\n",
              "      <th>nomes</th>\n",
              "    </tr>\n",
              "  </thead>\n",
              "  <tbody>\n",
              "    <tr>\n",
              "      <th>150</th>\n",
              "      <td>hora</td>\n",
              "      <td>escritor</td>\n",
              "      <td>gostar</td>\n",
              "      <td>nordestina</td>\n",
              "      <td>raimundo</td>\n",
              "    </tr>\n",
              "    <tr>\n",
              "      <th>152</th>\n",
              "      <td>estrela</td>\n",
              "      <td>dizer</td>\n",
              "      <td>anular</td>\n",
              "      <td>janeiro</td>\n",
              "      <td>estenografa</td>\n",
              "    </tr>\n",
              "    <tr>\n",
              "      <th>153</th>\n",
              "      <td>clarice</td>\n",
              "      <td>crítico</td>\n",
              "      <td>sanar</td>\n",
              "      <td>autor</td>\n",
              "      <td>raimundo</td>\n",
              "    </tr>\n",
              "    <tr>\n",
              "      <th>154</th>\n",
              "      <td>lispector</td>\n",
              "      <td>francês</td>\n",
              "      <td>despontar</td>\n",
              "      <td>livro</td>\n",
              "      <td>Mauá</td>\n",
              "    </tr>\n",
              "    <tr>\n",
              "      <th>156</th>\n",
              "      <td>hora</td>\n",
              "      <td>barthe</td>\n",
              "      <td>ver</td>\n",
              "      <td>comentário</td>\n",
              "      <td>lo</td>\n",
              "    </tr>\n",
              "  </tbody>\n",
              "</table>\n",
              "</div>\n",
              "      <button class=\"colab-df-convert\" onclick=\"convertToInteractive('df-b975c775-53c0-40e2-a2dc-8a051efa02fb')\"\n",
              "              title=\"Convert this dataframe to an interactive table.\"\n",
              "              style=\"display:none;\">\n",
              "        \n",
              "  <svg xmlns=\"http://www.w3.org/2000/svg\" height=\"24px\"viewBox=\"0 0 24 24\"\n",
              "       width=\"24px\">\n",
              "    <path d=\"M0 0h24v24H0V0z\" fill=\"none\"/>\n",
              "    <path d=\"M18.56 5.44l.94 2.06.94-2.06 2.06-.94-2.06-.94-.94-2.06-.94 2.06-2.06.94zm-11 1L8.5 8.5l.94-2.06 2.06-.94-2.06-.94L8.5 2.5l-.94 2.06-2.06.94zm10 10l.94 2.06.94-2.06 2.06-.94-2.06-.94-.94-2.06-.94 2.06-2.06.94z\"/><path d=\"M17.41 7.96l-1.37-1.37c-.4-.4-.92-.59-1.43-.59-.52 0-1.04.2-1.43.59L10.3 9.45l-7.72 7.72c-.78.78-.78 2.05 0 2.83L4 21.41c.39.39.9.59 1.41.59.51 0 1.02-.2 1.41-.59l7.78-7.78 2.81-2.81c.8-.78.8-2.07 0-2.86zM5.41 20L4 18.59l7.72-7.72 1.47 1.35L5.41 20z\"/>\n",
              "  </svg>\n",
              "      </button>\n",
              "      \n",
              "  <style>\n",
              "    .colab-df-container {\n",
              "      display:flex;\n",
              "      flex-wrap:wrap;\n",
              "      gap: 12px;\n",
              "    }\n",
              "\n",
              "    .colab-df-convert {\n",
              "      background-color: #E8F0FE;\n",
              "      border: none;\n",
              "      border-radius: 50%;\n",
              "      cursor: pointer;\n",
              "      display: none;\n",
              "      fill: #1967D2;\n",
              "      height: 32px;\n",
              "      padding: 0 0 0 0;\n",
              "      width: 32px;\n",
              "    }\n",
              "\n",
              "    .colab-df-convert:hover {\n",
              "      background-color: #E2EBFA;\n",
              "      box-shadow: 0px 1px 2px rgba(60, 64, 67, 0.3), 0px 1px 3px 1px rgba(60, 64, 67, 0.15);\n",
              "      fill: #174EA6;\n",
              "    }\n",
              "\n",
              "    [theme=dark] .colab-df-convert {\n",
              "      background-color: #3B4455;\n",
              "      fill: #D2E3FC;\n",
              "    }\n",
              "\n",
              "    [theme=dark] .colab-df-convert:hover {\n",
              "      background-color: #434B5C;\n",
              "      box-shadow: 0px 1px 3px 1px rgba(0, 0, 0, 0.15);\n",
              "      filter: drop-shadow(0px 1px 2px rgba(0, 0, 0, 0.3));\n",
              "      fill: #FFFFFF;\n",
              "    }\n",
              "  </style>\n",
              "\n",
              "      <script>\n",
              "        const buttonEl =\n",
              "          document.querySelector('#df-b975c775-53c0-40e2-a2dc-8a051efa02fb button.colab-df-convert');\n",
              "        buttonEl.style.display =\n",
              "          google.colab.kernel.accessAllowed ? 'block' : 'none';\n",
              "\n",
              "        async function convertToInteractive(key) {\n",
              "          const element = document.querySelector('#df-b975c775-53c0-40e2-a2dc-8a051efa02fb');\n",
              "          const dataTable =\n",
              "            await google.colab.kernel.invokeFunction('convertToInteractive',\n",
              "                                                     [key], {});\n",
              "          if (!dataTable) return;\n",
              "\n",
              "          const docLinkHtml = 'Like what you see? Visit the ' +\n",
              "            '<a target=\"_blank\" href=https://colab.research.google.com/notebooks/data_table.ipynb>data table notebook</a>'\n",
              "            + ' to learn more about interactive tables.';\n",
              "          element.innerHTML = '';\n",
              "          dataTable['output_type'] = 'display_data';\n",
              "          await google.colab.output.renderOutput(dataTable, element);\n",
              "          const docLink = document.createElement('div');\n",
              "          docLink.innerHTML = docLinkHtml;\n",
              "          element.appendChild(docLink);\n",
              "        }\n",
              "      </script>\n",
              "    </div>\n",
              "  </div>\n",
              "  "
            ]
          },
          "metadata": {},
          "execution_count": 16
        }
      ],
      "source": [
        "df_corpus['palavra']= pd.DataFrame([token.lemma_ for token in doc if token.pos_ != 'PUNCT'])\n",
        "df_corpus['verbos']= pd.DataFrame([token.lemma_ for token in doc if token.pos_ == 'VERB'])\n",
        "df_corpus['substantivos']= pd.DataFrame([token.lemma_ for token in doc if token.pos_ == 'NOUN'])\n",
        "df_corpus['nomes']= pd.DataFrame([token.lemma_ for token in doc if token.pos_ == 'PROPN'])\n",
        "\n",
        "df_corpus.head()"
      ]
    },
    {
      "cell_type": "markdown",
      "metadata": {
        "id": "JIDBWfcbsGJb"
      },
      "source": [
        "## Exploração do corpus"
      ]
    },
    {
      "cell_type": "markdown",
      "metadata": {
        "id": "-Auw_T_2KvOk"
      },
      "source": [
        "Com as o nosso dataframe bem separado, podemos explorá-lo um pouco para entender mais sobre as obras de Clarice. "
      ]
    },
    {
      "cell_type": "markdown",
      "metadata": {
        "id": "zru35hXjgNTQ"
      },
      "source": [
        "### Wordclouds"
      ]
    },
    {
      "cell_type": "markdown",
      "metadata": {
        "id": "NjcQ7ci5be2n"
      },
      "source": [
        "A primeira coisa que vamos ver é uma WordCloud dos verbos, substantivos e nomes mais usados nas obras. \n",
        "\n",
        "As WordClouds são um formato de visualização em que podemos ver a distribuição de frequência de uma forma mais enxuta. Apesar de não serem perfeitos para entender esses dados, são bem bonitos né?"
      ]
    },
    {
      "cell_type": "code",
      "execution_count": 17,
      "metadata": {
        "id": "mVaQ1PkwK9P8"
      },
      "outputs": [],
      "source": [
        "palavras = df_corpus['palavras'].values\n",
        "\n",
        "verbos = ' '.join(df_corpus[df_corpus['verbos'].notnull()]['verbos'].values)\n",
        "substantivos = ' '.join(df_corpus[df_corpus['substantivos'].notnull()]['substantivos'].values)\n",
        "nomes = ' '.join(df_corpus[df_corpus['nomes'].notnull()]['nomes'].values)"
      ]
    },
    {
      "cell_type": "code",
      "execution_count": 18,
      "metadata": {
        "id": "XGStJ9J6dnoR"
      },
      "outputs": [],
      "source": [
        "wordcloud_verbos = WordCloud(background_color=\"white\",width=2000, height=800, collocations = False).generate(verbos)\n",
        "wordcloud_subs = WordCloud(background_color=\"white\",width=2000, height=800, collocations = False).generate(substantivos)\n",
        "wordcloud_nomes = WordCloud(background_color=\"white\",width=2000, height=800, collocations = False).generate(nomes)\n"
      ]
    },
    {
      "cell_type": "code",
      "execution_count": 19,
      "metadata": {
        "colab": {
          "base_uri": "https://localhost:8080/",
          "height": 252
        },
        "id": "gequ8WCJ6XBh",
        "outputId": "ae249504-e443-43c7-d783-70b682efdb1a"
      },
      "outputs": [
        {
          "output_type": "display_data",
          "data": {
            "text/plain": [
              "<Figure size 1440x360 with 4 Axes>"
            ],
            "image/png": "[encoded data removed]"
          },
          "metadata": {
            "needs_background": "light"
          }
        }
      ],
      "source": [
        "fig = plt.figure(figsize=(20,5))\n",
        "plt.axis(\"off\")\n",
        "ax1 = fig.add_subplot(1,3,1)\n",
        "ax1.imshow(wordcloud_verbos)\n",
        "ax1.set_title('Verbos mais usados')\n",
        "\n",
        "ax2 = fig.add_subplot(1,3,2)\n",
        "ax2.imshow(wordcloud_subs)\n",
        "ax2.set_title('Substantivos mais usados')\n",
        "\n",
        "ax3 = fig.add_subplot(1,3,3)\n",
        "ax3.imshow(wordcloud_nomes)\n",
        "ax3.set_title('Nomes mais usados')\n",
        "\n",
        "\n",
        "plt.show()"
      ]
    },
    {
      "cell_type": "markdown",
      "metadata": {
        "id": "OdGfjez7gRwR"
      },
      "source": [
        "No plot de nomes mais usados, encontramos alguns personagens presentes nos livros:\n",
        "- Carlota, que se refere à Madame Carlota, de \"A hora da estrela\"\n",
        "- Jesus, que pode se referir à Olímpico de Jesus\n",
        "\n",
        "Já a palavra Deus também aparece com muita frequência. Isto pois muitas obras de Clarice são recheadas de questões religiosas, pondo sempre em foco o ser humano. Um exemplo disto é o conto \"Perdoando a Deus\", presente no livro \"Todos os contos\".\n"
      ]
    },
    {
      "cell_type": "markdown",
      "metadata": {
        "id": "p2G0vle2NxUJ"
      },
      "source": [
        "### N-grams"
      ]
    },
    {
      "cell_type": "markdown",
      "metadata": {
        "id": "YUstaNGbo3F3"
      },
      "source": [
        "Outra análise que podemos fazer é em relação aos *n-grams*. Isto é, podemos fazer uma análise de frequência em que *n* palavras aparecem juntas. Aqui, vamos analisar *n-grams* de 2 palavras."
      ]
    },
    {
      "cell_type": "markdown",
      "metadata": {
        "id": "XKzjSJbHqmnf"
      },
      "source": [
        "Para facilitar um pouco a visualização, iremos ver apenas os 10 bigramas mais comuns."
      ]
    },
    {
      "cell_type": "code",
      "execution_count": 20,
      "metadata": {
        "colab": {
          "base_uri": "https://localhost:8080/",
          "height": 500
        },
        "id": "EePc2KDGNw90",
        "outputId": "f17be6e8-49e4-474b-a0ea-5ca6093b1b7b"
      },
      "outputs": [
        {
          "output_type": "execute_result",
          "data": {
            "text/plain": [
              "<matplotlib.axes._subplots.AxesSubplot at 0x7f40286f9150>"
            ]
          },
          "metadata": {},
          "execution_count": 20
        },
        {
          "output_type": "display_data",
          "data": {
            "text/plain": [
              "<Figure size 864x576 with 1 Axes>"
            ],
            "image/png": "[encoded data removed]"
          },
          "metadata": {
            "needs_background": "light"
          }
        }
      ],
      "source": [
        "bigrams = (pd.Series(nltk.ngrams(palavras, 2)).value_counts())[:10]\n",
        "bigrams.sort_values().plot.barh(color='pink', width=.9, figsize=(12, 8))"
      ]
    },
    {
      "cell_type": "markdown",
      "metadata": {
        "id": "CbrL2jCardSv"
      },
      "source": [
        "Nos bigramas mais comuns, podemos ver coisas como nomes de personagens (Madama e Carlota), nome do livro (Hora, Estrela), conectivos utilizados (Neste, Instante), e (Si,Mesma), que demonstra a intimicidade já conhecida das obras de Lispector."
      ]
    },
    {
      "cell_type": "markdown",
      "metadata": {
        "id": "JBwKamrmT1bE"
      },
      "source": [
        "### Classes gramaticais presentes\n",
        "\n"
      ]
    },
    {
      "cell_type": "markdown",
      "metadata": {
        "id": "3tdbKc1KsR6v"
      },
      "source": [
        "Outra análise que podemos fazer é ver o número de classes gramaticais presentes. Para isso, vamos usar novamente a biblioteca do Spacy. Para facilitar a análise, vamos excluir a classe gramatical de pontuações.\n"
      ]
    },
    {
      "cell_type": "code",
      "execution_count": 21,
      "metadata": {
        "colab": {
          "base_uri": "https://localhost:8080/",
          "height": 500
        },
        "id": "gnfOlXu_P-HP",
        "outputId": "1e13ddad-0f45-46ad-9b63-1cc500d1ab92"
      },
      "outputs": [
        {
          "output_type": "execute_result",
          "data": {
            "text/plain": [
              "<matplotlib.axes._subplots.AxesSubplot at 0x7f4024c81a50>"
            ]
          },
          "metadata": {},
          "execution_count": 21
        },
        {
          "output_type": "display_data",
          "data": {
            "text/plain": [
              "<Figure size 864x576 with 1 Axes>"
            ],
            "image/png": "[encoded data removed]"
          },
          "metadata": {
            "needs_background": "light"
          }
        }
      ],
      "source": [
        "pos_tags = pd.Series([token.pos_ for token in doc if token.pos_ != \"PUNCT\"]).value_counts()\n",
        "pos_tags.sort_values().plot.barh(color='pink', width=.9, figsize=(12, 8))"
      ]
    },
    {
      "cell_type": "markdown",
      "metadata": {
        "id": "_QDvn4fXSUFz"
      },
      "source": [
        "Com isso, vemos que os textos de Clarice possuem uma predominância de substantivos, verbos e adjetivos, mas com poucos nomes próprios e pronomes. Esses dados refletem nas obras, em que o psicológico dos personagens é comumente tematizado, abusando de adjetivos e pensamentos."
      ]
    },
    {
      "cell_type": "markdown",
      "metadata": {
        "id": "zOM2Lao_UFH0"
      },
      "source": [
        "## Word2Vec"
      ]
    },
    {
      "cell_type": "markdown",
      "metadata": {
        "id": "PWi3LBH6TNZc"
      },
      "source": [
        "Agora, vamos usar o Word2Vec para nos auxiliar com algumas análises. Com ele, podemos manipular as palavras como se fossem números, a partir de seus embeddings."
      ]
    },
    {
      "cell_type": "markdown",
      "metadata": {
        "id": "DabRZccPSuH5"
      },
      "source": [
        "### Utilizando nosso conjunto de dados"
      ]
    },
    {
      "cell_type": "markdown",
      "metadata": {
        "id": "BCHZmjcxTZLL"
      },
      "source": [
        "A priori, vamos usar o nosso próprio conjunto de dados para treinar o modelo."
      ]
    },
    {
      "cell_type": "markdown",
      "metadata": {
        "id": "d1eY6muIMDB-"
      },
      "source": [
        "Para treinar o modelo, devemos enviar listas de palavras. Para isso, vamos pegar o array palavras e dívidi-lo em listas com 2 palavras cada."
      ]
    },
    {
      "cell_type": "code",
      "execution_count": 22,
      "metadata": {
        "colab": {
          "base_uri": "https://localhost:8080/"
        },
        "id": "yQliRvwTbnm9",
        "outputId": "4e355822-53be-413f-978c-dd6a362b37b6"
      },
      "outputs": [
        {
          "output_type": "execute_result",
          "data": {
            "text/plain": [
              "[['hora', 'estrela'],\n",
              " ['clarice', 'lispector'],\n",
              " ['hora', 'estrela'],\n",
              " ['culpa', 'hora'],\n",
              " ['estrela', 'arranje'],\n",
              " ['direito', 'grito'],\n",
              " ['quanto', 'futuro'],\n",
              " ['lamento', 'blue'],\n",
              " ['sabe', 'gritar'],\n",
              " ['assovio', 'vento'],\n",
              " ['escuro', 'posso'],\n",
              " ['fazer', 'nada'],\n",
              " ['registro', 'fatos'],\n",
              " ['antecedentes', 'história'],\n",
              " ['lacrimogênica', 'cordel'],\n",
              " ['saída', 'discreta'],\n",
              " ['porta', 'fundos'],\n",
              " ['apresentação', 'escrever'],\n",
              " ['estrelas', 'ora'],\n",
              " ['direis', 'clarice'],\n",
              " ['lispector', 'deixou'],\n",
              " ['vários', 'depoimentos'],\n",
              " ['sobre', 'produção'],\n",
              " ['literária', 'alguns'],\n",
              " ['parecia', 'defender'],\n",
              " ['estranhamento', 'causava'],\n",
              " ['leitores', 'críticos'],\n",
              " ['consciência', 'diferença'],\n",
              " ['desde', 'pequena'],\n",
              " ['ver', 'recusadas'],\n",
              " ['histórias', 'mandava'],\n",
              " ['jornal', 'recife'],\n",
              " ['pressentia', 'porque'],\n",
              " ['nenhuma', 'contava'],\n",
              " ['fatos', 'necessários'],\n",
              " ['história', 'nenhuma'],\n",
              " ['relatava', 'acontecimento'],\n",
              " ['sabia', 'adulta'],\n",
              " ['poderia', 'tornar'],\n",
              " ['atraente', 'texto'],\n",
              " ['usasse', 'exemplo'],\n",
              " ['algumas', 'coisas'],\n",
              " ['emolduram', 'vida'],\n",
              " ['coisa', 'romance'],\n",
              " ['personagem', 'entretanto'],\n",
              " ['arriscando', 'rótulo'],\n",
              " ['escritora', 'difícil'],\n",
              " ['admitindo', 'ter'],\n",
              " ['público', 'reduzido'],\n",
              " ['conseguiria', 'abrir'],\n",
              " ['mão', 'traçado:'],\n",
              " ['gente', 'cose'],\n",
              " ['coso', 'dentro'],\n",
              " ['afastou', 'escritores'],\n",
              " ['opção', 'engajamento'],\n",
              " ['defendem', 'valores'],\n",
              " ['morais', 'políticos'],\n",
              " ['sociais', 'outros'],\n",
              " ['cuja', 'literatura'],\n",
              " ['dirigida', 'planificada'],\n",
              " ['fim', 'exaltar'],\n",
              " ['valores', 'geralmente'],\n",
              " ['impostos', 'poderes'],\n",
              " ['políticos', 'religiosos'],\n",
              " ['etc', 'muitas'],\n",
              " ['vezes', 'alheios'],\n",
              " ['escritor', 'nome'],\n",
              " ['outra', 'forma'],\n",
              " ['questionar', 'realidade'],\n",
              " ['nela', 'intervir'],\n",
              " ['através', 'literatura'],\n",
              " ['talvez', 'saber'],\n",
              " ['clarice', 'optando'],\n",
              " ['tipo', 'escrita'],\n",
              " ['característica', 'escritor'],\n",
              " ['moderno', 'dizer'],\n",
              " ['crítico', 'francês'],\n",
              " ['roland', 'barthes'],\n",
              " ['escrever', 'fazer'],\n",
              " ['centro', 'processo'],\n",
              " ['palavra', 'efetuar'],\n",
              " ['escritura', 'afetando'],\n",
              " ['si', 'próprio'],\n",
              " ['fazer', 'coincidir'],\n",
              " ['ação', 'afeição'],\n",
              " ['via', 'formula'],\n",
              " ['outra', 'qualidade'],\n",
              " ['experiência', 'envolvida'],\n",
              " ['escrita', 'nova'],\n",
              " ['perspectiva', 'linguagem'],\n",
              " ['concebida:', 'importante'],\n",
              " ['relatar', 'fato'],\n",
              " ['praticar', 'autoconhecimento'],\n",
              " ['alargamento', 'conhecimento'],\n",
              " ['mundo', 'através'],\n",
              " ['exercício', 'linguagem'],\n",
              " ['hora', 'estrela'],\n",
              " ['leva', 'proposta'],\n",
              " ['últimas', 'conseqüências'],\n",
              " ['leitura', 'torna'],\n",
              " ['tão', 'instigante'],\n",
              " ['certo', 'aqui'],\n",
              " ['reencontramos', 'agudeza'],\n",
              " ['investigação', 'natureza'],\n",
              " ['psicologia', 'humanas'],\n",
              " ['gosto', 'minúcia'],\n",
              " ['patente', 'trato'],\n",
              " ['dado', 'palavra'],\n",
              " ['tão', 'peculiares'],\n",
              " ['clarice', 'lispector'],\n",
              " ['lermos', 'livro'],\n",
              " ['hora', 'vez'],\n",
              " ['inserindo', 'conjunto'],\n",
              " ['obra', 'constataremos'],\n",
              " ['existe', 'algo'],\n",
              " ['novo', 'além'],\n",
              " ['insólito', 'prefácio'],\n",
              " ['forma', 'dedicatória'],\n",
              " ['frouxidão', 'enredo'],\n",
              " ['mescla', 'linguagem'],\n",
              " ['sutil', 'tom'],\n",
              " ['desnudo', 'cru'],\n",
              " ['ainda', 'intimidade'],\n",
              " ['choque', 'social'],\n",
              " ['apresentado', 'aqui'],\n",
              " ['autora', 'aborda'],\n",
              " ['frente', 'embate'],\n",
              " ['escritor', 'moderno'],\n",
              " ['melhor', 'escritor'],\n",
              " ['brasileiro', 'moderno'],\n",
              " ['condição', 'indigente'],\n",
              " ['população', 'brasileira'],\n",
              " ['deixar', 'lado'],\n",
              " ['afinal', 'contas'],\n",
              " ['traz', 'assinatura'],\n",
              " ['clarice', 'lispector'],\n",
              " ['reflexão', 'sobre'],\n",
              " ['mulher', 'discussão'],\n",
              " ['arma', 'partir'],\n",
              " ['estórias', 'entrecruzam'],\n",
              " ['acorde', 'musical:'],\n",
              " ['vida', 'macabéa'],\n",
              " ['imigrante', 'nordestina'],\n",
              " ['vive', 'desajustada'],\n",
              " ['rio', 'janeiro;'],\n",
              " ['autor', 'livro'],\n",
              " ['embora', 'rosto'],\n",
              " ['definido', 'conhecer'],\n",
              " ['comentários', 'faz;'],\n",
              " ['ainda', 'estória'],\n",
              " ['próprio', 'ato'],\n",
              " ['escrever', 'verdade'],\n",
              " ['última', 'estória'],\n",
              " ['promove', 'grande'],\n",
              " ['elo', 'todas'],\n",
              " ['escrever', 'livro'],\n",
              " ['escrever', 'macabéa'],\n",
              " ['sobretudo', 'escrever'],\n",
              " ['si', 'eis'],\n",
              " ['grande', 'desafio'],\n",
              " ['dessa', 'proposta'],\n",
              " ['cria', 'dramaticidade'],\n",
              " ['narrativa', 'pois'],\n",
              " ['escrita', 'envolve'],\n",
              " ['múltiplas', 'complexas'],\n",
              " ['relações:', 'escritor'],\n",
              " ['texto', 'escritor'],\n",
              " ['público', 'escritor'],\n",
              " ['personagem', 'tão'],\n",
              " ['distante', 'universo'],\n",
              " ['linguagem', 'moeda'],\n",
              " ['comunicação', 'homens'],\n",
              " ['ganha', 'foros'],\n",
              " ['personagem', 'personagem'],\n",
              " ['crise', 'emergem'],\n",
              " ['indagações:', 'palavra'],\n",
              " ['usa', 'expressa'],\n",
              " ['verdadeiramente?', 'linguagem'],\n",
              " ['funda', 'realidade?'],\n",
              " ['palavra', 'distancia'],\n",
              " ['aproxima', 'pessoas?'],\n",
              " ['dispor', 'palavra'],\n",
              " ['dom', 'maldição?'],\n",
              " ['palavra', 'cabe'],\n",
              " ['artista', 'contemporâneo?'],\n",
              " ['palavra', 'adequa'],\n",
              " ['escritor', 'terceiromundista'],\n",
              " ['falar', 'brasil'],\n",
              " ['miserável?', 'papel'],\n",
              " ['espera', 'artista?'],\n",
              " ['assim', 'posto'],\n",
              " ['enredo', 'fugaz'],\n",
              " ['aparência', 'revela'],\n",
              " ['algumas', 'linhas'],\n",
              " ['sustentação', 'jogo'],\n",
              " ['linguagem', 'poder'],\n",
              " ['conhecimento', 'comunicação'],\n",
              " ['convencimento', 'debatem'],\n",
              " ['existência', 'humana'],\n",
              " ['laços', 'sociais'],\n",
              " ['patente', 'isolamento'],\n",
              " ['pessoas', 'parece'],\n",
              " ['conduzir', 'reflexão'],\n",
              " ['sobre', 'condição'],\n",
              " ['humano', 'agravada'],\n",
              " ['tipo', 'organização'],\n",
              " ['social', 'segrega'],\n",
              " ['indivíduos', 'si'],\n",
              " ['artista', 'constata'],\n",
              " ['exílio', 'homem'],\n",
              " ['própria', 'terra'],\n",
              " ['respostas', 'prontas'],\n",
              " ['justifiquem', 'inquietação'],\n",
              " ['move', 'faz'],\n",
              " ['escreva', 'tente'],\n",
              " ['descobrir', 'escrita'],\n",
              " ['própria', 'identidade'],\n",
              " ['própria', 'humanidade'],\n",
              " ['cara', 'cara'],\n",
              " ['outra', 'qualquer'],\n",
              " ['pessoa', 'hora'],\n",
              " ['estrela', 'empreendimento'],\n",
              " ['assume', 'ousadia'],\n",
              " ['profundidade', 'inusitadas'],\n",
              " ['escritor', 'solta'],\n",
              " ['amarras', 'vai'],\n",
              " ['fundo', 'poço:'],\n",
              " ['origens', 'contradições'],\n",
              " ['sociedade', 'vive'],\n",
              " ['tal', 'tomando'],\n",
              " ['base', 'linguagem'],\n",
              " ['dispõe', 'três'],\n",
              " ['tipos', 'abordagem:'],\n",
              " ['filosófica', 'social'],\n",
              " ['estética', 'perspectiva'],\n",
              " ['filosófica', 'limites'],\n",
              " ['alcances', 'conhecimento'],\n",
              " ['mundo', 'diante'],\n",
              " ['á', 'palavra'],\n",
              " ['consciência', 'através'],\n",
              " ['quais', 'humano'],\n",
              " ['distingue', 'outros'],\n",
              " ['seres', 'perspectiva'],\n",
              " ['social', 'investiga'],\n",
              " ['impasses', 'criados'],\n",
              " ['separação', 'indivíduos'],\n",
              " ['diferentes', 'grupos'],\n",
              " ['dando', 'destaque'],\n",
              " ['inserção', 'escritor'],\n",
              " ['nordestino', 'sociedade'],\n",
              " ['brasileira;', 'perspectiva'],\n",
              " ['estética', 'sonda'],\n",
              " ['gesto', 'criador'],\n",
              " ['trabalho', 'busca'],\n",
              " ['expressão', 'inaugure'],\n",
              " ['apreensão', 'original'],\n",
              " ['real', 'três'],\n",
              " ['aspectos', 'claro'],\n",
              " ['apresentam', 'forma'],\n",
              " ['imbricada', 'livro'],\n",
              " ['ângulo', 'filosófico'],\n",
              " ['evidência', 'origens'],\n",
              " ['perdem', 'tempo'],\n",
              " ['impossível', 'voltar'],\n",
              " ['época', 'coisas'],\n",
              " ['acontecem', 'antes'],\n",
              " ['acontecer', 'leva'],\n",
              " ['indivíduo', 'estado'],\n",
              " ['perplexidade', 'afirmar'],\n",
              " ['tudo', 'mundo'],\n",
              " ['começou', 'sim'],\n",
              " ['narrador', 'revela'],\n",
              " ['sabe', 'coisas'],\n",
              " ['criam', 'ato'],\n",
              " ['vontade', 'afirmação'],\n",
              " ['sabe', 'portanto'],\n",
              " ['modo', 'algo'],\n",
              " ['passa', 'existir'],\n",
              " ['compreensão', 'deste'],\n",
              " ['algo', 'entanto'],\n",
              " ['esbarra', 'naquilo'],\n",
              " ['antecedeu', 'possibilitou'],\n",
              " ['expressão', 'vontade'],\n",
              " ['possibilitou', 'sim'],\n",
              " ['então', 'escolha'],\n",
              " ['fizesse', 'importante'],\n",
              " ['modo', 'algo'],\n",
              " ['existia', 'ganha'],\n",
              " ['existência', 'problema'],\n",
              " ['fundamental', 'origem'],\n",
              " ['começo', 'tudo'],\n",
              " ['situa', 'ordem'],\n",
              " ['temporal', 'inapreensível'],\n",
              " ['homem:', 'sempre'],\n",
              " ['sei', 'quê'],\n",
              " ['sei', 'universo'],\n",
              " ['jamais', 'começou'],\n",
              " ['assim', 'pessoa'],\n",
              " ['faz', 'intermináveis'],\n",
              " ['perguntas', 'vive'],\n",
              " ['série', 'faltas'],\n",
              " ['única', 'verdade'],\n",
              " ['indiscutível', 'existências'],\n",
              " ['individuais', 'intui'],\n",
              " ['certo', 'identificação'],\n",
              " ['todos', 'unidade'],\n",
              " ['todos', 'unificação'],\n",
              " ['mostra', 'principalmente'],\n",
              " ['carência', 'pobreza'],\n",
              " ['dinheiro', 'pobreza'],\n",
              " ['espírito', 'saudade'],\n",
              " ['faltar', 'coisa'],\n",
              " ['preciosa', 'ouro'],\n",
              " ['existe', 'falte'],\n",
              " ['delicado', 'essencial'],\n",
              " ['fica', 'apenas'],\n",
              " ['constatação', 'cada'],\n",
              " ['fragmento', 'parte'],\n",
              " ['algo', 'daí'],\n",
              " ['projetar', 'sentido'],\n",
              " ['último', 'realidade'],\n",
              " ['realidade', 'sempre'],\n",
              " ['faltando', 'dolorosamente'],\n",
              " ['ainda', 'existe'],\n",
              " ['consciência', 'cada'],\n",
              " ['advertindo', 'sobre'],\n",
              " ['vazio', 'empenho'],\n",
              " ['transpô', 'lo'],\n",
              " ['consciência', 'aflora'],\n",
              " ['atributo', 'humano'],\n",
              " ['paradoxal:', 'instrumentos'],\n",
              " ['tentar', 'responder'],\n",
              " ['indagações', 'possibilita'],\n",
              " ['busque', 'sentido'],\n",
              " ['vida', 'desponta'],\n",
              " ['fonte', 'dúvidas'],\n",
              " ['assinalando', 'ruptura'],\n",
              " ['cada', 'individual'],\n",
              " ['modo', 'existência'],\n",
              " ['originário', 'tudo'],\n",
              " ['todo', 'cheio'],\n",
              " ['harmonia', 'consciência'],\n",
              " ['condição', 'liberdade'],\n",
              " ['simultaneamente', 'aprisionamento'],\n",
              " ['nostalgia', 'integração'],\n",
              " ['total', 'cosmos'],\n",
              " ['confere', 'certa'],\n",
              " ['tragicidade', 'projeto'],\n",
              " ['narrador', 'pois'],\n",
              " ['tempo', 'sabe'],\n",
              " ['independente', 'gosta'],\n",
              " ['sê', 'lo'],\n",
              " ['anseia', 'identificação'],\n",
              " ['completa', 'outro'],\n",
              " ['comunicação', 'direta'],\n",
              " ['obstáculos', 'acabaria'],\n",
              " ['anulando', 'individualidade'],\n",
              " ['autonomia', 'vivência'],\n",
              " ['culpa', 'erro'],\n",
              " ['fundamental', 'sanado'],\n",
              " ['desponta', 'desde'],\n",
              " ['primeiro', 'subtítulo'],\n",
              " ['livro', 'culpa'],\n",
              " ['sempre', 'retorna'],\n",
              " ['sintomas', 'deste'],\n",
              " ['desgarramento', 'homem'],\n",
              " ['mundo', 'vendo'],\n",
              " ['cerradas', 'portas'],\n",
              " ['acesso', 'unidade'],\n",
              " ['originária', 'vai'],\n",
              " ['investigar', 'solitário'],\n",
              " ['dinâmica', 'existência'],\n",
              " ['individual', 'escolha'],\n",
              " ['macabéa', 'anônima'],\n",
              " ['incompetente', 'vida'],\n",
              " ['integra', 'determinação'],\n",
              " ['inclui', 'busca'],\n",
              " ['regressão', 'inumano'],\n",
              " ['trata', 'apenas'],\n",
              " ['narrativa', 'antes'],\n",
              " ['tudo', 'vida'],\n",
              " ['primária', 'respira'],\n",
              " ['respira', 'respira'],\n",
              " ['expiação', 'possível'],\n",
              " ['culpa', 'narrador'],\n",
              " ['perpassado', 'toda'],\n",
              " ['sorte', 'indagações'],\n",
              " ['sobre', 'existir'],\n",
              " ['atormentado', 'incompletude'],\n",
              " ['dualidade', 'natureza'],\n",
              " ['humana', 'quais'],\n",
              " ['respostas', 'precárias'],\n",
              " ['converte', 'busca'],\n",
              " ['única', 'certeza'],\n",
              " ['daí', 'decorrem'],\n",
              " ['menos', 'dois'],\n",
              " ['movimentos', 'centrais'],\n",
              " ['narrativa', 'primeiro'],\n",
              " ['toda', 'busca'],\n",
              " ['toda', 'pergunta'],\n",
              " ['busca', 'algo'],\n",
              " ['pergunta', 'alguém'],\n",
              " ['narrador', 'saber'],\n",
              " ['desdobrar', 'dialogar'],\n",
              " ['situação', 'comunicativa'],\n",
              " ['banal', 'passa'],\n",
              " ['despercebido', 'projeta'],\n",
              " ['narrador', 'condição'],\n",
              " ['essencial', 'ser:'],\n",
              " ['apreender', 'si'],\n",
              " ['inclui', 'confronto'],\n",
              " ['outro', 'tempo'],\n",
              " ['projeção', 'traz'],\n",
              " ['implícito', 'retorno'],\n",
              " ['si', 'tenta'],\n",
              " ['unificar', 'único'],\n",
              " ['sujeito', 'individual'],\n",
              " ['elementos', 'presentes'],\n",
              " ['outros', 'seres'],\n",
              " ['universo', 'dois'],\n",
              " ['movimentos', 'tensão'],\n",
              " ['permanente', 'interior'],\n",
              " ['obra', 'narrador'],\n",
              " ['mantém', 'interlocutor'],\n",
              " ['deus', 'leitor'],\n",
              " ['macabéa', 'postura'],\n",
              " ['ambivalente', 'identificação'],\n",
              " ['afastamento', 'enquanto'],\n",
              " ['artista', 'aproxima'],\n",
              " ['deus', 'ambos'],\n",
              " ['criadores', 'fazê'],\n",
              " ['lo', 'cena'],\n",
              " ['forma', 'humaniza'],\n",
              " ['diviniza', 'si'],\n",
              " ['tempo', 'entanto'],\n",
              " ['deus', 'permanece'],\n",
              " ['enquanto', 'figura'],\n",
              " ['abstrata', 'dominadora'],\n",
              " ['corporifica', 'idéia'],\n",
              " ['totalidade', 'nisto'],\n",
              " ['constitui', 'ente'],\n",
              " ['demoníaco', 'diante'],\n",
              " ['homem', 'condenado'],\n",
              " ['expressar', 'palavras'],\n",
              " ['fadado', 'morrer'],\n",
              " ['apequena', 'vosso'],\n",
              " ['deus', 'mandou'],\n",
              " ['inventar', 'leitor'],\n",
              " ['ora', 'alguém'],\n",
              " ['solidariza', 'dor'],\n",
              " ['desamparo', 'ora'],\n",
              " ['alguém', 'quer'],\n",
              " ['distância', 'macabéa'],\n",
              " ['nordestina', 'afasta'],\n",
              " ['abismo', 'social'],\n",
              " ['separa', 'meio'],\n",
              " ['tensão', 'homem'],\n",
              " ['mundo', 'surge'],\n",
              " ['debate', 'torno'],\n",
              " ['palavra', 'sendo'],\n",
              " ['narrador', 'escritor'],\n",
              " ['diálogo', 'mediado'],\n",
              " ['palavra', 'tal'],\n",
              " ['consciência', 'palavra'],\n",
              " ['faca', 'dois'],\n",
              " ['gumes', 'pois'],\n",
              " ['tempo', 'constitui'],\n",
              " ['instrumento', 'aproximação'],\n",
              " ['risco', 'palavra'],\n",
              " ['artista', 'abusar'],\n",
              " ['poder', 'aniquilar'],\n",
              " ['palavra', 'macabéa'],\n",
              " ['disso', 'resultaria'],\n",
              " ['fracasso', 'dessa'],\n",
              " ['experiência', 'ficcional'],\n",
              " ['caso', 'significaria'],\n",
              " ['fracasso', 'projeto'],\n",
              " ['escrever', 'enquanto'],\n",
              " ['projeto', 'existencial'],\n",
              " ['tudo', 'hora'],\n",
              " ['estrela', 'acha'],\n",
              " ['mergulhado', 'desassossego'],\n",
              " ['ausência', 'sentido'],\n",
              " ['tudo', 'todos'],\n",
              " ['livro', 'caça'],\n",
              " ['narrador', 'escritor'],\n",
              " ['diante', 'morte'],\n",
              " ['deus', 'enquanto'],\n",
              " ['horizonte', 'sentido'],\n",
              " ['homem', 'homem'],\n",
              " ['tempo', 'padece'],\n",
              " ['figura', 'poderosa'],\n",
              " ['criador', 'vai'],\n",
              " ['então', 'vasculhar'],\n",
              " ['interioridade', 'entanto'],\n",
              " ['sempre', 'escapa'],\n",
              " ['vai', 'indagar'],\n",
              " ['sentido', 'existência'],\n",
              " ['macabéa', 'tosca'],\n",
              " ['manifestação', 'vida'],\n",
              " ['nesta', 'verdadeira'],\n",
              " ['viagem', 'põe'],\n",
              " ['nu', 'imagem'],\n",
              " ['escritor', 'denuncia'],\n",
              " ['mentira', 'palavra'],\n",
              " ['transparente', 'verdadeira'],\n",
              " ['usada', 'forma'],\n",
              " ['comunicação', 'homens'],\n",
              " ['homem', 'consigo'],\n",
              " ['trajetória', 'aproxima'],\n",
              " ['clarice', 'lispector'],\n",
              " ['outros', 'escritores'],\n",
              " ['modernos', 'fernando'],\n",
              " ['pessoa', 'colocaram'],\n",
              " ['sob', 'suspeita'],\n",
              " ['comunicação', 'direta'],\n",
              " ['perspectiva', 'social'],\n",
              " ['vai', 'assim'],\n",
              " ['definindo', 'reflexão'],\n",
              " ['sobre', 'projeto'],\n",
              " ['ficcional', 'hora'],\n",
              " ['estrela', 'meio'],\n",
              " ['denuncia', 'máscaras'],\n",
              " ['sociais', 'encobrem'],\n",
              " ['crise', 'fundamental'],\n",
              " ['indivíduo', 'alienado'],\n",
              " ['si', 'rígidos'],\n",
              " ['papéis', 'sociais'],\n",
              " ['escrever', 'livro'],\n",
              " ['forma', 'autoconhecimento'],\n",
              " ['escrevendo', 'hora'],\n",
              " ['mesma', 'lido'],\n",
              " ['levado', 'últimas'],\n",
              " ['conseqüências', 'elege'],\n",
              " ['heroína', 'alguém'],\n",
              " ['tão', 'inexpressivo'],\n",
              " ['macabéa', 'escrever'],\n",
              " ['implica', 'desnudar'],\n",
              " ['aceitar', 'dor'],\n",
              " ['envolvida', 'neste'],\n",
              " ['processo;', 'escrever'],\n",
              " ['macabéa', 'significa'],\n",
              " ['enfrentar', 'desamparo'],\n",
              " ['palavra', 'tenta'],\n",
              " ['ajustar', 'essência'],\n",
              " ['natureza', 'constrói'],\n",
              " ['forma', 'personagem'],\n",
              " ['narrador', 'escritor'],\n",
              " ['coloca', 'desde'],\n",
              " ['início', 'drama'],\n",
              " ['afirmar:', 'desconhecido'],\n",
              " ['responder', 'falta'],\n",
              " ['sentido', 'põe'],\n",
              " ['mostra', 'condição'],\n",
              " ['artista', 'desmistifica'],\n",
              " ['lugar', 'pessoa'],\n",
              " ['eleita', 'antecedentes'],\n",
              " ['escrever?', 'homem'],\n",
              " ['dinheiro', 'passam'],\n",
              " ['fome', 'faz'],\n",
              " ['mim', 'algum'],\n",
              " ['modo', 'desonesto'],\n",
              " ['ironiza', 'dificuldade'],\n",
              " ['inserção', 'escritor'],\n",
              " ['sociedade', 'sim'],\n",
              " ['classe', 'social'],\n",
              " ['marginalizado', 'classe'],\n",
              " ['alta', 'monstro'],\n",
              " ['esquisito', 'média'],\n",
              " ['desconfiança', 'possa'],\n",
              " ['desequilibrá', 'la'],\n",
              " ['classe', 'baixa'],\n",
              " ['nunca', 'vem'],\n",
              " ['mim', 'desmascara'],\n",
              " ['preconceito', 'contra'],\n",
              " ['escritora', 'mulher'],\n",
              " ['aliás', 'descubro'],\n",
              " ['agora', 'faço'],\n",
              " ['menor', 'falta'],\n",
              " ['escrevo', 'outro'],\n",
              " ['escreveria', 'outro'],\n",
              " ['escritor', 'sim'],\n",
              " ['homem', 'porque'],\n",
              " ['escritora', 'mulher'],\n",
              " ['pode', 'lacrimejar'],\n",
              " ['piegas:', 'põe'],\n",
              " ['cheque', 'importância'],\n",
              " ['trabalho', 'diante'],\n",
              " ['manifestação', 'vida:'],\n",
              " ['quanto', 'escrever'],\n",
              " ['vale', 'cachorro'],\n",
              " ['vivo', 'ironia'],\n",
              " ['empregada', 'narrador'],\n",
              " ['leva', 'entanto'],\n",
              " ['outro', 'aspecto'],\n",
              " ['existência', 'mesma'],\n",
              " ['livro', 'confirma:'],\n",
              " ['crédito', 'atribuído'],\n",
              " ['ficção', 'via'],\n",
              " ['acesso', 'compreensão'],\n",
              " ['mundo', 'outras'],\n",
              " ['passagens', 'livro'],\n",
              " ['mostram', 'existe'],\n",
              " ['outro', 'modo'],\n",
              " ['narrar', 'difícil'],\n",
              " ['certo', 'permite'],\n",
              " ['provocar', 'novo'],\n",
              " ['olhar', 'sobre'],\n",
              " ['vida', 'método'],\n",
              " ['trabalho', 'configura'],\n",
              " ['verdadeiro', 'ritual'],\n",
              " ['iniciação', 'esquentando'],\n",
              " ['corpo', 'iniciar'],\n",
              " ['esfregando', 'mãos'],\n",
              " ['outra', 'ter'],\n",
              " ['coragem', 'consiste'],\n",
              " ['eliminar', 'supérfluo'],\n",
              " ['porque', 'assim'],\n",
              " ['poderá', 'captar'],\n",
              " ['fracas', 'aventuras'],\n",
              " ['moça', 'cidade'],\n",
              " ['toda', 'feita'],\n",
              " ['contra', 'atitude'],\n",
              " ['diante', 'macabéa'],\n",
              " ['continuidade', 'atitude'],\n",
              " ['diante', 'linguagem'],\n",
              " ['falar', 'moça'],\n",
              " ['fazer', 'barba'],\n",
              " ['durante', 'dias'],\n",
              " ['adquirir', 'olheiras'],\n",
              " ['escuras', 'dormir'],\n",
              " ['pouco', 'vestir'],\n",
              " ['roupa', 'velha'],\n",
              " ['rasgada', 'tudo'],\n",
              " ['nível', 'nordestina'],\n",
              " ['travestir', 'pretende'],\n",
              " ['ocultar', 'disfarce'],\n",
              " ['fazer', 'si'],\n",
              " ['terreno', 'propício'],\n",
              " ['voz', 'presença'],\n",
              " ['macabéa', 'ganhem'],\n",
              " ['existência', 'traição'],\n",
              " ['sabendo', 'corre'],\n",
              " ['risco', 'perda'],\n",
              " ['comunicação', 'moldes'],\n",
              " ['canonizados', 'vê'],\n",
              " ['portanto', 'narrador'],\n",
              " ['escritor', 'tece'],\n",
              " ['paralelo', 'certa'],\n",
              " ['postura', 'física'],\n",
              " ['espiritual', 'ética'],\n",
              " ['postura', 'diante'],\n",
              " ['instrumento', 'trabalho'],\n",
              " ['palavra', 'pode'],\n",
              " ['enfeitada', 'artisticamente'],\n",
              " ['vã', 'apenas'],\n",
              " ['tal', 'opõe'],\n",
              " ['palavra', 'sentido'],\n",
              " ['alienada', 'ilusória'],\n",
              " ['descarta', 'palavraexpressão'],\n",
              " ['nomeadora:', 'escrever'],\n",
              " ['nome', 'real'],\n",
              " ['dado', 'coisas'],\n",
              " ['cada', 'coisa'],\n",
              " ['palavra', 'hora'],\n",
              " ['estrela', 'consiste'],\n",
              " ['verdadeira', 'peregrinação'],\n",
              " ['escuta', 'fala'],\n",
              " ['longo', 'escritor'],\n",
              " ['tenta', 'construir'],\n",
              " ['partir', 'limo'],\n",
              " ['pessoa', 'formiga'],\n",
              " ['macabéa', 'própria'],\n",
              " ['pessoa', 'gigante'],\n",
              " ['deconsciência', 'estrela'],\n",
              " ['pessoa', 'estrela'],\n",
              " ['palavra', 'assim'],\n",
              " ['pessoa', 'rala'],\n",
              " ['muda', 'recolhida'],\n",
              " ['olhar', 'arguto'],\n",
              " ['escritor', 'desorientado'],\n",
              " ['conduzido', 'palavra'],\n",
              " ['desconfiando', 'forma'],\n",
              " ['destino', 'si'],\n",
              " ['próprio', 'moça'],\n",
              " ['nordestina', 'busca'],\n",
              " ['faz', 'fixe'],\n",
              " ['duas', 'metas'],\n",
              " ['aparentemente', 'contraditórias:'],\n",
              " ['simplicidade', 'história'],\n",
              " ['quer', 'exterior'],\n",
              " ['explícita', 'sim'],\n",
              " ['contém', 'segredos'],\n",
              " ['aproximação', 'palavra'],\n",
              " ['silêncio', 'narrador'],\n",
              " ['escritor', 'tal'],\n",
              " ['poeta', 'francês'],\n",
              " ['baudelaire', 'vagando'],\n",
              " ['ruas', 'paris'],\n",
              " ['vã', 'deserto'],\n",
              " ['cidade', 'rio'],\n",
              " ['janeiro', 'decadência'],\n",
              " ['humano', 'através'],\n",
              " ['macabéa', 'representante'],\n",
              " ['milhares', 'moças'],\n",
              " ['espalhadas', 'cortiços'],\n",
              " ['notam', 'sequer'],\n",
              " ['facilmente', 'substituíveis'],\n",
              " ['baudelaire', 'ainda'],\n",
              " ['sente', 'atraído'],\n",
              " ['mundo', 'sórdido'],\n",
              " ['precário', 'artista'],\n",
              " ['vê', 'detrás'],\n",
              " ['máscaras', 'inclui'],\n",
              " ['nessa', 'sociedade'],\n",
              " ['cruel', 'aniquiladora'],\n",
              " ['compraz', 'denúncia'],\n",
              " ['alvos', 'favoritos'],\n",
              " ['leitores', 'deus'],\n",
              " ['todo', 'ambiente'],\n",
              " ['agressivo', 'vive'],\n",
              " ['normalmente', 'desvia'],\n",
              " ['olhar', 'nessa'],\n",
              " ['perambulação', 'constata'],\n",
              " ['algo', 'poderia'],\n",
              " ['ter', 'vingado'],\n",
              " ['vingou', 'dito'],\n",
              " ['livro', 'duas'],\n",
              " ['vezes', 'maneira'],\n",
              " ['faz', 'lembrar'],\n",
              " ['verso', 'conhecido'],\n",
              " ['manuel', 'bandeira'],\n",
              " ['pneumotórax:', 'experimentei'],\n",
              " ['quase', 'tudo'],\n",
              " ['inclusive', 'paixão'],\n",
              " ['desespero', 'agora'],\n",
              " ['queria', 'ter'],\n",
              " ['sido', 'p'],\n",
              " ['gargalhada', 'aterrorizadora'],\n",
              " ['porque', 'acontecia'],\n",
              " ['passado', 'imaginação'],\n",
              " ['maléfica', 'trazia'],\n",
              " ['presente', 'saudade'],\n",
              " ['poderia', 'ter'],\n",
              " ['sido', 'p'],\n",
              " ['primeira', 'vez'],\n",
              " ['refere', 'escritor;'],\n",
              " ['segunda', 'macabéa'],\n",
              " ['aí', 'pode'],\n",
              " ['inferir', 'vivência'],\n",
              " ['restrita', 'realidade'],\n",
              " ['particular', 'sim'],\n",
              " ['coletiva', 'perspectiva'],\n",
              " ['ampla', 'porque'],\n",
              " ['pano', 'fundo'],\n",
              " ['encontro', 'mundo'],\n",
              " ['deus', 'ousadia'],\n",
              " ['desmascaramento', 'reflete'],\n",
              " ['meticulosidade', 'grotesco'],\n",
              " ['feiúra', 'macabéa'],\n",
              " ['tratados', 'escritor'],\n",
              " ['descreve', 'ombros'],\n",
              " ['curvos', 'cerzideira'],\n",
              " ['corpo', 'cariado'],\n",
              " ['acaso', 'feto'],\n",
              " ['jogado', 'lata'],\n",
              " ['lixo', 'embrulhado'],\n",
              " ['jornal', 'interesse'],\n",
              " ['feio', 'grotesco'],\n",
              " ['dado', 'ligação'],\n",
              " ['desta', 'obra'],\n",
              " ['tradição', 'modernidade'],\n",
              " ['trata', 'feio'],\n",
              " ['apenas', 'elemento'],\n",
              " ['cômico', 'inferioridade'],\n",
              " ['moral', 'eleva'],\n",
              " ['plano', 'valores'],\n",
              " ['metafísicos', 'coisa'],\n",
              " ['incompleta', 'discordante'],\n",
              " ['feio', 'afirma'],\n",
              " ['fragmentário', 'vida'],\n",
              " ['macabéa', 'matéria'],\n",
              " ['orgânica', 'exemplo'],\n",
              " ['concreto', 'existência'],\n",
              " ['ara', 'nada'],\n",
              " ['sobretudo', 'porque'],\n",
              " ['expõe', 'apenas'],\n",
              " ['maior', 'evidência'],\n",
              " ['ausência', 'sentido'],\n",
              " ['atinge', 'todos'],\n",
              " ['escritor', 'tenta'],\n",
              " ['penetrar', 'nessa'],\n",
              " ['feiúra', 'extrema'],\n",
              " ['intuito', 'recobrar'],\n",
              " ['ainda', 'guarda'],\n",
              " ['estrela', 'idealidade'],\n",
              " ['grotesco', 'vem'],\n",
              " ['exprimir', 'encontro'],\n",
              " ['violento', 'divino'],\n",
              " ['diabólico', 'autor'],\n",
              " ['procura', 'danadamente'],\n",
              " ['achar', 'nessa'],\n",
              " ['existência', 'menos'],\n",
              " ['topázio', 'esplendor'],\n",
              " ['grifo', 'algum'],\n",
              " ['brilho', 'irá'],\n",
              " ['avivar', 'contraste'],\n",
              " ['insuficiência', 'real'],\n",
              " ['macabéa', 'tudo'],\n",
              " ['tudo', 'oposto'],\n",
              " ['herói', 'épico'],\n",
              " ['trajetória', 'vida'],\n",
              " ['aponta', 'inviabilidade'],\n",
              " ['grandes', 'feitos'],\n",
              " ['sociedade', 'moderna'],\n",
              " ['retomando', 'conceito'],\n",
              " ['crítico', 'alemão'],\n",
              " ['walter', 'benjamin'],\n",
              " ['pode', 'afirmar'],\n",
              " ['sequer', 'experiência'],\n",
              " ['vida', 'memória'],\n",
              " ['dia', 'pudesse'],\n",
              " ['soubesse', 'resgatar'],\n",
              " ['máximo', 'canto'],\n",
              " ['galo', 'faz'],\n",
              " ['lembre', 'terra'],\n",
              " ['infância', 'território'],\n",
              " ['espúrio', 'proveniente'],\n",
              " ['meio', 'rude'],\n",
              " ['órfã', 'pai'],\n",
              " ['mãe', 'criada'],\n",
              " ['pancadas', 'tia'],\n",
              " ['macabéa', 'propriamente'],\n",
              " ['história', 'pessoal'],\n",
              " ['felicidade', 'conceito'],\n",
              " ['oco', 'índole'],\n",
              " ['passiva', 'torna'],\n",
              " ['presa', 'fácil'],\n",
              " ['mitos', 'produtos'],\n",
              " ['indústria', 'cultural'],\n",
              " ['admira', 'grandes'],\n",
              " ['estrelas', 'cinema'],\n",
              " ['sente', 'fascinada'],\n",
              " ['anúncios', 'publicitários'],\n",
              " ['notícias', 'descosidas'],\n",
              " ['rádio', 'relógio'],\n",
              " ['integram', 'contexto'],\n",
              " ['alienante', 'dentro'],\n",
              " ['cotidiano', 'faz'],\n",
              " ['tempo', 'meramente'],\n",
              " ['físico', 'desprovido'],\n",
              " ['ação', 'subjetiva'],\n",
              " ['interaja', 'proposta'],\n",
              " ['transformação', 'inexiste'],\n",
              " ['passado;', 'inexiste'],\n",
              " ['projeto', 'futuro'],\n",
              " ['quotidiano', 'macabéa'],\n",
              " ['confirma', 'cada'],\n",
              " ['detalhe', 'inabilidade'],\n",
              " ['despreparo', 'enfrentamento'],\n",
              " ['elementar', 'diante'],\n",
              " ['dificuldades', 'inerentes'],\n",
              " ['vida', 'pouco'],\n",
              " ['habilitada', 'trabalho;'],\n",
              " ['fracassa', 'amor'],\n",
              " ['única', 'conquista'],\n",
              " ['amorosa', 'desajeitado'],\n",
              " ['olimpo', 'foge'],\n",
              " ['mãos', 'água'],\n",
              " ['parece', 'esgotada'],\n",
              " ['denúncia', 'fragilidade'],\n",
              " ['pormenor', 'desponta'],\n",
              " ['boneca', 'animada'],\n",
              " ['macabéa', 'estimulasse'],\n",
              " ['forças', 'negativas'],\n",
              " ['mundo', 'acentuando'],\n",
              " ['lugar', 'vítima'],\n",
              " ['desenlace', 'trágico'],\n",
              " ['atropelamento', 'estória'],\n",
              " ['macabéa', 'resume'],\n",
              " ['sobrevivência', 'quase'],\n",
              " ['inumana', 'pois'],\n",
              " ['tudo', 'sente'],\n",
              " ['deseja', 'dispõe'],\n",
              " ['palavras', 'expressar'],\n",
              " ['assim', 'testemunho'],\n",
              " ['veemente', 'falta'],\n",
              " ['deposse', 'sobre'],\n",
              " ['si', 'mesma'],\n",
              " ['sobre', 'mundo'],\n",
              " ['maneira', 'lida'],\n",
              " ['palavra', 'priva'],\n",
              " ['palavra', 'permanece'],\n",
              " ['silêncio', 'opção'],\n",
              " ['maneira', 'precária'],\n",
              " ['oposição', 'silêncio'],\n",
              " ['enquanto', 'momento'],\n",
              " ['linguagem', 'fala'],\n",
              " ['sartre', ';'],\n",
              " ['fala', 'dissonância'],\n",
              " ['sempre', 'expressa'],\n",
              " ['inadequadamente', 'mostra'],\n",
              " ['interesse', 'palavras'],\n",
              " ['conceitos', 'reveladores'],\n",
              " ['condição', 'existencial'],\n",
              " ['social', 'descontextualizados'],\n",
              " ['levam', 'autoconhecimento'],\n",
              " ['vale', 'magia'],\n",
              " ['secreta', 'termos'],\n",
              " ['designar', 'mimetismo'],\n",
              " ['efeméride', 'renda'],\n",
              " ['per', 'capita'],\n",
              " ['conde', 'somente'],\n",
              " ['despertam', 'nela'],\n",
              " ['curiosidade', 'infantil?'],\n",
              " ['próprio', 'nome'],\n",
              " ['adverte', 'ara'],\n",
              " ['contrasenso', 'pois'],\n",
              " ['nada', 'aproxima'],\n",
              " ['índole', 'heróica'],\n",
              " ['macabeus', 'povo'],\n",
              " ['guerreiro', 'história'],\n",
              " ['hebreus', 'perspectiva'],\n",
              " ['estética', 'vem'],\n",
              " ['propósito', 'evitar'],\n",
              " ['falseamento', 'realidade'],\n",
              " ['narradorescritor', 'escolhe'],\n",
              " ['nova', 'maneira'],\n",
              " ['olhar', 'nova'],\n",
              " ['postura', 'diante'],\n",
              " ['narrar', 'indicadas'],\n",
              " ['livro', 'distração'],\n",
              " ['flash', 'fotográfico'],\n",
              " ['ambos', 'destaca'],\n",
              " ['idéia', 'relance'],\n",
              " ['súbita', 'visão'],\n",
              " ['desarma', 'permitindo'],\n",
              " ['apreenda', 'algo'],\n",
              " ['resiste', 'descoberto'],\n",
              " ['analogias', 'palavra'],\n",
              " ['sonho', 'pedra'],\n",
              " ['silêncio', 'vão'],\n",
              " ['mesma', 'direção'],\n",
              " ['sonhos', 'deixam'],\n",
              " ['fluir', 'penumbra'],\n",
              " ['atormentada', 'atormentada'],\n",
              " ['porque', 'toca'],\n",
              " ['verdade', 'sempre'],\n",
              " ['contato', 'interior'],\n",
              " ['inexplicável', 'aventura'],\n",
              " ['paradoxal', 'dessa'],\n",
              " ['ficção', 'consiste'],\n",
              " ['pôr', 'claras'],\n",
              " ['algo', 'caracteriza'],\n",
              " ['obscuridade', 'conseguir'],\n",
              " ['integração', 'palavra'],\n",
              " ['sentido', 'trata'],\n",
              " ['primeira', 'corpo'],\n",
              " ['trabalhado', 'põe'],\n",
              " ['frente', 'próprio'],\n",
              " ['corpo', 'captar'],\n",
              " ['sinais', 'ocultos'],\n",
              " ['ser:', 'intelectual'],\n",
              " ['escrevo', 'corpo'],\n",
              " ['solidificação', 'fatos'],\n",
              " ['faz', 'leitura'],\n",
              " ['história', 'nordeste'],\n",
              " ['identidade', 'macabéa'],\n",
              " ['è', 'articulação'],\n",
              " ['obra', 'história'],\n",
              " ['literária', 'brasileira'],\n",
              " ['abdica', 'modernoso'],\n",
              " ['satiriza', 'história'],\n",
              " ['começo', 'meio'],\n",
              " ['gran', 'finale'],\n",
              " ['seguido', 'silêncio'],\n",
              " ['chuva', 'caindo'],\n",
              " ['estabelece', 'diálogo'],\n",
              " ['literatura', 'cordel'],\n",
              " ['nordeste', 'fala'],\n",
              " ['literatura', 'fala'],\n",
              " ['nordeste', 'último'],\n",
              " ['confronto', 'escolhe'],\n",
              " ['nordestino', 'mudou'],\n",
              " ['espaço', 'desenraizou'],\n",
              " ['perdeu', 'respaldo'],\n",
              " ['grupo', 'bloco'],\n",
              " ['estigmatizado', 'mudo'],\n",
              " ['vida', 'grande'],\n",
              " ['metrópole', 'comovido'],\n",
              " ['narrador', 'desvincula'],\n",
              " ['padrão', 'interpretação'],\n",
              " ['realista', 'deixando'],\n",
              " ['vazar', 'ternura'],\n",
              " ['desespero', 'personagens'],\n",
              " ['nordestinas', 'macabéa'],\n",
              " ['olimpo', 'reescreve'],\n",
              " ['assim', 'famosa'],\n",
              " ['frase', 'euclides'],\n",
              " ['cunha', 'sertanejo'],\n",
              " ...]"
            ]
          },
          "metadata": {},
          "execution_count": 22
        }
      ],
      "source": [
        "sent = np.array_split(palavras,7110.0)\n",
        "sent = [l.tolist() for l in sent]\n",
        "sent"
      ]
    },
    {
      "cell_type": "markdown",
      "metadata": {
        "id": "O_WnNZ-qMOtf"
      },
      "source": [
        "Agora, vamos definir um modelo do Word2Vec"
      ]
    },
    {
      "cell_type": "code",
      "execution_count": 23,
      "metadata": {
        "id": "pVWoAslHZG02"
      },
      "outputs": [],
      "source": [
        "w2v_model = Word2Vec(min_count=20,\n",
        "                     window=2,\n",
        "                     sample=6e-5, \n",
        "                     alpha=0.03, \n",
        "                     min_alpha=0.0007, \n",
        "                     negative=20)"
      ]
    },
    {
      "cell_type": "markdown",
      "metadata": {
        "id": "kM_ApLDFMSLt"
      },
      "source": [
        "E vamos, finalmente, adicionar vocabulário"
      ]
    },
    {
      "cell_type": "code",
      "execution_count": 24,
      "metadata": {
        "id": "ryJobvtKd2Vt",
        "colab": {
          "base_uri": "https://localhost:8080/"
        },
        "outputId": "eb7c2229-0771-4761-a361-dff6594e01b5"
      },
      "outputs": [
        {
          "output_type": "execute_result",
          "data": {
            "text/plain": [
              "{'agora': <gensim.models.keyedvectors.Vocab at 0x7f4028bb42d0>,\n",
              " 'ainda': <gensim.models.keyedvectors.Vocab at 0x7f4024c0a0d0>,\n",
              " 'algum': <gensim.models.keyedvectors.Vocab at 0x7f4024c0ad90>,\n",
              " 'antes': <gensim.models.keyedvectors.Vocab at 0x7f4024c0a250>,\n",
              " 'apenas': <gensim.models.keyedvectors.Vocab at 0x7f4024c0add0>,\n",
              " 'assim': <gensim.models.keyedvectors.Vocab at 0x7f4024c0a510>,\n",
              " 'bem': <gensim.models.keyedvectors.Vocab at 0x7f4024bb9450>,\n",
              " 'coisa': <gensim.models.keyedvectors.Vocab at 0x7f4024c051d0>,\n",
              " 'coisas': <gensim.models.keyedvectors.Vocab at 0x7f4024c05450>,\n",
              " 'corpo': <gensim.models.keyedvectors.Vocab at 0x7f4024bb90d0>,\n",
              " 'dava': <gensim.models.keyedvectors.Vocab at 0x7f4024bb96d0>,\n",
              " 'deus': <gensim.models.keyedvectors.Vocab at 0x7f4024c0ae50>,\n",
              " 'dia': <gensim.models.keyedvectors.Vocab at 0x7f4024bb92d0>,\n",
              " 'disse': <gensim.models.keyedvectors.Vocab at 0x7f4024bb9550>,\n",
              " 'dizer': <gensim.models.keyedvectors.Vocab at 0x7f4024c05210>,\n",
              " 'embora': <gensim.models.keyedvectors.Vocab at 0x7f4024c0a8d0>,\n",
              " 'enquanto': <gensim.models.keyedvectors.Vocab at 0x7f4024c0ab90>,\n",
              " 'então': <gensim.models.keyedvectors.Vocab at 0x7f4024c0aa50>,\n",
              " 'escrever': <gensim.models.keyedvectors.Vocab at 0x7f4024c05990>,\n",
              " 'escrevo': <gensim.models.keyedvectors.Vocab at 0x7f4024bb9050>,\n",
              " 'escritor': <gensim.models.keyedvectors.Vocab at 0x7f4024c05f90>,\n",
              " 'explosão': <gensim.models.keyedvectors.Vocab at 0x7f4024bb9210>,\n",
              " 'falar': <gensim.models.keyedvectors.Vocab at 0x7f4024c0a650>,\n",
              " 'fatos': <gensim.models.keyedvectors.Vocab at 0x7f4024c05e10>,\n",
              " 'faz': <gensim.models.keyedvectors.Vocab at 0x7f4024c0a290>,\n",
              " 'fazer': <gensim.models.keyedvectors.Vocab at 0x7f4024c05910>,\n",
              " 'glória': <gensim.models.keyedvectors.Vocab at 0x7f4024bb9650>,\n",
              " 'grande': <gensim.models.keyedvectors.Vocab at 0x7f4024c0a710>,\n",
              " 'havia': <gensim.models.keyedvectors.Vocab at 0x7f4024bb9810>,\n",
              " 'história': <gensim.models.keyedvectors.Vocab at 0x7f4024c05d10>,\n",
              " 'homem': <gensim.models.keyedvectors.Vocab at 0x7f4024c0a950>,\n",
              " 'hora': <gensim.models.keyedvectors.Vocab at 0x7f4024c052d0>,\n",
              " 'ia': <gensim.models.keyedvectors.Vocab at 0x7f4024bb9990>,\n",
              " 'livro': <gensim.models.keyedvectors.Vocab at 0x7f4024c05250>,\n",
              " 'lá': <gensim.models.keyedvectors.Vocab at 0x7f4024bb9590>,\n",
              " 'macabéa': <gensim.models.keyedvectors.Vocab at 0x7f4024c0a550>,\n",
              " 'mal': <gensim.models.keyedvectors.Vocab at 0x7f4024bb93d0>,\n",
              " 'meio': <gensim.models.keyedvectors.Vocab at 0x7f4024c0af50>,\n",
              " 'melhor': <gensim.models.keyedvectors.Vocab at 0x7f4024c0ac10>,\n",
              " 'menos': <gensim.models.keyedvectors.Vocab at 0x7f4024c0ae90>,\n",
              " 'mesma': <gensim.models.keyedvectors.Vocab at 0x7f4024c0afd0>,\n",
              " 'mim': <gensim.models.keyedvectors.Vocab at 0x7f4024c0af90>,\n",
              " 'modo': <gensim.models.keyedvectors.Vocab at 0x7f4024c0a3d0>,\n",
              " 'morte': <gensim.models.keyedvectors.Vocab at 0x7f4024c0af10>,\n",
              " 'moça': <gensim.models.keyedvectors.Vocab at 0x7f4024bb9190>,\n",
              " 'mulher': <gensim.models.keyedvectors.Vocab at 0x7f4024c0a2d0>,\n",
              " 'mundo': <gensim.models.keyedvectors.Vocab at 0x7f4024c050d0>,\n",
              " 'música': <gensim.models.keyedvectors.Vocab at 0x7f4024bb9350>,\n",
              " 'nada': <gensim.models.keyedvectors.Vocab at 0x7f4024c05f10>,\n",
              " 'ninguém': <gensim.models.keyedvectors.Vocab at 0x7f4024bb9950>,\n",
              " 'nunca': <gensim.models.keyedvectors.Vocab at 0x7f4028bb4a50>,\n",
              " 'olímpico': <gensim.models.keyedvectors.Vocab at 0x7f4024bb9490>,\n",
              " 'onde': <gensim.models.keyedvectors.Vocab at 0x7f4024bb9390>,\n",
              " 'outra': <gensim.models.keyedvectors.Vocab at 0x7f4024c05750>,\n",
              " 'outro': <gensim.models.keyedvectors.Vocab at 0x7f4024c0ad10>,\n",
              " 'palavra': <gensim.models.keyedvectors.Vocab at 0x7f4024c057d0>,\n",
              " 'palavras': <gensim.models.keyedvectors.Vocab at 0x7f4024c0aed0>,\n",
              " 'parecia': <gensim.models.keyedvectors.Vocab at 0x7f4024c05dd0>,\n",
              " 'pensava': <gensim.models.keyedvectors.Vocab at 0x7f4024bb9a10>,\n",
              " 'pessoa': <gensim.models.keyedvectors.Vocab at 0x7f4024c0ab10>,\n",
              " 'pode': <gensim.models.keyedvectors.Vocab at 0x7f4024bb9090>,\n",
              " 'pois': <gensim.models.keyedvectors.Vocab at 0x7f4024c0a690>,\n",
              " 'porque': <gensim.models.keyedvectors.Vocab at 0x7f4024c05d90>,\n",
              " 'pouco': <gensim.models.keyedvectors.Vocab at 0x7f4024bb91d0>,\n",
              " 'quanto': <gensim.models.keyedvectors.Vocab at 0x7f4024c05850>,\n",
              " 'quase': <gensim.models.keyedvectors.Vocab at 0x7f4024bb9150>,\n",
              " 'queria': <gensim.models.keyedvectors.Vocab at 0x7f4024bb9250>,\n",
              " 'quero': <gensim.models.keyedvectors.Vocab at 0x7f4024bb9610>,\n",
              " 'rua': <gensim.models.keyedvectors.Vocab at 0x7f4024bb9790>,\n",
              " 'sabe': <gensim.models.keyedvectors.Vocab at 0x7f4024c05950>,\n",
              " 'saber': <gensim.models.keyedvectors.Vocab at 0x7f4024c05f50>,\n",
              " 'sabia': <gensim.models.keyedvectors.Vocab at 0x7f4024c05390>,\n",
              " 'sangue': <gensim.models.keyedvectors.Vocab at 0x7f4024bb95d0>,\n",
              " 'sei': <gensim.models.keyedvectors.Vocab at 0x7f4024c0abd0>,\n",
              " 'sempre': <gensim.models.keyedvectors.Vocab at 0x7f4024c0ab50>,\n",
              " 'si': <gensim.models.keyedvectors.Vocab at 0x7f4024c056d0>,\n",
              " 'silêncio': <gensim.models.keyedvectors.Vocab at 0x7f4024bb9110>,\n",
              " 'sim': <gensim.models.keyedvectors.Vocab at 0x7f4024c0ac50>,\n",
              " 'sobre': <gensim.models.keyedvectors.Vocab at 0x7f4024c05c10>,\n",
              " 'talvez': <gensim.models.keyedvectors.Vocab at 0x7f4024c05550>,\n",
              " 'tanto': <gensim.models.keyedvectors.Vocab at 0x7f4024bb9410>,\n",
              " 'tempo': <gensim.models.keyedvectors.Vocab at 0x7f4024c0a4d0>,\n",
              " 'ter': <gensim.models.keyedvectors.Vocab at 0x7f4024c05510>,\n",
              " 'tia': <gensim.models.keyedvectors.Vocab at 0x7f4024bb9310>,\n",
              " 'toda': <gensim.models.keyedvectors.Vocab at 0x7f4024c0ae10>,\n",
              " 'todo': <gensim.models.keyedvectors.Vocab at 0x7f4024c0ad50>,\n",
              " 'todos': <gensim.models.keyedvectors.Vocab at 0x7f4024c0a190>,\n",
              " 'tudo': <gensim.models.keyedvectors.Vocab at 0x7f4024c0a7d0>,\n",
              " 'tão': <gensim.models.keyedvectors.Vocab at 0x7f4024c05bd0>,\n",
              " 'vai': <gensim.models.keyedvectors.Vocab at 0x7f4024c0a850>,\n",
              " 'ver': <gensim.models.keyedvectors.Vocab at 0x7f4024c05690>,\n",
              " 'verdade': <gensim.models.keyedvectors.Vocab at 0x7f4024c0a6d0>,\n",
              " 'vez': <gensim.models.keyedvectors.Vocab at 0x7f4024c0a890>,\n",
              " 'vezes': <gensim.models.keyedvectors.Vocab at 0x7f4024c05590>,\n",
              " 'vida': <gensim.models.keyedvectors.Vocab at 0x7f4024c05090>,\n",
              " 'vou': <gensim.models.keyedvectors.Vocab at 0x7f4024bb9910>}"
            ]
          },
          "metadata": {},
          "execution_count": 24
        }
      ],
      "source": [
        "w2v_model.build_vocab(sent, progress_per=10000)\n",
        "w2v_model.wv.vocab"
      ]
    },
    {
      "cell_type": "markdown",
      "metadata": {
        "id": "2e-ZfcJpMV0-"
      },
      "source": [
        "E agora, podemos treinar nosso modelo."
      ]
    },
    {
      "cell_type": "code",
      "execution_count": 25,
      "metadata": {
        "colab": {
          "base_uri": "https://localhost:8080/"
        },
        "id": "k7gz8NWeZXjX",
        "outputId": "40739975-b5cb-4a08-a163-fcb660acca67"
      },
      "outputs": [
        {
          "output_type": "execute_result",
          "data": {
            "text/plain": [
              "(8471, 426600)"
            ]
          },
          "metadata": {},
          "execution_count": 25
        }
      ],
      "source": [
        "w2v_model.train(sent, total_examples=w2v_model.corpus_count, epochs=30, report_delay=1)\n"
      ]
    },
    {
      "cell_type": "markdown",
      "metadata": {
        "id": "mO1sZXMUPU4m"
      },
      "source": [
        "Agora, podemos fazer alguns testes para validar nossos embeddings. O primeiro teste que faremos será a distância de cossenos entre os embeddings de \"Macabéa\" e \"Olímpico\". Aqui, quanto mais próximo de 1, maior a similaridade entre os nossos embeddings."
      ]
    },
    {
      "cell_type": "code",
      "execution_count": 26,
      "metadata": {
        "colab": {
          "base_uri": "https://localhost:8080/"
        },
        "id": "p_qhF7J0Zfa8",
        "outputId": "80f06e96-5a6e-4ba7-d0e9-3d372dbb1a71"
      },
      "outputs": [
        {
          "output_type": "execute_result",
          "data": {
            "text/plain": [
              "1.0563788414001465"
            ]
          },
          "metadata": {},
          "execution_count": 26
        }
      ],
      "source": [
        "w2v_model.wv.distance('macabéa','olímpico')"
      ]
    },
    {
      "cell_type": "markdown",
      "metadata": {
        "id": "8O5X_5WXPwD2"
      },
      "source": [
        "Como esperado, a similaridade obtida é alta, uma vez que Macabéa e Olímpico são um \"\"par\"\" em \"A hora da estrela\"."
      ]
    },
    {
      "cell_type": "markdown",
      "metadata": {
        "id": "fg2SJQo7Q70X"
      },
      "source": [
        "Também podemos fazer a distância euclidiana dessas palavras."
      ]
    },
    {
      "cell_type": "code",
      "execution_count": 27,
      "metadata": {
        "colab": {
          "base_uri": "https://localhost:8080/"
        },
        "id": "gHlHHJHnP02d",
        "outputId": "6c8ce16e-b14c-44de-c860-9afe1201fa40"
      },
      "outputs": [
        {
          "output_type": "execute_result",
          "data": {
            "text/plain": [
              "0.04020793"
            ]
          },
          "metadata": {},
          "execution_count": 27
        }
      ],
      "source": [
        "np.linalg.norm(w2v_model.wv['palavra'] - w2v_model.wv['escrever'])"
      ]
    },
    {
      "cell_type": "markdown",
      "metadata": {
        "id": "ZQsj5iH3QQbG"
      },
      "source": [
        "Aqui, a distância euclidiana das palavras é baixa, sinalizando a similaridade entre elas."
      ]
    },
    {
      "cell_type": "markdown",
      "metadata": {
        "id": "C9RtguNzR2u_"
      },
      "source": [
        "Outra coisa que podemos verificar são as palavras mais similares em relação à outra."
      ]
    },
    {
      "cell_type": "code",
      "execution_count": 28,
      "metadata": {
        "colab": {
          "base_uri": "https://localhost:8080/"
        },
        "id": "bLQ1-o0pRP22",
        "outputId": "95021b18-79ad-4325-a800-10617a705367"
      },
      "outputs": [
        {
          "output_type": "execute_result",
          "data": {
            "text/plain": [
              "[('sei', 0.2679455578327179),\n",
              " ('queria', 0.1863674521446228),\n",
              " ('modo', 0.1803220808506012),\n",
              " ('tia', 0.1680602878332138),\n",
              " ('porque', 0.16526734828948975),\n",
              " ('grande', 0.16430458426475525),\n",
              " ('havia', 0.15844270586967468),\n",
              " ('deus', 0.15816625952720642),\n",
              " ('sabia', 0.15439164638519287),\n",
              " ('livro', 0.1502256542444229)]"
            ]
          },
          "metadata": {},
          "execution_count": 28
        }
      ],
      "source": [
        "w2v_model.wv.most_similar(positive=[\"história\"])\n"
      ]
    },
    {
      "cell_type": "markdown",
      "metadata": {
        "id": "rrTW3MEtSS_u"
      },
      "source": [
        "E também podemos achar o que menos se encaixa entre uma lista de palavras do vocabulário"
      ]
    },
    {
      "cell_type": "code",
      "execution_count": 29,
      "metadata": {
        "colab": {
          "base_uri": "https://localhost:8080/",
          "height": 90
        },
        "id": "ukKlA2_BSXoe",
        "outputId": "e5a8be86-c567-4658-85e2-1ca007348812"
      },
      "outputs": [
        {
          "output_type": "stream",
          "name": "stderr",
          "text": [
            "/usr/local/lib/python3.7/dist-packages/gensim/models/keyedvectors.py:895: FutureWarning: arrays to stack must be passed as a \"sequence\" type such as list or tuple. Support for non-sequence iterables such as generators is deprecated as of NumPy 1.16 and will raise an error in the future.\n",
            "  vectors = vstack(self.word_vec(word, use_norm=True) for word in used_words).astype(REAL)\n"
          ]
        },
        {
          "output_type": "execute_result",
          "data": {
            "text/plain": [
              "'falar'"
            ],
            "application/vnd.google.colaboratory.intrinsic+json": {
              "type": "string"
            }
          },
          "metadata": {},
          "execution_count": 29
        }
      ],
      "source": [
        "w2v_model.wv.doesnt_match(['falar', 'ver', 'olímpico'])\n"
      ]
    },
    {
      "cell_type": "markdown",
      "metadata": {
        "id": "GPVwdjtO1yXa"
      },
      "source": [
        "Esses testes parecem muito bons, mas, quando vamos testar algumas semelhanças entre palavras com um significado parecido, temos resultados pouco satisfatórios."
      ]
    },
    {
      "cell_type": "code",
      "execution_count": 29,
      "metadata": {
        "colab": {
          "base_uri": "https://localhost:8080/"
        },
        "id": "aLZRotIh1yXa",
        "outputId": "770a07a0-42d0-4470-9bff-f95750f8d26a"
      },
      "outputs": [
        {
          "output_type": "execute_result",
          "data": {
            "text/plain": [
              "[('outro', 0.2442575991153717),\n",
              " ('ter', 0.23471221327781677),\n",
              " ('parecia', 0.22199320793151855),\n",
              " ('hora', 0.21036744117736816),\n",
              " ('dia', 0.1801508069038391),\n",
              " ('pode', 0.17682090401649475),\n",
              " ('ver', 0.15168187022209167),\n",
              " ('olímpico', 0.1440909206867218),\n",
              " ('mal', 0.1409723311662674),\n",
              " ('assim', 0.13005845248699188)]"
            ]
          },
          "metadata": {},
          "execution_count": 29
        }
      ],
      "source": [
        "w2v_model.wv.most_similar(positive=[\"vida\"])"
      ]
    },
    {
      "cell_type": "markdown",
      "metadata": {
        "id": "WOHOOiM71yXa"
      },
      "source": [
        "Isto, pois, quando treinamos um modelo de embedding a partir de livros, o modelo acaba por levar em conta o contexto. Assim, mesmo que não sejam palavras parecidas, elas são encontradas frequentemente em contextos parecidos."
      ]
    },
    {
      "cell_type": "markdown",
      "metadata": {
        "id": "1Xp3LMBMSyPn"
      },
      "source": [
        "### Carregando um modelo do NILC"
      ]
    },
    {
      "cell_type": "markdown",
      "metadata": {
        "id": "IF4ulV-j1yXb"
      },
      "source": [
        "A partir de agora, vamos testar alguns modelos pré-treinados disponibilizados no NILC. Vamos utilizar 3 modelos: com 50, 300 e 1000 posições vetoriais."
      ]
    },
    {
      "cell_type": "code",
      "execution_count": 30,
      "metadata": {
        "id": "BiTOzcSRTBT2"
      },
      "outputs": [],
      "source": [
        "from gensim.models import KeyedVectors"
      ]
    },
    {
      "cell_type": "markdown",
      "metadata": {
        "id": "lbzvV47x1yXb"
      },
      "source": [
        "Vamos começar testando o modelo com 50 dimensões"
      ]
    },
    {
      "cell_type": "code",
      "source": [
        "!wget -cO - http://143.107.183.175:22980/download.php?file=embeddings/word2vec/cbow_s50.zip > cbow_s50.zip\n",
        "!unzip cbow_s50.zip"
      ],
      "metadata": {
        "colab": {
          "base_uri": "https://localhost:8080/"
        },
        "id": "I7jQJwM2QCtm",
        "outputId": "97e5d9c6-53af-406c-9ea7-46ba213c3157"
      },
      "execution_count": 31,
      "outputs": [
        {
          "output_type": "stream",
          "name": "stdout",
          "text": [
            "--2022-08-02 03:18:47--  http://143.107.183.175:22980/download.php?file=embeddings/word2vec/cbow_s50.zip\n",
            "Connecting to 143.107.183.175:22980... connected.\n",
            "HTTP request sent, awaiting response... 200 OK\n",
            "Length: 170360268 (162M) [application/octet-stream]\n",
            "Saving to: ‘STDOUT’\n",
            "\n",
            "-                   100%[===================>] 162.47M  7.83MB/s    in 23s     \n",
            "\n",
            "2022-08-02 03:19:11 (7.07 MB/s) - written to stdout [170360268/170360268]\n",
            "\n",
            "Archive:  cbow_s50.zip\n",
            "  inflating: cbow_s50.txt            \n"
          ]
        }
      ]
    },
    {
      "cell_type": "code",
      "execution_count": 32,
      "metadata": {
        "id": "WQmtY8icSx0B"
      },
      "outputs": [],
      "source": [
        "model_50 = KeyedVectors.load_word2vec_format(\"cbow_s50.txt\")"
      ]
    },
    {
      "cell_type": "markdown",
      "metadata": {
        "id": "Z6EqzTkm1yXb"
      },
      "source": [
        "Vamos fazer alguns testes parecidos, e outros mais focados na similaridade das palavras. Começando com os testes feitos para o nosso modelo, temos:"
      ]
    },
    {
      "cell_type": "code",
      "execution_count": 33,
      "metadata": {
        "colab": {
          "base_uri": "https://localhost:8080/"
        },
        "id": "8hnXf8cG1yXc",
        "outputId": "84fc6237-9106-43be-ca8a-2cc3f7ecf7d8"
      },
      "outputs": [
        {
          "output_type": "execute_result",
          "data": {
            "text/plain": [
              "0.8036423921585083"
            ]
          },
          "metadata": {},
          "execution_count": 33
        }
      ],
      "source": [
        "model_50.distance('macabéa','olímpico')"
      ]
    },
    {
      "cell_type": "code",
      "execution_count": 34,
      "metadata": {
        "colab": {
          "base_uri": "https://localhost:8080/"
        },
        "id": "UZnYauci1yXc",
        "outputId": "eca3aa73-6bed-40a1-8713-cbca05356d14"
      },
      "outputs": [
        {
          "output_type": "execute_result",
          "data": {
            "text/plain": [
              "2.5691442"
            ]
          },
          "metadata": {},
          "execution_count": 34
        }
      ],
      "source": [
        "np.linalg.norm(model_50['macabéa'] - model_50['olímpico'])"
      ]
    },
    {
      "cell_type": "code",
      "execution_count": 35,
      "metadata": {
        "colab": {
          "base_uri": "https://localhost:8080/"
        },
        "id": "5TqsKEjK1yXc",
        "outputId": "557ed9e1-6dae-4d06-bdd0-00e58908af31"
      },
      "outputs": [
        {
          "output_type": "execute_result",
          "data": {
            "text/plain": [
              "[('ressureição', 0.8563553690910339),\n",
              " ('viscondessa', 0.8303346037864685),\n",
              " ('morgada', 0.8292663097381592),\n",
              " ('cachola', 0.8285812139511108),\n",
              " ('expectação', 0.828042209148407),\n",
              " ('princeza', 0.8252332210540771),\n",
              " ('auctoridade', 0.8210679292678833),\n",
              " ('consolação', 0.8173748850822449),\n",
              " ('innocencia', 0.8172269463539124),\n",
              " ('ressurreição', 0.8168944716453552)]"
            ]
          },
          "metadata": {},
          "execution_count": 35
        }
      ],
      "source": [
        "model_50.most_similar(positive=[\"glória\"])"
      ]
    },
    {
      "cell_type": "code",
      "execution_count": 36,
      "metadata": {
        "colab": {
          "base_uri": "https://localhost:8080/",
          "height": 90
        },
        "id": "zV1cbvli1yXc",
        "outputId": "2f9d7eac-93e6-4409-916f-f740c8275669"
      },
      "outputs": [
        {
          "output_type": "stream",
          "name": "stderr",
          "text": [
            "/usr/local/lib/python3.7/dist-packages/gensim/models/keyedvectors.py:895: FutureWarning: arrays to stack must be passed as a \"sequence\" type such as list or tuple. Support for non-sequence iterables such as generators is deprecated as of NumPy 1.16 and will raise an error in the future.\n",
            "  vectors = vstack(self.word_vec(word, use_norm=True) for word in used_words).astype(REAL)\n"
          ]
        },
        {
          "output_type": "execute_result",
          "data": {
            "text/plain": [
              "'olímpico'"
            ],
            "application/vnd.google.colaboratory.intrinsic+json": {
              "type": "string"
            }
          },
          "metadata": {},
          "execution_count": 36
        }
      ],
      "source": [
        "model_50.doesnt_match(['macabéa', 'olímpico', 'morte'])\n"
      ]
    },
    {
      "cell_type": "markdown",
      "metadata": {
        "id": "797lSpeN1yXd"
      },
      "source": [
        "Agora, os resultados se apresentam de forma bem diferente. Quando fazemos esses testes para palavras do livro, obtemos resultados que não possuem contexto fixado nas obras de Lispector. Porém, quando queremos palavras que tem significado similar, o resultado é satisfatório."
      ]
    },
    {
      "cell_type": "code",
      "execution_count": 37,
      "metadata": {
        "colab": {
          "base_uri": "https://localhost:8080/"
        },
        "id": "DJh2V-5l1yXd",
        "outputId": "6330135c-65bb-4804-8c40-3d3a14785089"
      },
      "outputs": [
        {
          "output_type": "execute_result",
          "data": {
            "text/plain": [
              "[('menina', 0.931005597114563),\n",
              " ('mulatinha', 0.905427098274231),\n",
              " ('donzela', 0.8990174531936646),\n",
              " ('mulata', 0.8980568647384644),\n",
              " ('égua', 0.8944925665855408),\n",
              " ('cadelinha', 0.8927096128463745),\n",
              " ('mocinha', 0.8922073245048523),\n",
              " ('loira', 0.8920986652374268),\n",
              " ('ricaça', 0.8900133967399597),\n",
              " ('rapariga', 0.883472204208374)]"
            ]
          },
          "metadata": {},
          "execution_count": 37
        }
      ],
      "source": [
        "model_50.most_similar(positive=[\"moça\"])"
      ]
    },
    {
      "cell_type": "markdown",
      "metadata": {
        "id": "JTDGPQ601yXd"
      },
      "source": [
        "Porém, vamos notar que, com a medida que as posições vetoriais crescem, as contextualizações também crescem e mudam."
      ]
    },
    {
      "cell_type": "code",
      "source": [
        "!wget -cO - http://143.107.183.175:22980/download.php?file=embeddings/word2vec/cbow_s300.zip > cbow_s300.zip\n",
        "!unzip cbow_s300.zip"
      ],
      "metadata": {
        "colab": {
          "base_uri": "https://localhost:8080/"
        },
        "id": "1sCLDzcYRbdt",
        "outputId": "21b6f6e4-6738-461e-c7e0-05f1ab6908d8"
      },
      "execution_count": 38,
      "outputs": [
        {
          "output_type": "stream",
          "name": "stdout",
          "text": [
            "--2022-08-02 03:19:44--  http://143.107.183.175:22980/download.php?file=embeddings/word2vec/cbow_s300.zip\n",
            "Connecting to 143.107.183.175:22980... connected.\n",
            "HTTP request sent, awaiting response... 200 OK\n",
            "Length: 929305948 (886M) [application/octet-stream]\n",
            "Saving to: ‘STDOUT’\n",
            "\n",
            "-                   100%[===================>] 886.25M  7.75MB/s    in 1m 57s  \n",
            "\n",
            "2022-08-02 03:21:41 (7.59 MB/s) - written to stdout [929305948/929305948]\n",
            "\n",
            "Archive:  cbow_s300.zip\n",
            "  inflating: cbow_s300.txt           \n"
          ]
        }
      ]
    },
    {
      "cell_type": "code",
      "execution_count": 39,
      "metadata": {
        "id": "CzH8k6sN1yXd"
      },
      "outputs": [],
      "source": [
        "model_300 = KeyedVectors.load_word2vec_format(\"cbow_s300.txt\")"
      ]
    },
    {
      "cell_type": "code",
      "execution_count": 40,
      "metadata": {
        "colab": {
          "base_uri": "https://localhost:8080/"
        },
        "id": "_GwfZ6te1yXd",
        "outputId": "27614154-52a8-4bac-ad96-e17a9e503702"
      },
      "outputs": [
        {
          "output_type": "execute_result",
          "data": {
            "text/plain": [
              "[('formosura', 0.5699642896652222),\n",
              " ('felicidade', 0.5674874782562256),\n",
              " ('glã³ria', 0.5519636869430542),\n",
              " ('sabedoria', 0.5500460863113403),\n",
              " ('innocencia', 0.5491595268249512),\n",
              " ('graça', 0.5475744605064392),\n",
              " ('piedade', 0.5217739343643188),\n",
              " ('auto-existência', 0.5181103944778442),\n",
              " ('bondade', 0.5136434435844421),\n",
              " ('dôr', 0.5032995939254761)]"
            ]
          },
          "metadata": {},
          "execution_count": 40
        }
      ],
      "source": [
        "model_300.most_similar(positive=[\"glória\"])"
      ]
    },
    {
      "cell_type": "markdown",
      "metadata": {
        "id": "DrRHyG4t1yXe"
      },
      "source": [
        "Enquanto no modelo com 50 posições vetoriais, a palavra glória estava relacionada com títulos e era vista como um nome próprio, aqui glória assume o papel de um adjetivo, e as palavras similares são outros adjetivos."
      ]
    },
    {
      "cell_type": "code",
      "execution_count": 41,
      "metadata": {
        "colab": {
          "base_uri": "https://localhost:8080/"
        },
        "id": "cmauDQfr1yXe",
        "outputId": "84e83673-7b2a-4664-c004-5ac07aa37d43"
      },
      "outputs": [
        {
          "output_type": "execute_result",
          "data": {
            "text/plain": [
              "0.9637558422982693"
            ]
          },
          "metadata": {},
          "execution_count": 41
        }
      ],
      "source": [
        "model_300.distance('macabéa','olímpico')"
      ]
    },
    {
      "cell_type": "code",
      "source": [
        "!wget -cO - http://143.107.183.175:22980/download.php?file=embeddings/word2vec/cbow_s1000.zip > cbow_s1000.zip\n",
        "!unzip cbow_s1000.zip"
      ],
      "metadata": {
        "colab": {
          "base_uri": "https://localhost:8080/"
        },
        "id": "M9WbEoYvRqEW",
        "outputId": "48fb77ba-8920-4b65-ff63-5c8b3bdd1669"
      },
      "execution_count": 42,
      "outputs": [
        {
          "output_type": "stream",
          "name": "stdout",
          "text": [
            "--2022-08-02 03:24:42--  http://143.107.183.175:22980/download.php?file=embeddings/word2vec/cbow_s1000.zip\n",
            "Connecting to 143.107.183.175:22980... connected.\n",
            "HTTP request sent, awaiting response... 200 OK\n",
            "Length: 2979828403 (2.8G) [application/octet-stream]\n",
            "Saving to: ‘STDOUT’\n",
            "\n",
            "-                   100%[===================>]   2.77G  7.78MB/s    in 6m 14s  \n",
            "\n",
            "2022-08-02 03:30:57 (7.60 MB/s) - written to stdout [2979828403/2979828403]\n",
            "\n",
            "Archive:  cbow_s1000.zip\n",
            "  inflating: cbow_s1000.txt          \n"
          ]
        }
      ]
    },
    {
      "cell_type": "code",
      "execution_count": 43,
      "metadata": {
        "id": "DfJkpheX1yXe"
      },
      "outputs": [],
      "source": [
        "model_1000 = KeyedVectors.load_word2vec_format(\"cbow_s1000.txt\")"
      ]
    },
    {
      "cell_type": "code",
      "execution_count": 44,
      "metadata": {
        "colab": {
          "base_uri": "https://localhost:8080/"
        },
        "id": "N6mi8ys41yXe",
        "outputId": "03a8f4be-d740-40cb-86e3-71b4cbf1737c"
      },
      "outputs": [
        {
          "output_type": "execute_result",
          "data": {
            "text/plain": [
              "0.9710724353790283"
            ]
          },
          "metadata": {},
          "execution_count": 44
        }
      ],
      "source": [
        "model_1000.distance('macabéa','olímpico')"
      ]
    },
    {
      "cell_type": "markdown",
      "metadata": {
        "id": "K8JWJF271yXf"
      },
      "source": [
        "O mesmo ocorre para 1000 posições vetoriais, mas com ainda mais precisão."
      ]
    },
    {
      "cell_type": "markdown",
      "metadata": {
        "id": "CNUvIY4T1yXf"
      },
      "source": [
        "### Treinando embeddings de frases"
      ]
    },
    {
      "cell_type": "markdown",
      "metadata": {
        "id": "gGQKuqfH1yXf"
      },
      "source": [
        "Agora, vamos treinar alguns embeddings para frases. Para isso, vamos começar analisando bigramas presentes nas palavras. Lembra que lá em cima vimos alguns bigramas presentes no texto?"
      ]
    },
    {
      "cell_type": "code",
      "execution_count": 30,
      "metadata": {
        "id": "T_Q67dG-1yXf"
      },
      "outputs": [],
      "source": [
        "from gensim.models import phrases, word2vec"
      ]
    },
    {
      "cell_type": "markdown",
      "metadata": {
        "id": "55m4lOSa1yXg"
      },
      "source": [
        "Aqui, vamos usar a biblioteca do Gensim para identificar bigramas em nossas frases"
      ]
    },
    {
      "cell_type": "code",
      "execution_count": 31,
      "metadata": {
        "id": "EJ7xPTxz1yXg"
      },
      "outputs": [],
      "source": [
        "bigrams = phrases.Phrases(sent)"
      ]
    },
    {
      "cell_type": "markdown",
      "metadata": {
        "id": "4v1dxEd51yXg"
      },
      "source": [
        "Abaixo, podemos verificar que o algoritmo está identificando um bigrama que, previamente, foi tido como comum no texto"
      ]
    },
    {
      "cell_type": "code",
      "execution_count": 32,
      "metadata": {
        "colab": {
          "base_uri": "https://localhost:8080/"
        },
        "id": "mqhW1hN61yXg",
        "outputId": "9365c6a1-0c9c-48d3-9de8-801a413ae3bd"
      },
      "outputs": [
        {
          "output_type": "stream",
          "name": "stdout",
          "text": [
            "['si_mesma', 'clarice']\n"
          ]
        },
        {
          "output_type": "stream",
          "name": "stderr",
          "text": [
            "/usr/local/lib/python3.7/dist-packages/gensim/models/phrases.py:598: UserWarning: For a faster implementation, use the gensim.models.phrases.Phraser class\n",
            "  warnings.warn(\"For a faster implementation, use the gensim.models.phrases.Phraser class\")\n"
          ]
        }
      ],
      "source": [
        "print(bigrams[\"si\",\"mesma\",\"clarice\"])"
      ]
    },
    {
      "cell_type": "markdown",
      "metadata": {
        "id": "CzuS13Ye1yXg"
      },
      "source": [
        "Agora, vamos seguir o mesmo esquema e treinar o modelo novamente."
      ]
    },
    {
      "cell_type": "code",
      "execution_count": 33,
      "metadata": {
        "id": "OLnAWIxv1yXh"
      },
      "outputs": [],
      "source": [
        "w2v_model_sent = Word2Vec(min_count=20,\n",
        "                     window=2,\n",
        "                     sample=6e-5, \n",
        "                     alpha=0.03, \n",
        "                     min_alpha=0.0007, \n",
        "                     negative=20)"
      ]
    },
    {
      "cell_type": "code",
      "execution_count": 34,
      "metadata": {
        "colab": {
          "base_uri": "https://localhost:8080/"
        },
        "id": "HuI_Y6bQ1yXh",
        "outputId": "5e4096b5-90ed-49a3-94b8-6f1adbba9343"
      },
      "outputs": [
        {
          "output_type": "stream",
          "name": "stderr",
          "text": [
            "/usr/local/lib/python3.7/dist-packages/gensim/models/phrases.py:598: UserWarning: For a faster implementation, use the gensim.models.phrases.Phraser class\n",
            "  warnings.warn(\"For a faster implementation, use the gensim.models.phrases.Phraser class\")\n"
          ]
        }
      ],
      "source": [
        "w2v_model_sent.build_vocab(bigrams[sent], progress_per=10000)"
      ]
    },
    {
      "cell_type": "code",
      "execution_count": 35,
      "metadata": {
        "colab": {
          "base_uri": "https://localhost:8080/"
        },
        "id": "Z-odMinz1yXh",
        "outputId": "adca3b6f-0f91-4003-9173-184053d6cfea"
      },
      "outputs": [
        {
          "output_type": "stream",
          "name": "stderr",
          "text": [
            "/usr/local/lib/python3.7/dist-packages/gensim/models/phrases.py:598: UserWarning: For a faster implementation, use the gensim.models.phrases.Phraser class\n",
            "  warnings.warn(\"For a faster implementation, use the gensim.models.phrases.Phraser class\")\n"
          ]
        },
        {
          "output_type": "execute_result",
          "data": {
            "text/plain": [
              "(8386, 425640)"
            ]
          },
          "metadata": {},
          "execution_count": 35
        }
      ],
      "source": [
        "w2v_model_sent.train(bigrams[sent], total_examples=w2v_model_sent.corpus_count, epochs=30, report_delay=1)"
      ]
    },
    {
      "cell_type": "markdown",
      "metadata": {
        "id": "Bk_95CTY1yXh"
      },
      "source": [
        "Para facilitar um pouco a análise, vamos visualizar o nosso modelo por meio do TSNE"
      ]
    },
    {
      "cell_type": "code",
      "execution_count": 36,
      "metadata": {
        "id": "DNu8Si631yXh"
      },
      "outputs": [],
      "source": [
        "from sklearn.manifold import TSNE"
      ]
    },
    {
      "cell_type": "code",
      "execution_count": 37,
      "metadata": {
        "colab": {
          "base_uri": "https://localhost:8080/",
          "height": 681
        },
        "id": "7pVBTaNX1yXi",
        "outputId": "ff9d2404-a0e1-4886-cb0d-d834d659d175"
      },
      "outputs": [
        {
          "output_type": "stream",
          "name": "stderr",
          "text": [
            "/usr/local/lib/python3.7/dist-packages/sklearn/manifold/_t_sne.py:783: FutureWarning: The default initialization in TSNE will change from 'random' to 'pca' in 1.2.\n",
            "  FutureWarning,\n",
            "/usr/local/lib/python3.7/dist-packages/sklearn/manifold/_t_sne.py:793: FutureWarning: The default learning rate in TSNE will change from 200.0 to 'auto' in 1.2.\n",
            "  FutureWarning,\n"
          ]
        },
        {
          "output_type": "display_data",
          "data": {
            "text/plain": [
              "<Figure size 1080x720 with 1 Axes>"
            ],
            "image/png": "[encoded data removed]"
          },
          "metadata": {
            "needs_background": "light"
          }
        }
      ],
      "source": [
        "vocab = list(w2v_model_sent.wv.vocab)\n",
        "X = w2v_model_sent.wv[vocab]\n",
        "\n",
        "tsne = TSNE(n_components=2)\n",
        "X_tsne = tsne.fit_transform(X)\n",
        "\n",
        "df = pd.DataFrame(X_tsne, index=vocab, columns=['x', 'y'])\n",
        "fig = plt.figure(figsize=(15,10))\n",
        "ax = fig.add_subplot(1, 1, 1)\n",
        "\n",
        "ax.scatter(df['x'], df['y'])\n",
        "for word, pos in df.iterrows():\n",
        "    ax.annotate(word, pos)\n",
        "\n",
        "plt.show()"
      ]
    },
    {
      "cell_type": "markdown",
      "source": [
        "Com essa visualização, podemos ver que as palavras mais semelhantes se \"clusterizam\", enquanto as mais diferentes se distanciam."
      ],
      "metadata": {
        "id": "daRq_1mL4PkK"
      }
    },
    {
      "cell_type": "markdown",
      "metadata": {
        "id": "Ma96JG0jUHCc"
      },
      "source": [
        "# Bert"
      ]
    },
    {
      "cell_type": "markdown",
      "source": [
        "Agora, vamos dar uma olhada nos modelos de BERT embeddings. Esta é uma técnica de aprendizado de máquina baseada em transformador para pré-treinamento de processamento de linguagem natural. Vamos começar explorando um pouco a base pré-treinada em português, o BERTIMBAU."
      ],
      "metadata": {
        "id": "UPSqBsDS4qyr"
      }
    },
    {
      "cell_type": "markdown",
      "source": [
        "![image.png](data:image/png;base64,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)"
      ],
      "metadata": {
        "id": "1uipgGyCkjda"
      }
    },
    {
      "cell_type": "markdown",
      "source": [
        "Vamos começar brincando um pouco. A priori, vamos definir nosso modelo e nosso tokenizador como o modelo pré-treinado."
      ],
      "metadata": {
        "id": "Kaj4cNRUk2BQ"
      }
    },
    {
      "cell_type": "code",
      "source": [
        "tokenizer = AutoTokenizer.from_pretrained('neuralmind/bert-base-portuguese-cased')\n",
        "model = AutoModel.from_pretrained('neuralmind/bert-base-portuguese-cased',\n",
        "                                  output_hidden_states = True,\n",
        "                                  )"
      ],
      "metadata": {
        "colab": {
          "base_uri": "https://localhost:8080/"
        },
        "id": "Yy1u_hFFlFpI",
        "outputId": "f37d65c0-9763-4a5c-91b2-9549f9be2e71"
      },
      "execution_count": 44,
      "outputs": [
        {
          "output_type": "stream",
          "name": "stderr",
          "text": [
            "Some weights of the model checkpoint at neuralmind/bert-base-portuguese-cased were not used when initializing BertModel: ['cls.predictions.bias', 'cls.predictions.transform.dense.weight', 'cls.predictions.decoder.weight', 'cls.predictions.transform.LayerNorm.weight', 'cls.predictions.transform.LayerNorm.bias', 'cls.predictions.transform.dense.bias', 'cls.seq_relationship.bias', 'cls.seq_relationship.weight']\n",
            "- This IS expected if you are initializing BertModel from the checkpoint of a model trained on another task or with another architecture (e.g. initializing a BertForSequenceClassification model from a BertForPreTraining model).\n",
            "- This IS NOT expected if you are initializing BertModel from the checkpoint of a model that you expect to be exactly identical (initializing a BertForSequenceClassification model from a BertForSequenceClassification model).\n"
          ]
        }
      ]
    },
    {
      "cell_type": "markdown",
      "source": [
        "Com o modelo pré-treinado do bertimbau, podemos achar informações sobre as similaridades das palavras de acordo com seus embeddings. Aqui, vamos analisar algumas frases aleatórias e ver suas similaridade de cossenos."
      ],
      "metadata": {
        "id": "tUerLT0klNnI"
      }
    },
    {
      "cell_type": "markdown",
      "source": [
        "Vamos, a priori, definir uma função que faz o embedding de frases, a partir da média simples dos vetores de seus tokens."
      ],
      "metadata": {
        "id": "5x1a5tMZrnJ3"
      }
    },
    {
      "cell_type": "code",
      "execution_count": 49,
      "metadata": {
        "id": "9a4bvF051yXi"
      },
      "outputs": [],
      "source": [
        "def sentence_embedding_bert(text):  \n",
        "  marked_text = \"[CLS] \" + text + \" [SEP]\"\n",
        "\n",
        "  tokenized_text = tokenizer.tokenize(marked_text)\n",
        "  indexed_tokens = tokenizer.convert_tokens_to_ids(tokenized_text)\n",
        "\n",
        "  segments_ids = [1] * len(tokenized_text)\n",
        "  tokens_tensor = torch.tensor([indexed_tokens])\n",
        "  segments_tensors = torch.tensor([segments_ids])\n",
        "  with torch.no_grad():\n",
        "\n",
        "      outputs = model(tokens_tensor, segments_tensors)\n",
        "      hidden_states = outputs[2]\n",
        "\n",
        "  token_vecs = hidden_states[-2][0]\n",
        "  return torch.mean(token_vecs, dim=0)"
      ]
    },
    {
      "cell_type": "markdown",
      "source": [
        "Agora, podemos pegar os retornos dessa função para calcular relações entre frases:"
      ],
      "metadata": {
        "id": "DTFVo68frwG7"
      }
    },
    {
      "cell_type": "code",
      "source": [
        "model.eval()\n",
        "\n",
        "sent1 = sentence_embedding_bert(\"eu moro em são paulo\")\n",
        "sent2 = sentence_embedding_bert(\"são paulo é um inferno\")\n",
        "\n",
        "torch.cosine_similarity(sent1.reshape(1,-1), sent2.reshape(1,-1))"
      ],
      "metadata": {
        "colab": {
          "base_uri": "https://localhost:8080/"
        },
        "id": "PcGeqrphqTT4",
        "outputId": "db6cceb7-177c-410d-b57a-257defa994c8"
      },
      "execution_count": 52,
      "outputs": [
        {
          "output_type": "execute_result",
          "data": {
            "text/plain": [
              "tensor([0.9395])"
            ]
          },
          "metadata": {},
          "execution_count": 52
        }
      ]
    },
    {
      "cell_type": "markdown",
      "source": [
        "Também podemos calcular a distância euclidiana entre esses tensores."
      ],
      "metadata": {
        "id": "KZhlsWKzsTXy"
      }
    },
    {
      "cell_type": "code",
      "source": [
        "(sent1 - sent2).pow(2).sum().sqrt()\n"
      ],
      "metadata": {
        "colab": {
          "base_uri": "https://localhost:8080/"
        },
        "id": "1Wdw-1TJsi6Z",
        "outputId": "8102f0da-d9e8-4f54-8ec7-cc5d848d2414"
      },
      "execution_count": 56,
      "outputs": [
        {
          "output_type": "execute_result",
          "data": {
            "text/plain": [
              "tensor(6.2707)"
            ]
          },
          "metadata": {},
          "execution_count": 56
        }
      ]
    },
    {
      "cell_type": "markdown",
      "source": [
        "Nesse ponto, nos afastamos um pouco das análises do Corpus da Clarice Lispector. Mas calma! Já estamos voltando."
      ],
      "metadata": {
        "id": "ax_elYB0siR4"
      }
    },
    {
      "cell_type": "markdown",
      "source": [
        "Agora, vamos usar esse modelo de embeddings do BERT para fazermos algumas análises de similaridade nas frases do nosso Corpus."
      ],
      "metadata": {
        "id": "yAlwPYzhs9cR"
      }
    },
    {
      "cell_type": "markdown",
      "source": [
        "Primeiro, vamos dividir nosso corpus em listas de 4 palavras, que serão nossas frases."
      ],
      "metadata": {
        "id": "1-XTQ3Uv3czH"
      }
    },
    {
      "cell_type": "code",
      "source": [
        "sent = np.array_split(palavras,3555.0)\n",
        "sent = [l.tolist() for l in sent]\n",
        "sent"
      ],
      "metadata": {
        "colab": {
          "base_uri": "https://localhost:8080/"
        },
        "id": "0T9d5f261O5-",
        "outputId": "7058a10d-aa2a-4cff-d8fd-38c0ee8351f7"
      },
      "execution_count": 66,
      "outputs": [
        {
          "output_type": "execute_result",
          "data": {
            "text/plain": [
              "[['hora', 'estrela', 'clarice', 'lispector'],\n",
              " ['hora', 'estrela', 'culpa', 'hora'],\n",
              " ['estrela', 'arranje', 'direito', 'grito'],\n",
              " ['quanto', 'futuro', 'lamento', 'blue'],\n",
              " ['sabe', 'gritar', 'assovio', 'vento'],\n",
              " ['escuro', 'posso', 'fazer', 'nada'],\n",
              " ['registro', 'fatos', 'antecedentes', 'história'],\n",
              " ['lacrimogênica', 'cordel', 'saída', 'discreta'],\n",
              " ['porta', 'fundos', 'apresentação', 'escrever'],\n",
              " ['estrelas', 'ora', 'direis', 'clarice'],\n",
              " ['lispector', 'deixou', 'vários', 'depoimentos'],\n",
              " ['sobre', 'produção', 'literária', 'alguns'],\n",
              " ['parecia', 'defender', 'estranhamento', 'causava'],\n",
              " ['leitores', 'críticos', 'consciência', 'diferença'],\n",
              " ['desde', 'pequena', 'ver', 'recusadas'],\n",
              " ['histórias', 'mandava', 'jornal', 'recife'],\n",
              " ['pressentia', 'porque', 'nenhuma', 'contava'],\n",
              " ['fatos', 'necessários', 'história', 'nenhuma'],\n",
              " ['relatava', 'acontecimento', 'sabia', 'adulta'],\n",
              " ['poderia', 'tornar', 'atraente', 'texto'],\n",
              " ['usasse', 'exemplo', 'algumas', 'coisas'],\n",
              " ['emolduram', 'vida', 'coisa', 'romance'],\n",
              " ['personagem', 'entretanto', 'arriscando', 'rótulo'],\n",
              " ['escritora', 'difícil', 'admitindo', 'ter'],\n",
              " ['público', 'reduzido', 'conseguiria', 'abrir'],\n",
              " ['mão', 'traçado:', 'gente', 'cose'],\n",
              " ['coso', 'dentro', 'afastou', 'escritores'],\n",
              " ['opção', 'engajamento', 'defendem', 'valores'],\n",
              " ['morais', 'políticos', 'sociais', 'outros'],\n",
              " ['cuja', 'literatura', 'dirigida', 'planificada'],\n",
              " ['fim', 'exaltar', 'valores', 'geralmente'],\n",
              " ['impostos', 'poderes', 'políticos', 'religiosos'],\n",
              " ['etc', 'muitas', 'vezes', 'alheios'],\n",
              " ['escritor', 'nome', 'outra', 'forma'],\n",
              " ['questionar', 'realidade', 'nela', 'intervir'],\n",
              " ['através', 'literatura', 'talvez', 'saber'],\n",
              " ['clarice', 'optando', 'tipo', 'escrita'],\n",
              " ['característica', 'escritor', 'moderno', 'dizer'],\n",
              " ['crítico', 'francês', 'roland', 'barthes'],\n",
              " ['escrever', 'fazer', 'centro', 'processo'],\n",
              " ['palavra', 'efetuar', 'escritura', 'afetando'],\n",
              " ['si', 'próprio', 'fazer', 'coincidir'],\n",
              " ['ação', 'afeição', 'via', 'formula'],\n",
              " ['outra', 'qualidade', 'experiência', 'envolvida'],\n",
              " ['escrita', 'nova', 'perspectiva', 'linguagem'],\n",
              " ['concebida:', 'importante', 'relatar', 'fato'],\n",
              " ['praticar', 'autoconhecimento', 'alargamento', 'conhecimento'],\n",
              " ['mundo', 'através', 'exercício', 'linguagem'],\n",
              " ['hora', 'estrela', 'leva', 'proposta'],\n",
              " ['últimas', 'conseqüências', 'leitura', 'torna'],\n",
              " ['tão', 'instigante', 'certo', 'aqui'],\n",
              " ['reencontramos', 'agudeza', 'investigação', 'natureza'],\n",
              " ['psicologia', 'humanas', 'gosto', 'minúcia'],\n",
              " ['patente', 'trato', 'dado', 'palavra'],\n",
              " ['tão', 'peculiares', 'clarice', 'lispector'],\n",
              " ['lermos', 'livro', 'hora', 'vez'],\n",
              " ['inserindo', 'conjunto', 'obra', 'constataremos'],\n",
              " ['existe', 'algo', 'novo', 'além'],\n",
              " ['insólito', 'prefácio', 'forma', 'dedicatória'],\n",
              " ['frouxidão', 'enredo', 'mescla', 'linguagem'],\n",
              " ['sutil', 'tom', 'desnudo', 'cru'],\n",
              " ['ainda', 'intimidade', 'choque', 'social'],\n",
              " ['apresentado', 'aqui', 'autora', 'aborda'],\n",
              " ['frente', 'embate', 'escritor', 'moderno'],\n",
              " ['melhor', 'escritor', 'brasileiro', 'moderno'],\n",
              " ['condição', 'indigente', 'população', 'brasileira'],\n",
              " ['deixar', 'lado', 'afinal', 'contas'],\n",
              " ['traz', 'assinatura', 'clarice', 'lispector'],\n",
              " ['reflexão', 'sobre', 'mulher', 'discussão'],\n",
              " ['arma', 'partir', 'estórias', 'entrecruzam'],\n",
              " ['acorde', 'musical:', 'vida', 'macabéa'],\n",
              " ['imigrante', 'nordestina', 'vive', 'desajustada'],\n",
              " ['rio', 'janeiro;', 'autor', 'livro'],\n",
              " ['embora', 'rosto', 'definido', 'conhecer'],\n",
              " ['comentários', 'faz;', 'ainda', 'estória'],\n",
              " ['próprio', 'ato', 'escrever', 'verdade'],\n",
              " ['última', 'estória', 'promove', 'grande'],\n",
              " ['elo', 'todas', 'escrever', 'livro'],\n",
              " ['escrever', 'macabéa', 'sobretudo', 'escrever'],\n",
              " ['si', 'eis', 'grande', 'desafio'],\n",
              " ['dessa', 'proposta', 'cria', 'dramaticidade'],\n",
              " ['narrativa', 'pois', 'escrita', 'envolve'],\n",
              " ['múltiplas', 'complexas', 'relações:', 'escritor'],\n",
              " ['texto', 'escritor', 'público', 'escritor'],\n",
              " ['personagem', 'tão', 'distante', 'universo'],\n",
              " ['linguagem', 'moeda', 'comunicação', 'homens'],\n",
              " ['ganha', 'foros', 'personagem', 'personagem'],\n",
              " ['crise', 'emergem', 'indagações:', 'palavra'],\n",
              " ['usa', 'expressa', 'verdadeiramente?', 'linguagem'],\n",
              " ['funda', 'realidade?', 'palavra', 'distancia'],\n",
              " ['aproxima', 'pessoas?', 'dispor', 'palavra'],\n",
              " ['dom', 'maldição?', 'palavra', 'cabe'],\n",
              " ['artista', 'contemporâneo?', 'palavra', 'adequa'],\n",
              " ['escritor', 'terceiromundista', 'falar', 'brasil'],\n",
              " ['miserável?', 'papel', 'espera', 'artista?'],\n",
              " ['assim', 'posto', 'enredo', 'fugaz'],\n",
              " ['aparência', 'revela', 'algumas', 'linhas'],\n",
              " ['sustentação', 'jogo', 'linguagem', 'poder'],\n",
              " ['conhecimento', 'comunicação', 'convencimento', 'debatem'],\n",
              " ['existência', 'humana', 'laços', 'sociais'],\n",
              " ['patente', 'isolamento', 'pessoas', 'parece'],\n",
              " ['conduzir', 'reflexão', 'sobre', 'condição'],\n",
              " ['humano', 'agravada', 'tipo', 'organização'],\n",
              " ['social', 'segrega', 'indivíduos', 'si'],\n",
              " ['artista', 'constata', 'exílio', 'homem'],\n",
              " ['própria', 'terra', 'respostas', 'prontas'],\n",
              " ['justifiquem', 'inquietação', 'move', 'faz'],\n",
              " ['escreva', 'tente', 'descobrir', 'escrita'],\n",
              " ['própria', 'identidade', 'própria', 'humanidade'],\n",
              " ['cara', 'cara', 'outra', 'qualquer'],\n",
              " ['pessoa', 'hora', 'estrela', 'empreendimento'],\n",
              " ['assume', 'ousadia', 'profundidade', 'inusitadas'],\n",
              " ['escritor', 'solta', 'amarras', 'vai'],\n",
              " ['fundo', 'poço:', 'origens', 'contradições'],\n",
              " ['sociedade', 'vive', 'tal', 'tomando'],\n",
              " ['base', 'linguagem', 'dispõe', 'três'],\n",
              " ['tipos', 'abordagem:', 'filosófica', 'social'],\n",
              " ['estética', 'perspectiva', 'filosófica', 'limites'],\n",
              " ['alcances', 'conhecimento', 'mundo', 'diante'],\n",
              " ['á', 'palavra', 'consciência', 'através'],\n",
              " ['quais', 'humano', 'distingue', 'outros'],\n",
              " ['seres', 'perspectiva', 'social', 'investiga'],\n",
              " ['impasses', 'criados', 'separação', 'indivíduos'],\n",
              " ['diferentes', 'grupos', 'dando', 'destaque'],\n",
              " ['inserção', 'escritor', 'nordestino', 'sociedade'],\n",
              " ['brasileira;', 'perspectiva', 'estética', 'sonda'],\n",
              " ['gesto', 'criador', 'trabalho', 'busca'],\n",
              " ['expressão', 'inaugure', 'apreensão', 'original'],\n",
              " ['real', 'três', 'aspectos', 'claro'],\n",
              " ['apresentam', 'forma', 'imbricada', 'livro'],\n",
              " ['ângulo', 'filosófico', 'evidência', 'origens'],\n",
              " ['perdem', 'tempo', 'impossível', 'voltar'],\n",
              " ['época', 'coisas', 'acontecem', 'antes'],\n",
              " ['acontecer', 'leva', 'indivíduo', 'estado'],\n",
              " ['perplexidade', 'afirmar', 'tudo', 'mundo'],\n",
              " ['começou', 'sim', 'narrador', 'revela'],\n",
              " ['sabe', 'coisas', 'criam', 'ato'],\n",
              " ['vontade', 'afirmação', 'sabe', 'portanto'],\n",
              " ['modo', 'algo', 'passa', 'existir'],\n",
              " ['compreensão', 'deste', 'algo', 'entanto'],\n",
              " ['esbarra', 'naquilo', 'antecedeu', 'possibilitou'],\n",
              " ['expressão', 'vontade', 'possibilitou', 'sim'],\n",
              " ['então', 'escolha', 'fizesse', 'importante'],\n",
              " ['modo', 'algo', 'existia', 'ganha'],\n",
              " ['existência', 'problema', 'fundamental', 'origem'],\n",
              " ['começo', 'tudo', 'situa', 'ordem'],\n",
              " ['temporal', 'inapreensível', 'homem:', 'sempre'],\n",
              " ['sei', 'quê', 'sei', 'universo'],\n",
              " ['jamais', 'começou', 'assim', 'pessoa'],\n",
              " ['faz', 'intermináveis', 'perguntas', 'vive'],\n",
              " ['série', 'faltas', 'única', 'verdade'],\n",
              " ['indiscutível', 'existências', 'individuais', 'intui'],\n",
              " ['certo', 'identificação', 'todos', 'unidade'],\n",
              " ['todos', 'unificação', 'mostra', 'principalmente'],\n",
              " ['carência', 'pobreza', 'dinheiro', 'pobreza'],\n",
              " ['espírito', 'saudade', 'faltar', 'coisa'],\n",
              " ['preciosa', 'ouro', 'existe', 'falte'],\n",
              " ['delicado', 'essencial', 'fica', 'apenas'],\n",
              " ['constatação', 'cada', 'fragmento', 'parte'],\n",
              " ['algo', 'daí', 'projetar', 'sentido'],\n",
              " ['último', 'realidade', 'realidade', 'sempre'],\n",
              " ['faltando', 'dolorosamente', 'ainda', 'existe'],\n",
              " ['consciência', 'cada', 'advertindo', 'sobre'],\n",
              " ['vazio', 'empenho', 'transpô', 'lo'],\n",
              " ['consciência', 'aflora', 'atributo', 'humano'],\n",
              " ['paradoxal:', 'instrumentos', 'tentar', 'responder'],\n",
              " ['indagações', 'possibilita', 'busque', 'sentido'],\n",
              " ['vida', 'desponta', 'fonte', 'dúvidas'],\n",
              " ['assinalando', 'ruptura', 'cada', 'individual'],\n",
              " ['modo', 'existência', 'originário', 'tudo'],\n",
              " ['todo', 'cheio', 'harmonia', 'consciência'],\n",
              " ['condição', 'liberdade', 'simultaneamente', 'aprisionamento'],\n",
              " ['nostalgia', 'integração', 'total', 'cosmos'],\n",
              " ['confere', 'certa', 'tragicidade', 'projeto'],\n",
              " ['narrador', 'pois', 'tempo', 'sabe'],\n",
              " ['independente', 'gosta', 'sê', 'lo'],\n",
              " ['anseia', 'identificação', 'completa', 'outro'],\n",
              " ['comunicação', 'direta', 'obstáculos', 'acabaria'],\n",
              " ['anulando', 'individualidade', 'autonomia', 'vivência'],\n",
              " ['culpa', 'erro', 'fundamental', 'sanado'],\n",
              " ['desponta', 'desde', 'primeiro', 'subtítulo'],\n",
              " ['livro', 'culpa', 'sempre', 'retorna'],\n",
              " ['sintomas', 'deste', 'desgarramento', 'homem'],\n",
              " ['mundo', 'vendo', 'cerradas', 'portas'],\n",
              " ['acesso', 'unidade', 'originária', 'vai'],\n",
              " ['investigar', 'solitário', 'dinâmica', 'existência'],\n",
              " ['individual', 'escolha', 'macabéa', 'anônima'],\n",
              " ['incompetente', 'vida', 'integra', 'determinação'],\n",
              " ['inclui', 'busca', 'regressão', 'inumano'],\n",
              " ['trata', 'apenas', 'narrativa', 'antes'],\n",
              " ['tudo', 'vida', 'primária', 'respira'],\n",
              " ['respira', 'respira', 'expiação', 'possível'],\n",
              " ['culpa', 'narrador', 'perpassado', 'toda'],\n",
              " ['sorte', 'indagações', 'sobre', 'existir'],\n",
              " ['atormentado', 'incompletude', 'dualidade', 'natureza'],\n",
              " ['humana', 'quais', 'respostas', 'precárias'],\n",
              " ['converte', 'busca', 'única', 'certeza'],\n",
              " ['daí', 'decorrem', 'menos', 'dois'],\n",
              " ['movimentos', 'centrais', 'narrativa', 'primeiro'],\n",
              " ['toda', 'busca', 'toda', 'pergunta'],\n",
              " ['busca', 'algo', 'pergunta', 'alguém'],\n",
              " ['narrador', 'saber', 'desdobrar', 'dialogar'],\n",
              " ['situação', 'comunicativa', 'banal', 'passa'],\n",
              " ['despercebido', 'projeta', 'narrador', 'condição'],\n",
              " ['essencial', 'ser:', 'apreender', 'si'],\n",
              " ['inclui', 'confronto', 'outro', 'tempo'],\n",
              " ['projeção', 'traz', 'implícito', 'retorno'],\n",
              " ['si', 'tenta', 'unificar', 'único'],\n",
              " ['sujeito', 'individual', 'elementos', 'presentes'],\n",
              " ['outros', 'seres', 'universo', 'dois'],\n",
              " ['movimentos', 'tensão', 'permanente', 'interior'],\n",
              " ['obra', 'narrador', 'mantém', 'interlocutor'],\n",
              " ['deus', 'leitor', 'macabéa', 'postura'],\n",
              " ['ambivalente', 'identificação', 'afastamento', 'enquanto'],\n",
              " ['artista', 'aproxima', 'deus', 'ambos'],\n",
              " ['criadores', 'fazê', 'lo', 'cena'],\n",
              " ['forma', 'humaniza', 'diviniza', 'si'],\n",
              " ['tempo', 'entanto', 'deus', 'permanece'],\n",
              " ['enquanto', 'figura', 'abstrata', 'dominadora'],\n",
              " ['corporifica', 'idéia', 'totalidade', 'nisto'],\n",
              " ['constitui', 'ente', 'demoníaco', 'diante'],\n",
              " ['homem', 'condenado', 'expressar', 'palavras'],\n",
              " ['fadado', 'morrer', 'apequena', 'vosso'],\n",
              " ['deus', 'mandou', 'inventar', 'leitor'],\n",
              " ['ora', 'alguém', 'solidariza', 'dor'],\n",
              " ['desamparo', 'ora', 'alguém', 'quer'],\n",
              " ['distância', 'macabéa', 'nordestina', 'afasta'],\n",
              " ['abismo', 'social', 'separa', 'meio'],\n",
              " ['tensão', 'homem', 'mundo', 'surge'],\n",
              " ['debate', 'torno', 'palavra', 'sendo'],\n",
              " ['narrador', 'escritor', 'diálogo', 'mediado'],\n",
              " ['palavra', 'tal', 'consciência', 'palavra'],\n",
              " ['faca', 'dois', 'gumes', 'pois'],\n",
              " ['tempo', 'constitui', 'instrumento', 'aproximação'],\n",
              " ['risco', 'palavra', 'artista', 'abusar'],\n",
              " ['poder', 'aniquilar', 'palavra', 'macabéa'],\n",
              " ['disso', 'resultaria', 'fracasso', 'dessa'],\n",
              " ['experiência', 'ficcional', 'caso', 'significaria'],\n",
              " ['fracasso', 'projeto', 'escrever', 'enquanto'],\n",
              " ['projeto', 'existencial', 'tudo', 'hora'],\n",
              " ['estrela', 'acha', 'mergulhado', 'desassossego'],\n",
              " ['ausência', 'sentido', 'tudo', 'todos'],\n",
              " ['livro', 'caça', 'narrador', 'escritor'],\n",
              " ['diante', 'morte', 'deus', 'enquanto'],\n",
              " ['horizonte', 'sentido', 'homem', 'homem'],\n",
              " ['tempo', 'padece', 'figura', 'poderosa'],\n",
              " ['criador', 'vai', 'então', 'vasculhar'],\n",
              " ['interioridade', 'entanto', 'sempre', 'escapa'],\n",
              " ['vai', 'indagar', 'sentido', 'existência'],\n",
              " ['macabéa', 'tosca', 'manifestação', 'vida'],\n",
              " ['nesta', 'verdadeira', 'viagem', 'põe'],\n",
              " ['nu', 'imagem', 'escritor', 'denuncia'],\n",
              " ['mentira', 'palavra', 'transparente', 'verdadeira'],\n",
              " ['usada', 'forma', 'comunicação', 'homens'],\n",
              " ['homem', 'consigo', 'trajetória', 'aproxima'],\n",
              " ['clarice', 'lispector', 'outros', 'escritores'],\n",
              " ['modernos', 'fernando', 'pessoa', 'colocaram'],\n",
              " ['sob', 'suspeita', 'comunicação', 'direta'],\n",
              " ['perspectiva', 'social', 'vai', 'assim'],\n",
              " ['definindo', 'reflexão', 'sobre', 'projeto'],\n",
              " ['ficcional', 'hora', 'estrela', 'meio'],\n",
              " ['denuncia', 'máscaras', 'sociais', 'encobrem'],\n",
              " ['crise', 'fundamental', 'indivíduo', 'alienado'],\n",
              " ['si', 'rígidos', 'papéis', 'sociais'],\n",
              " ['escrever', 'livro', 'forma', 'autoconhecimento'],\n",
              " ['escrevendo', 'hora', 'mesma', 'lido'],\n",
              " ['levado', 'últimas', 'conseqüências', 'elege'],\n",
              " ['heroína', 'alguém', 'tão', 'inexpressivo'],\n",
              " ['macabéa', 'escrever', 'implica', 'desnudar'],\n",
              " ['aceitar', 'dor', 'envolvida', 'neste'],\n",
              " ['processo;', 'escrever', 'macabéa', 'significa'],\n",
              " ['enfrentar', 'desamparo', 'palavra', 'tenta'],\n",
              " ['ajustar', 'essência', 'natureza', 'constrói'],\n",
              " ['forma', 'personagem', 'narrador', 'escritor'],\n",
              " ['coloca', 'desde', 'início', 'drama'],\n",
              " ['afirmar:', 'desconhecido', 'responder', 'falta'],\n",
              " ['sentido', 'põe', 'mostra', 'condição'],\n",
              " ['artista', 'desmistifica', 'lugar', 'pessoa'],\n",
              " ['eleita', 'antecedentes', 'escrever?', 'homem'],\n",
              " ['dinheiro', 'passam', 'fome', 'faz'],\n",
              " ['mim', 'algum', 'modo', 'desonesto'],\n",
              " ['ironiza', 'dificuldade', 'inserção', 'escritor'],\n",
              " ['sociedade', 'sim', 'classe', 'social'],\n",
              " ['marginalizado', 'classe', 'alta', 'monstro'],\n",
              " ['esquisito', 'média', 'desconfiança', 'possa'],\n",
              " ['desequilibrá', 'la', 'classe', 'baixa'],\n",
              " ['nunca', 'vem', 'mim', 'desmascara'],\n",
              " ['preconceito', 'contra', 'escritora', 'mulher'],\n",
              " ['aliás', 'descubro', 'agora', 'faço'],\n",
              " ['menor', 'falta', 'escrevo', 'outro'],\n",
              " ['escreveria', 'outro', 'escritor', 'sim'],\n",
              " ['homem', 'porque', 'escritora', 'mulher'],\n",
              " ['pode', 'lacrimejar', 'piegas:', 'põe'],\n",
              " ['cheque', 'importância', 'trabalho', 'diante'],\n",
              " ['manifestação', 'vida:', 'quanto', 'escrever'],\n",
              " ['vale', 'cachorro', 'vivo', 'ironia'],\n",
              " ['empregada', 'narrador', 'leva', 'entanto'],\n",
              " ['outro', 'aspecto', 'existência', 'mesma'],\n",
              " ['livro', 'confirma:', 'crédito', 'atribuído'],\n",
              " ['ficção', 'via', 'acesso', 'compreensão'],\n",
              " ['mundo', 'outras', 'passagens', 'livro'],\n",
              " ['mostram', 'existe', 'outro', 'modo'],\n",
              " ['narrar', 'difícil', 'certo', 'permite'],\n",
              " ['provocar', 'novo', 'olhar', 'sobre'],\n",
              " ['vida', 'método', 'trabalho', 'configura'],\n",
              " ['verdadeiro', 'ritual', 'iniciação', 'esquentando'],\n",
              " ['corpo', 'iniciar', 'esfregando', 'mãos'],\n",
              " ['outra', 'ter', 'coragem', 'consiste'],\n",
              " ['eliminar', 'supérfluo', 'porque', 'assim'],\n",
              " ['poderá', 'captar', 'fracas', 'aventuras'],\n",
              " ['moça', 'cidade', 'toda', 'feita'],\n",
              " ['contra', 'atitude', 'diante', 'macabéa'],\n",
              " ['continuidade', 'atitude', 'diante', 'linguagem'],\n",
              " ['falar', 'moça', 'fazer', 'barba'],\n",
              " ['durante', 'dias', 'adquirir', 'olheiras'],\n",
              " ['escuras', 'dormir', 'pouco', 'vestir'],\n",
              " ['roupa', 'velha', 'rasgada', 'tudo'],\n",
              " ['nível', 'nordestina', 'travestir', 'pretende'],\n",
              " ['ocultar', 'disfarce', 'fazer', 'si'],\n",
              " ['terreno', 'propício', 'voz', 'presença'],\n",
              " ['macabéa', 'ganhem', 'existência', 'traição'],\n",
              " ['sabendo', 'corre', 'risco', 'perda'],\n",
              " ['comunicação', 'moldes', 'canonizados', 'vê'],\n",
              " ['portanto', 'narrador', 'escritor', 'tece'],\n",
              " ['paralelo', 'certa', 'postura', 'física'],\n",
              " ['espiritual', 'ética', 'postura', 'diante'],\n",
              " ['instrumento', 'trabalho', 'palavra', 'pode'],\n",
              " ['enfeitada', 'artisticamente', 'vã', 'apenas'],\n",
              " ['tal', 'opõe', 'palavra', 'sentido'],\n",
              " ['alienada', 'ilusória', 'descarta', 'palavraexpressão'],\n",
              " ['nomeadora:', 'escrever', 'nome', 'real'],\n",
              " ['dado', 'coisas', 'cada', 'coisa'],\n",
              " ['palavra', 'hora', 'estrela', 'consiste'],\n",
              " ['verdadeira', 'peregrinação', 'escuta', 'fala'],\n",
              " ['longo', 'escritor', 'tenta', 'construir'],\n",
              " ['partir', 'limo', 'pessoa', 'formiga'],\n",
              " ['macabéa', 'própria', 'pessoa', 'gigante'],\n",
              " ['deconsciência', 'estrela', 'pessoa', 'estrela'],\n",
              " ['palavra', 'assim', 'pessoa', 'rala'],\n",
              " ['muda', 'recolhida', 'olhar', 'arguto'],\n",
              " ['escritor', 'desorientado', 'conduzido', 'palavra'],\n",
              " ['desconfiando', 'forma', 'destino', 'si'],\n",
              " ['próprio', 'moça', 'nordestina', 'busca'],\n",
              " ['faz', 'fixe', 'duas', 'metas'],\n",
              " ['aparentemente', 'contraditórias:', 'simplicidade', 'história'],\n",
              " ['quer', 'exterior', 'explícita', 'sim'],\n",
              " ['contém', 'segredos', 'aproximação', 'palavra'],\n",
              " ['silêncio', 'narrador', 'escritor', 'tal'],\n",
              " ['poeta', 'francês', 'baudelaire', 'vagando'],\n",
              " ['ruas', 'paris', 'vã', 'deserto'],\n",
              " ['cidade', 'rio', 'janeiro', 'decadência'],\n",
              " ['humano', 'através', 'macabéa', 'representante'],\n",
              " ['milhares', 'moças', 'espalhadas', 'cortiços'],\n",
              " ['notam', 'sequer', 'facilmente', 'substituíveis'],\n",
              " ['baudelaire', 'ainda', 'sente', 'atraído'],\n",
              " ['mundo', 'sórdido', 'precário', 'artista'],\n",
              " ['vê', 'detrás', 'máscaras', 'inclui'],\n",
              " ['nessa', 'sociedade', 'cruel', 'aniquiladora'],\n",
              " ['compraz', 'denúncia', 'alvos', 'favoritos'],\n",
              " ['leitores', 'deus', 'todo', 'ambiente'],\n",
              " ['agressivo', 'vive', 'normalmente', 'desvia'],\n",
              " ['olhar', 'nessa', 'perambulação', 'constata'],\n",
              " ['algo', 'poderia', 'ter', 'vingado'],\n",
              " ['vingou', 'dito', 'livro', 'duas'],\n",
              " ['vezes', 'maneira', 'faz', 'lembrar'],\n",
              " ['verso', 'conhecido', 'manuel', 'bandeira'],\n",
              " ['pneumotórax:', 'experimentei', 'quase', 'tudo'],\n",
              " ['inclusive', 'paixão', 'desespero', 'agora'],\n",
              " ['queria', 'ter', 'sido', 'p'],\n",
              " ['gargalhada', 'aterrorizadora', 'porque', 'acontecia'],\n",
              " ['passado', 'imaginação', 'maléfica', 'trazia'],\n",
              " ['presente', 'saudade', 'poderia', 'ter'],\n",
              " ['sido', 'p', 'primeira', 'vez'],\n",
              " ['refere', 'escritor;', 'segunda', 'macabéa'],\n",
              " ['aí', 'pode', 'inferir', 'vivência'],\n",
              " ['restrita', 'realidade', 'particular', 'sim'],\n",
              " ['coletiva', 'perspectiva', 'ampla', 'porque'],\n",
              " ['pano', 'fundo', 'encontro', 'mundo'],\n",
              " ['deus', 'ousadia', 'desmascaramento', 'reflete'],\n",
              " ['meticulosidade', 'grotesco', 'feiúra', 'macabéa'],\n",
              " ['tratados', 'escritor', 'descreve', 'ombros'],\n",
              " ['curvos', 'cerzideira', 'corpo', 'cariado'],\n",
              " ['acaso', 'feto', 'jogado', 'lata'],\n",
              " ['lixo', 'embrulhado', 'jornal', 'interesse'],\n",
              " ['feio', 'grotesco', 'dado', 'ligação'],\n",
              " ['desta', 'obra', 'tradição', 'modernidade'],\n",
              " ['trata', 'feio', 'apenas', 'elemento'],\n",
              " ['cômico', 'inferioridade', 'moral', 'eleva'],\n",
              " ['plano', 'valores', 'metafísicos', 'coisa'],\n",
              " ['incompleta', 'discordante', 'feio', 'afirma'],\n",
              " ['fragmentário', 'vida', 'macabéa', 'matéria'],\n",
              " ['orgânica', 'exemplo', 'concreto', 'existência'],\n",
              " ['ara', 'nada', 'sobretudo', 'porque'],\n",
              " ['expõe', 'apenas', 'maior', 'evidência'],\n",
              " ['ausência', 'sentido', 'atinge', 'todos'],\n",
              " ['escritor', 'tenta', 'penetrar', 'nessa'],\n",
              " ['feiúra', 'extrema', 'intuito', 'recobrar'],\n",
              " ['ainda', 'guarda', 'estrela', 'idealidade'],\n",
              " ['grotesco', 'vem', 'exprimir', 'encontro'],\n",
              " ['violento', 'divino', 'diabólico', 'autor'],\n",
              " ['procura', 'danadamente', 'achar', 'nessa'],\n",
              " ['existência', 'menos', 'topázio', 'esplendor'],\n",
              " ['grifo', 'algum', 'brilho', 'irá'],\n",
              " ['avivar', 'contraste', 'insuficiência', 'real'],\n",
              " ['macabéa', 'tudo', 'tudo', 'oposto'],\n",
              " ['herói', 'épico', 'trajetória', 'vida'],\n",
              " ['aponta', 'inviabilidade', 'grandes', 'feitos'],\n",
              " ['sociedade', 'moderna', 'retomando', 'conceito'],\n",
              " ['crítico', 'alemão', 'walter', 'benjamin'],\n",
              " ['pode', 'afirmar', 'sequer', 'experiência'],\n",
              " ['vida', 'memória', 'dia', 'pudesse'],\n",
              " ['soubesse', 'resgatar', 'máximo', 'canto'],\n",
              " ['galo', 'faz', 'lembre', 'terra'],\n",
              " ['infância', 'território', 'espúrio', 'proveniente'],\n",
              " ['meio', 'rude', 'órfã', 'pai'],\n",
              " ['mãe', 'criada', 'pancadas', 'tia'],\n",
              " ['macabéa', 'propriamente', 'história', 'pessoal'],\n",
              " ['felicidade', 'conceito', 'oco', 'índole'],\n",
              " ['passiva', 'torna', 'presa', 'fácil'],\n",
              " ['mitos', 'produtos', 'indústria', 'cultural'],\n",
              " ['admira', 'grandes', 'estrelas', 'cinema'],\n",
              " ['sente', 'fascinada', 'anúncios', 'publicitários'],\n",
              " ['notícias', 'descosidas', 'rádio', 'relógio'],\n",
              " ['integram', 'contexto', 'alienante', 'dentro'],\n",
              " ['cotidiano', 'faz', 'tempo', 'meramente'],\n",
              " ['físico', 'desprovido', 'ação', 'subjetiva'],\n",
              " ['interaja', 'proposta', 'transformação', 'inexiste'],\n",
              " ['passado;', 'inexiste', 'projeto', 'futuro'],\n",
              " ['quotidiano', 'macabéa', 'confirma', 'cada'],\n",
              " ['detalhe', 'inabilidade', 'despreparo', 'enfrentamento'],\n",
              " ['elementar', 'diante', 'dificuldades', 'inerentes'],\n",
              " ['vida', 'pouco', 'habilitada', 'trabalho;'],\n",
              " ['fracassa', 'amor', 'única', 'conquista'],\n",
              " ['amorosa', 'desajeitado', 'olimpo', 'foge'],\n",
              " ['mãos', 'água', 'parece', 'esgotada'],\n",
              " ['denúncia', 'fragilidade', 'pormenor', 'desponta'],\n",
              " ['boneca', 'animada', 'macabéa', 'estimulasse'],\n",
              " ['forças', 'negativas', 'mundo', 'acentuando'],\n",
              " ['lugar', 'vítima', 'desenlace', 'trágico'],\n",
              " ['atropelamento', 'estória', 'macabéa', 'resume'],\n",
              " ['sobrevivência', 'quase', 'inumana', 'pois'],\n",
              " ['tudo', 'sente', 'deseja', 'dispõe'],\n",
              " ['palavras', 'expressar', 'assim', 'testemunho'],\n",
              " ['veemente', 'falta', 'deposse', 'sobre'],\n",
              " ['si', 'mesma', 'sobre', 'mundo'],\n",
              " ['maneira', 'lida', 'palavra', 'priva'],\n",
              " ['palavra', 'permanece', 'silêncio', 'opção'],\n",
              " ['maneira', 'precária', 'oposição', 'silêncio'],\n",
              " ['enquanto', 'momento', 'linguagem', 'fala'],\n",
              " ['sartre', ';', 'fala', 'dissonância'],\n",
              " ['sempre', 'expressa', 'inadequadamente', 'mostra'],\n",
              " ['interesse', 'palavras', 'conceitos', 'reveladores'],\n",
              " ['condição', 'existencial', 'social', 'descontextualizados'],\n",
              " ['levam', 'autoconhecimento', 'vale', 'magia'],\n",
              " ['secreta', 'termos', 'designar', 'mimetismo'],\n",
              " ['efeméride', 'renda', 'per', 'capita'],\n",
              " ['conde', 'somente', 'despertam', 'nela'],\n",
              " ['curiosidade', 'infantil?', 'próprio', 'nome'],\n",
              " ['adverte', 'ara', 'contrasenso', 'pois'],\n",
              " ['nada', 'aproxima', 'índole', 'heróica'],\n",
              " ['macabeus', 'povo', 'guerreiro', 'história'],\n",
              " ['hebreus', 'perspectiva', 'estética', 'vem'],\n",
              " ['propósito', 'evitar', 'falseamento', 'realidade'],\n",
              " ['narradorescritor', 'escolhe', 'nova', 'maneira'],\n",
              " ['olhar', 'nova', 'postura', 'diante'],\n",
              " ['narrar', 'indicadas', 'livro', 'distração'],\n",
              " ['flash', 'fotográfico', 'ambos', 'destaca'],\n",
              " ['idéia', 'relance', 'súbita', 'visão'],\n",
              " ['desarma', 'permitindo', 'apreenda', 'algo'],\n",
              " ['resiste', 'descoberto', 'analogias', 'palavra'],\n",
              " ['sonho', 'pedra', 'silêncio', 'vão'],\n",
              " ['mesma', 'direção', 'sonhos', 'deixam'],\n",
              " ['fluir', 'penumbra', 'atormentada', 'atormentada'],\n",
              " ['porque', 'toca', 'verdade', 'sempre'],\n",
              " ['contato', 'interior', 'inexplicável', 'aventura'],\n",
              " ['paradoxal', 'dessa', 'ficção', 'consiste'],\n",
              " ['pôr', 'claras', 'algo', 'caracteriza'],\n",
              " ['obscuridade', 'conseguir', 'integração', 'palavra'],\n",
              " ['sentido', 'trata', 'primeira', 'corpo'],\n",
              " ['trabalhado', 'põe', 'frente', 'próprio'],\n",
              " ['corpo', 'captar', 'sinais', 'ocultos'],\n",
              " ['ser:', 'intelectual', 'escrevo', 'corpo'],\n",
              " ['solidificação', 'fatos', 'faz', 'leitura'],\n",
              " ['história', 'nordeste', 'identidade', 'macabéa'],\n",
              " ['è', 'articulação', 'obra', 'história'],\n",
              " ['literária', 'brasileira', 'abdica', 'modernoso'],\n",
              " ['satiriza', 'história', 'começo', 'meio'],\n",
              " ['gran', 'finale', 'seguido', 'silêncio'],\n",
              " ['chuva', 'caindo', 'estabelece', 'diálogo'],\n",
              " ['literatura', 'cordel', 'nordeste', 'fala'],\n",
              " ['literatura', 'fala', 'nordeste', 'último'],\n",
              " ['confronto', 'escolhe', 'nordestino', 'mudou'],\n",
              " ['espaço', 'desenraizou', 'perdeu', 'respaldo'],\n",
              " ['grupo', 'bloco', 'estigmatizado', 'mudo'],\n",
              " ['vida', 'grande', 'metrópole', 'comovido'],\n",
              " ['narrador', 'desvincula', 'padrão', 'interpretação'],\n",
              " ['realista', 'deixando', 'vazar', 'ternura'],\n",
              " ['desespero', 'personagens', 'nordestinas', 'macabéa'],\n",
              " ['olimpo', 'reescreve', 'assim', 'famosa'],\n",
              " ['frase', 'euclides', 'cunha', 'sertanejo'],\n",
              " ['antes', 'tudo', 'forte', 'sertanejo'],\n",
              " ['antes', 'tudo', 'paciente', 'perdão'],\n",
              " ['interesse', 'figura', 'nordestino', 'mantém'],\n",
              " ['exige', 'entanto', 'nova', 'dicção:'],\n",
              " ['palavrapedra', 'linhagem', 'poeta', 'pernambucano'],\n",
              " ['joão', 'cabral', 'mello', 'neto'],\n",
              " ['palavra', 'parecer', 'palavra', 'pois'],\n",
              " ['escritor', 'apaixonou', 'fatos', 'literatura'],\n",
              " ['fatos', 'pedras', 'duras', 'cabral'],\n",
              " ['aprendizado', 'pedra', 'adesão', 'dureza'],\n",
              " ['objetos', 'serve', 'restituir', 'natureza'],\n",
              " ['própria', 'coisas', 'chamar', 'atenção'],\n",
              " ['processo', 'nomeação', 'leitor', 'levado'],\n",
              " ['apreender', 'coisas', 'dentro', 'narrador'],\n",
              " ['tentando', 'traduzilas', 'assim', 'chega'],\n",
              " ['paradoxo', 'converter', 'silêncio', 'alvo'],\n",
              " ['limite', 'pois', 'forma', 'direta'],\n",
              " ['concreta', 'atingir', 'plenitude', 'sentido'],\n",
              " ['coisas:', 'silêncio', 'neutralizaria', 'ruídos'],\n",
              " ['impedem', 'visão', 'autêntica', 'fatos'],\n",
              " ['silêncio', 'assusta', 'macabéa', 'porque'],\n",
              " ['nele', 'iminência', 'palavra', 'fatal'],\n",
              " ['pode', 'desencadear', 'contato', 'mistério'],\n",
              " ['despertar', 'modo', 'diferente', 'existência'],\n",
              " ['assim', 'murmúrio', 'reza', 'silêncio'],\n",
              " ['desloca', 'homem', 'esquecimento', 'si'],\n",
              " ['próprio', 'faz', 'viva', 'oco'],\n",
              " ['alma', 'silêncio', 'provoca', 'angústia'],\n",
              " ['descobrir', 'simples', 'mundo', 'entregue'],\n",
              " ['si', 'desamparado', 'firmeza', 'senso'],\n",
              " ['comum', 'oferece', 'silêncio', 'constitui'],\n",
              " ['manifestação', 'extremada', 'linguagem', 'esvaziada'],\n",
              " ['emite', 'novas', 'significações', 'desdobramento'],\n",
              " ['relação', 'palavra', 'silêncio', 'articula'],\n",
              " ['outra', 'palavra', 'música', 'referência'],\n",
              " ['música', 'impregna', 'todo', 'texto'],\n",
              " ['pontuando', 'fio', 'pavio', 'mesmo:'],\n",
              " ['sublinhando', 'fio', 'tessitura;', 'marcando'],\n",
              " ['alvo', 'limite', 'ponto', 'explosão'],\n",
              " ['presente', 'desde', 'prefácio', 'terminada'],\n",
              " ['leitura', 'impelidos', 'voltar', 'melhor'],\n",
              " ['entender', 'relação', 'mantém', 'narrativa'],\n",
              " ['todo', 'significação', 'música', 'outras'],\n",
              " ['questões', 'relativas', 'proposta', 'ficcional'],\n",
              " ['livro', 'intrigante', 'dedicatória', 'autor'],\n",
              " ['verdade', 'clarice', 'lispector', 'apresenta'],\n",
              " ['duplo', 'faces', 'externa', 'masculina'],\n",
              " ['neutra', 'sugere', 'categoria', 'função;'],\n",
              " ['outra', 'face', 'mal', 'escondida'],\n",
              " ['parênteses', 'clarice', 'lispector', 'pessoa'],\n",
              " ['individualizada', 'colocar', 'ambas', 'expressão'],\n",
              " ['verdade', 'tentados', 'confrontar', 'duas'],\n",
              " ['imagem', 'pode', 'visto', 'outro'],\n",
              " ['lado', 'fruto', 'articulação', 'ambos'],\n",
              " ['múltiplo', 'chama', 'atenção', 'situação'],\n",
              " ['ficção', 'enquanto', 'jogo', 'máscaras'],\n",
              " ['onde', 'foco', 'irradiador', 'verdade'],\n",
              " ['posto', 'sob', 'suspeita', 'própria'],\n",
              " ['idéia', 'verdade', 'aflora', 'ponto'],\n",
              " ['reflexão', 'logo', 'percebe', 'proposta'],\n",
              " ['lúdica', 'cabendo', 'aceitar', 'jogo'],\n",
              " ['dissimulação', 'inerente', 'ficção', 'nesta'],\n",
              " ['verdade', 'outro', 'lugar', 'começar'],\n",
              " ['autoria', 'livro', 'tudo', 'haverá'],\n",
              " ['gama', 'bem', 'grande', 'opções'],\n",
              " ['verdade', 'existe', 'multiplicidade', 'versões'],\n",
              " ['fato', 'estória', 'pessoa', 'podem'],\n",
              " ['fazer', 'evocar', 'ficção', 'jogo'],\n",
              " ['literatura', 'jogo', 'feito', 'linguagem'],\n",
              " ['observação', 'enriquece', 'contextualizada', 'trata'],\n",
              " ['dedicatória', 'livro', 'lugar', 'reservado'],\n",
              " ['expressão', 'afetividade', 'ante', 'sala'],\n",
              " ['texto', 'estabelece', 'diálogo', 'oferta'],\n",
              " ['recebe', 'livro', 'autor', 'começa'],\n",
              " ['chamando', 'obra', 'coisa', 'aí'],\n",
              " ['parece', 'parece', 'indicar', 'tentativa'],\n",
              " ['afastamento', 'obra', 'realizada', 'relação'],\n",
              " ['estaria', 'criando', 'distanciamento', 'ácido'],\n",
              " ['interpretação', 'choca', 'entretanto', 'gesto'],\n",
              " ['dedicar', 'sobretudo', 'destinatários', 'antigo'],\n",
              " ['schumann', 'doce', 'clara', 'hoje'],\n",
              " ['ossos', 'ai', 'nota', 'lamento'],\n",
              " ['diante', 'morte', 'física', 'daquele'],\n",
              " ['músico', 'esposa', 'apenas', 'redimida'],\n",
              " ['continuidade', 'obra', 'deixou', 'deixa'],\n",
              " ['existir', 'enquanto', 'fato', 'seguida'],\n",
              " ['verbo', 'dedicar', 'transforma', 'dedicar'],\n",
              " ['provocando', 'mudança', 'sentido', 'pois'],\n",
              " ['confere', 'ação', 'dimensão', 'temporal'],\n",
              " ['ininterrupta', 'reavivando', 'sentido', 'religioso'],\n",
              " ['dedicar', 'empenho', 'continuidade', 'ligação'],\n",
              " ['profunda', 'música', 'desempenha', 'papel'],\n",
              " ['fundamental', 'opera', 'trânsito', 'consigo'],\n",
              " ['cuja', 'trilha', 'consiste', 'contato'],\n",
              " ['interioridade', 'anterioridade', 'forma', 'expressar'],\n",
              " ['tanto', 'interioridade', 'física', 'sangue'],\n",
              " ['ossos', 'quanto', 'imaginaria', 'gnomos'],\n",
              " ['anões', 'etc', 'recobre', 'rico'],\n",
              " ['campo', 'simbólico', 'dimensão', 'imaginária'],\n",
              " ['configura', 'através', 'entes', 'mitologia:'],\n",
              " ['gnomos', 'pequenos', 'gênios', 'talmud'],\n",
              " ['cabala', 'presidem', 'terra', 'tesouros;'],\n",
              " ['anões', 'versão', 'tradição', 'popular'],\n",
              " ['germâmica', 'surgiram', 'sangue', 'ossos'],\n",
              " ['gigante', 'peritos', 'trabalho', 'forja'],\n",
              " ['conhecem', 'futuro;', 'sílfides', 'gênios'],\n",
              " ['ar;', 'ninfas', 'conhecem', 'dominam'],\n",
              " ['natureza', 'percebese', 'pois', 'escritor'],\n",
              " ['dedica', 'culto', 'figuras', 'lendárias'],\n",
              " ['identificadas', 'si', 'força', 'vital'],\n",
              " ['interioridade', 'física', 'vem', 'representada'],\n",
              " ['partes', 'corpo', 'assinalam', 'confronto'],\n",
              " ['vida', 'sangue', 'morte', 'ossos'],\n",
              " ['traduzindo', 'reserva', 'vital', 'buscada'],\n",
              " ['indivíduo', 'escritor', 'comunicando', 'dedica'],\n",
              " ['estados', 'fronteiriços', 'capazes', 'proporcionar'],\n",
              " ['encontro', 'experiência', 'originária', 'ter'],\n",
              " ['acesso', 'estados', 'desencadeia', 'verdadeiro'],\n",
              " ['abalo', 'císmico', 'pois', 'atingese'],\n",
              " ['região', 'recôndita', 'tal', 'veemência'],\n",
              " ['somente', 'imagens', 'paradoxais', 'podem'],\n",
              " ['traduzi', 'la', 'palavras:', 'vibração'],\n",
              " ['cores', 'neutras', 'zonas', 'assustadoramente'],\n",
              " ['inesperadas', 'sintonia', 'concentra', 'todos'],\n",
              " ['tempos:', 'todos', 'profetas', 'presente'],\n",
              " ['mim', 'vaticinaram', 'mim', 'elo'],\n",
              " ['vem', 'expresso', 'conforme', 'vimos'],\n",
              " ['através', 'verbos', 'dedicar', 'dedicar'],\n",
              " ['etimologicamente', 'significam', 'primeiro', 'dizer'],\n",
              " ['segundo', 'dizer', 'através', 'si'],\n",
              " ['encontro', 'dizer', 'palavra', 'tocando'],\n",
              " ['sentidos', 'abalando', 'inteligência', 'arte'],\n",
              " ['musical', 'linguagem', 'abstrata', 'somada'],\n",
              " ['linguagem', 'simbólica', 'cores', 'traduz'],\n",
              " ['revolução', 'deste', 'indivíduo', 'habitando'],\n",
              " ['núcleo', 'explode:', 'ponto', 'neste'],\n",
              " ['instante', 'explodir', 'em:', 'explodir:'],\n",
              " ['irromper', 'vociferar', 'sim', 'porque'],\n",
              " ['descobre', 'leva', 'sensações', 'humanamente'],\n",
              " ['insuportáveis', 'neste', 'momento', 'afigura'],\n",
              " ['apelo', 'outro', 'resultado', 'doloroso'],\n",
              " ['sentimento', 'incompletude', 'solidão', 'começo'],\n",
              " ['convocado', 'partilhar', 'dor', 'morte'],\n",
              " ['schumann', 'volta', 'chamado', 'solidariedade'],\n",
              " ['abismal', 'suprir', 'lacuna', 'todas'],\n",
              " ['pessoas', 'seres', 'ambulantes', 'chegado'],\n",
              " ['estágio', 'escritor', 'dedica', 'dedica'],\n",
              " ['medita', 'exercita', 'repete', 'papel'],\n",
              " ['reflete:', 'meditar', 'precisa', 'ter'],\n",
              " ['resultados:', 'meditação', 'pode', 'ter'],\n",
              " ['fim', 'apenas', 'mesma', 'medito'],\n",
              " ['palavras', 'sobre', 'nada', 'eis'],\n",
              " ['porquê', 'presença', 'música', 'forma'],\n",
              " ['comunicação', 'prescinde', 'palavra', 'porque'],\n",
              " ['sentimentos', 'sobrepujam', 'particularmente', 'música'],\n",
              " ['romântica', 'toda', 'música', 'clássica'],\n",
              " ['sentido', 'erudita', 'pretenda', 'efeito'],\n",
              " ['artístico', 'apregoado', 'músicos', 'românticos'],\n",
              " ['conforme', 'pode', 'conferir', 'depoimentos'],\n",
              " ['deixados', 'jean', 'paul', 'respeito'],\n",
              " ['schumann', 'escritor', 'hora', 'estrela'],\n",
              " ['afirma:', 'vida', 'verdadeira', 'irreconhecível'],\n",
              " ['extremamente', 'interior', 'palavra', 'signifique'],\n",
              " ['história', 'livro', 'transcorre', 'estado'],\n",
              " ['emergência', 'vida', 'escritor', 'obra'],\n",
              " ['onde', 'movimento', 'trata', 'livro'],\n",
              " ['inacabado', 'exige', 'participação', 'outro'],\n",
              " ['continuá', 'la', 'assim', 'hora'],\n",
              " ['estrela', 'retoma', 'redimensiona', 'questões'],\n",
              " ['marcam', 'literatura', 'moderna', 'confrontada'],\n",
              " ['crise', 'herói', 'desorientado', 'palavra'],\n",
              " ['nomeadora', 'três', 'formas', 'dedicar'],\n",
              " ['dedicar', 'meditar', 'denominador', 'comum:'],\n",
              " ['dizer', 'nele', 'fato', 'concentra'],\n",
              " ['grande', 'desafio', 'pessoas', 'queiram'],\n",
              " ['ter', 'relação', 'autêntica', 'vida'],\n",
              " ['desafio', 'escritor', 'matériaprima', 'básica'],\n",
              " ['pois', 'verdade', 'afirmação', 'inicial'],\n",
              " ['livro', 'tudo', 'mundo', 'começou'],\n",
              " ['sim', 'diante', 'enigma', 'decifrar'],\n",
              " ['desafio', 'empreender', 'enigma', 'refere'],\n",
              " ['primeiro', 'sim', 'origem', 'mundo'],\n",
              " [';', 'desafio', 'dizer', 'sim'],\n",
              " ['clarice', 'lispector', 'continuarmos', 'inventando'],\n",
              " ['mundo', 'texto', 'termina', 'única'],\n",
              " ['palavra', 'ocupando', 'todo', 'parágrafo:'],\n",
              " ['sim', 'cabe', 'continuar', 'movimento'],\n",
              " ['estelar', 'eis', 'grande', 'arte'],\n",
              " ['clarice', 'lispector', 'clarisse', 'fukelman'],\n",
              " ['professora', 'literatura', 'brasileira', 'pontifícia'],\n",
              " ['universidade', 'católica', 'rio', 'janeiro'],\n",
              " ['dedicatória', 'autor', 'verdade', 'clarice'],\n",
              " ['lispector', 'pois', 'dedico', 'coisa'],\n",
              " ['aí', 'antigo', 'schumann', 'doce'],\n",
              " ['clara', 'hoje', 'ossos', 'ai'],\n",
              " ['dedico', 'cor', 'rubra', 'escarlate'],\n",
              " ['sangue', 'homem', 'plena', 'idade'],\n",
              " ['portanto', 'dedico', 'sangue', 'dedico'],\n",
              " ['sobretudo', 'gnomos', 'anões', 'sílfides'],\n",
              " ['ninfas', 'habitam', 'vida', 'dedicome'],\n",
              " ['saudade', 'antiga', 'pobreza', 'tudo'],\n",
              " ['sóbrio', 'digno', 'nunca', 'havia'],\n",
              " ['comido', 'lagosta', 'dedico', 'tempestade'],\n",
              " ['beethoven', 'vibração', 'cores', 'neutras'],\n",
              " ['bach', 'chopin', 'amolece', 'ossos'],\n",
              " ['stravinsky', 'espantou', 'voei', 'fogo'],\n",
              " ['morte', 'transfiguração', 'richard', 'strauss'],\n",
              " ['revela', 'destino?', 'sobretudo', 'dedico'],\n",
              " ['vésperas', 'hoje', 'hoje', 'transparente'],\n",
              " ['véu', 'debussy', 'marlos', 'nobre'],\n",
              " ['prokofiev', 'carl', 'orff', 'schönberg'],\n",
              " ['dodecafônicos', 'gritos', 'rascantes', 'eletrônicos'],\n",
              " ['todos', 'mim', 'atingiram', 'zonas'],\n",
              " ['assustadoramente', 'inesperadas', 'todos', 'profetas'],\n",
              " ['presente', 'mim', 'vaticinaram', 'mim'],\n",
              " ['ponto', 'neste', 'instante', 'explodir'],\n",
              " ['em:', 'vós', 'pois', 'apenas'],\n",
              " ['mim', 'preciso', 'outros', 'manter'],\n",
              " ['pé', 'tão', 'tonto', 'enviesado'],\n",
              " ['enfim', 'fazer', 'senão', 'meditar'],\n",
              " ['cair', 'naquele', 'vazio', 'pleno'],\n",
              " ['atinge', 'meditação', 'meditação', 'precisa'],\n",
              " ['ter', 'resultados:', 'meditação', 'pode'],\n",
              " ['ter', 'fim', 'apenas', 'mesma'],\n",
              " ['medito', 'palavras', 'sobre', 'nada'],\n",
              " ['atrapalha', 'vida', 'escrever:', 'esquecer'],\n",
              " ['estrutura', 'átomo', 'vista', 'sabe'],\n",
              " ['sei', 'muita', 'coisa', 'vi'],\n",
              " ['vós', 'pode', 'dar', 'prova'],\n",
              " ['existência', 'verdadeiro', 'jeito', 'acreditar:'],\n",
              " ['acreditar', 'chorando', 'história', 'acontece'],\n",
              " ['estado', 'emergência', 'calamidade', 'pública'],\n",
              " ['tratase', 'livro', 'inacabado', 'porque'],\n",
              " ['falta', 'resposta', 'resposta', 'alguém'],\n",
              " ['mundo', 'ma', 'dê', 'vós?'],\n",
              " ['história', 'tecnicolor', 'ter', 'algum'],\n",
              " ['luxo', 'deus', 'preciso', 'amém'],\n",
              " ['todos', 'tudo', 'mundo', 'começou'],\n",
              " ['sim', 'molécula', 'disse', 'sim'],\n",
              " ['outra', 'molécula', 'nasceu', 'vida'],\n",
              " ['antes', 'pré', 'história', 'havia'],\n",
              " ['pré', 'história', 'préhistória', 'havia'],\n",
              " ['nunca', 'havia', 'sim', 'sempre'],\n",
              " ['sei', 'quê', 'sei', 'universo'],\n",
              " ['jamais', 'começou', 'ninguém', 'engane'],\n",
              " ['consigo', 'simplicidade', 'através', 'trabalho'],\n",
              " ['enquanto', 'perguntas', 'resposta', 'continuarei'],\n",
              " ['escrever', 'começar', 'início', 'coisas'],\n",
              " ['acontecem', 'antes', 'acontecer?', 'antes'],\n",
              " ['prépré', 'história', 'havia', 'monstros'],\n",
              " ['apocalípticos?', 'história', 'existe', 'passará'],\n",
              " ['existir', 'pensar', 'ato', 'sentir'],\n",
              " ['fato', 'dois', 'juntos', 'escrevo'],\n",
              " ['escrevendo', 'deus', 'mundo', 'verdade'],\n",
              " ['sempre', 'contato', 'interior', 'inexplicável'],\n",
              " ['vida', 'verdadeira', 'irreconhecível', 'extremamente'],\n",
              " ['interior', 'palavra', 'signifique', 'coração'],\n",
              " ['esvaziou', 'todo', 'desejo', 'reduz'],\n",
              " ['próprio', 'último', 'primeiro', 'pulsar'],\n",
              " ['dor', 'dentes', 'perpassa', 'história'],\n",
              " ['deu', 'fisgada', 'funda', 'plena'],\n",
              " ['boca', 'então', 'canto', 'alto'],\n",
              " ['agudo', 'melodia', 'sincopada', 'estridente'],\n",
              " ['própria', 'dor', 'carrego', 'mundo'],\n",
              " ['falta', 'felicidade', 'felicidade?', 'nunca'],\n",
              " ['vi', 'palavra', 'doida', 'inventada'],\n",
              " ['nordestinas', 'andam', 'aí', 'montes'],\n",
              " ['irei', 'dizer', 'agora', 'história'],\n",
              " ['resultado', 'visão', 'gradual', 'dois'],\n",
              " ['anos', 'meio', 'venho', 'poucos'],\n",
              " ['descobrindo', 'porquês', 'visão', 'iminência'],\n",
              " ['quê?', 'sabe', 'tarde', 'saberei'],\n",
              " ['escrevendo', 'hora', 'mesma', 'lido'],\n",
              " ['inicio', 'fim', 'justificaria', 'começo'],\n",
              " ['morte', 'parece', 'dizer', 'sobre'],\n",
              " ['vida', 'porque', 'preciso', 'registrar'],\n",
              " ['fatos', 'antecedentes', 'escrevo', 'neste'],\n",
              " ['instante', 'algum', 'prévio', 'pudor'],\n",
              " ['invadindo', 'tal', 'narrativa', 'tão'],\n",
              " ['exterior', 'explícita', 'onde', 'entanto'],\n",
              " ['sangue', 'arfante', 'tão', 'vivo'],\n",
              " ['vida', 'poderá', 'sabe', 'escorrer'],\n",
              " ['logo', 'coagular', 'cubos', 'geléia'],\n",
              " ['trêmula', 'história', 'dia', 'coágulo?'],\n",
              " ['sei', 'veracidade', 'nela', 'claro'],\n",
              " ['história', 'verdadeira', 'embora', 'inventada'],\n",
              " ['cada', 'reconheça', 'si', 'porque'],\n",
              " ['todos', 'pobreza', 'dinheiro', 'pobreza'],\n",
              " ['espírito', 'saudade', 'faltar', 'coisa'],\n",
              " ['preciosa', 'ouro', 'existe', 'falte'],\n",
              " ['delicado', 'essencial', 'sei', 'tudo'],\n",
              " ['vai', 'seguir', 'ainda', 'desconheço'],\n",
              " ['nunca', 'vivi?', 'rua', 'rio'],\n",
              " ['janeiro', 'peguei', 'ar', 'relance'],\n",
              " ['sentimento', 'perdição', 'rosto', 'moça'],\n",
              " ['nordestina', 'falar', 'menino', 'criei'],\n",
              " ['nordeste', 'sei', 'coisas', 'vivendo'],\n",
              " ['vive', 'sabe', 'saber', 'sabe'],\n",
              " ['assim', 'senhores', 'sabem', 'imaginam'],\n",
              " ['fingindo', 'sonsos', 'proponho', 'complexo'],\n",
              " ['escreverei', 'embora', 'obrigado', 'usar'],\n",
              " ['palavras', 'sustentam', 'história', 'determino'],\n",
              " ['falso', 'livre', 'arbítrio', 'vai'],\n",
              " ['ter', 'uns', 'sete', 'personagens'],\n",
              " ['importantes', 'claro', 'rodrigo', 's'],\n",
              " ['m', 'relato', 'antigo', 'pois'],\n",
              " ['quero', 'mordenoso', 'inventar', 'modismos'],\n",
              " ['guisa', 'originalidade', 'assim', 'experimentarei'],\n",
              " ['contra', 'hábitos', 'história', 'começo'],\n",
              " ['meio', 'gran', 'finale', 'seguido'],\n",
              " ['silêncio', 'chuva', 'caindo', 'história'],\n",
              " ['exterior', 'explícita', 'sim', 'contém'],\n",
              " ['segredos', 'começar', 'títulos', 'quanto'],\n",
              " ['futuro', 'precedido', 'ponto', 'final'],\n",
              " ['seguido', 'outro', 'ponto', 'final'],\n",
              " ['trata', 'capricho', 'fim', 'talvez'],\n",
              " ['entenda', 'necessidade', 'delimitado', 'mal'],\n",
              " ['mal', 'vislumbro', 'final', 'pobreza'],\n",
              " ['permitir', 'quero', 'grandioso', 'vez'],\n",
              " ['ponto', 'seguido', 'reticências', 'título'],\n",
              " ['ficaria', 'aberto', 'possíveis', 'imaginações'],\n",
              " ['vossas', 'porventura', 'malsãs', 'piedade'],\n",
              " ['bem', 'verdade', 'piedade', 'personagem'],\n",
              " ['principal', 'nordestina:', 'relato', 'desejo'],\n",
              " ['frio', 'direito', 'dolorosamente', 'frio'],\n",
              " ['vós', 'tudo', 'dou', 'vez'],\n",
              " ['trata', 'apenas', 'narrativa', 'antes'],\n",
              " ['tudo', 'vida', 'primária', 'respira'],\n",
              " ['respira', 'respira', 'material', 'poroso'],\n",
              " ['dia', 'viverei', 'aqui', 'vida'],\n",
              " ['molécula', 'estrondo', 'possível', 'átomos'],\n",
              " ['invenção', 'obrigação', 'contar', 'sobre'],\n",
              " ['moça', 'milhares', 'dever', 'pouca'],\n",
              " ['arte', 'revelar', 'vida', 'porque'],\n",
              " ['direito', 'grito', 'então', 'grito'],\n",
              " ['grito', 'puro', 'pedir', 'esmola'],\n",
              " ['sei', 'moças', 'vendem', 'corpo'],\n",
              " ['única', 'posse', 'real', 'troca'],\n",
              " ['bom', 'jantar', 'vez', 'sanduíche'],\n",
              " ['mortadela', 'pessoa', 'falarei', 'mal'],\n",
              " ['corpo', 'vender', 'ninguém', 'quer'],\n",
              " ['virgem', 'inócua', 'faz', 'falta'],\n",
              " ['ninguém', 'aliás', 'descubro', 'agora'],\n",
              " ['faço', 'menor', 'falta', 'escrevo'],\n",
              " ['outro', 'escreveria', 'outro', 'escritor'],\n",
              " ['sim', 'homem', 'porque', 'escritora'],\n",
              " ['mulher', 'pode', 'lacrimejar', 'piegas'],\n",
              " ['nordestina', 'milhares', 'moças', 'espalhadas'],\n",
              " ['cortiços', 'vagas', 'cama', 'quarto'],\n",
              " ['atrás', 'balcões', 'trabalhando', 'estafa'],\n",
              " ['notam', 'sequer', 'facilmente', 'substituíveis'],\n",
              " ['tanto', 'existiram', 'existiriam', 'poucas'],\n",
              " ['queixam', 'saiba', 'nenhuma', 'reclama'],\n",
              " ['saber', 'existe?', 'esquentando', 'corpo'],\n",
              " ['iniciar', 'esfregando', 'mãos', 'outra'],\n",
              " ['ter', 'coragem', 'agora', 'lembrei'],\n",
              " ['tempo', 'esquentar', 'espírito', 'rezava:'],\n",
              " ['movimento', 'espírito', 'reza', 'meio'],\n",
              " ['mudamente', 'escondido', 'todos', 'atingir'],\n",
              " ['mim', 'rezava', 'conseguia', 'oco'],\n",
              " ['alma', 'oco', 'tudo', 'posso'],\n",
              " ['jamais', 'ter', 'nada', 'vazio'],\n",
              " ['valor', 'semelhança', 'pleno', 'meio'],\n",
              " ['obter', 'procurar', 'meio', 'ter'],\n",
              " ['pedir', 'somente', 'acreditar', 'silêncio'],\n",
              " ['creio', 'mim', 'resposta', 'mistério'],\n",
              " ['pretendo', 'insinuei', 'escrever', 'modo'],\n",
              " ['cada', 'vez', 'simples', 'aliás'],\n",
              " ['material', 'disponho', 'parco', 'singelo'],\n",
              " ['demais', 'informações', 'sobre', 'personagens'],\n",
              " ['poucas', 'elucidativas', 'informações', 'penosamente'],\n",
              " ['vêm', 'mim', 'mim', 'trabalho'],\n",
              " ['carpintaria', 'sim', 'esquecer', 'escrever'],\n",
              " ['importa', 'quê', 'material', 'básico'],\n",
              " ['palavra', 'assim', 'história', 'feita'],\n",
              " ['palavras', 'agrupam', 'frases', 'destas'],\n",
              " ['evola', 'sentido', 'secreto', 'ultrapassa'],\n",
              " ['palavras', 'frases', 'claro', 'todo'],\n",
              " ['escritor', 'tentação', 'usar', 'termos'],\n",
              " ['suculentos:', 'conheço', 'adjetivos', 'esplendorosos'],\n",
              " ['carnudo', 'substantivos', 'verbos', 'tão'],\n",
              " ['esguios', 'atravessam', 'agudos', 'ar'],\n",
              " ['vias', 'ação', 'palavra', 'ação'],\n",
              " ['concordai?', 'vou', 'enfeitar', 'palavra'],\n",
              " ['pois', 'tocar', 'pão', 'moça'],\n",
              " ['pão', 'tornará', 'ouro', 'jovem'],\n",
              " ['poderia', 'mordê', 'lo', 'morrendo'],\n",
              " ['fome', 'então', 'falar', 'simples'],\n",
              " ['captar', 'delicada', 'vaga', 'existência'],\n",
              " ['limito', 'humildemente', 'fazer', 'estardalhaços'],\n",
              " ['humildade', 'humilde', 'limito', 'contar'],\n",
              " ['fracas', 'aventuras', 'moça', 'cidade'],\n",
              " ['toda', 'feita', 'contra', 'devia'],\n",
              " ['ter', 'ficado', 'sertão', 'alagoas'],\n",
              " ['vestido', 'chita', 'nenhuma', 'datilografia'],\n",
              " ['escrevia', 'tão', 'mal', 'terceiro'],\n",
              " ['ano', 'primário', 'ignorante', 'obrigada'],\n",
              " ['datilografia', 'copiar', 'lentamente', 'letra'],\n",
              " ['letra', 'tia', 'dera', 'curso'],\n",
              " ['ralo', 'bater', 'máquina', 'moça'],\n",
              " ['ganhara', 'dignidade:', 'enfim', 'datilógrafa'],\n",
              " ['embora', 'parece', 'aprovasse', 'linguagem'],\n",
              " ['duas', 'consoantes', 'juntas', 'copiava'],\n",
              " ['letra', 'linda', 'redonda', 'amado'],\n",
              " ['chefe', 'palavra', 'designar', 'modo'],\n",
              " ['língua', 'falada', 'diria:', 'desiguinar'],\n",
              " ['desculpai', 'vou', 'continuar', 'falar'],\n",
              " ['mim', 'desconhecido', 'escrever', 'surpreendo'],\n",
              " ['pouco', 'pois', 'descobri', 'destino'],\n",
              " ['perguntou:', 'monstro', 'pessoa?', 'antes'],\n",
              " ['afiançar', 'moça', 'conhece', 'senão'],\n",
              " ['através', 'ir', 'vivendo', 'toa'],\n",
              " ['tolice', 'perguntar', 'eu?', 'cairia'],\n",
              " ['estatelada', 'cheio', 'chão', 'eu?'],\n",
              " ['provoca', 'necessidade', 'satisfazer', 'necessidade?'],\n",
              " ['indaga', 'incompleto', 'pessoa', 'vou'],\n",
              " ['falar', 'tão', 'tola', 'vezes'],\n",
              " ['sorri', 'outros', 'rua', 'ninguém'],\n",
              " ['responde', 'sorriso', 'porque', 'menos'],\n",
              " ['olham', 'voltando', 'mim:', 'escreverei'],\n",
              " ['pode', 'absorvido', 'mentes', 'exijam'],\n",
              " ['ávidas', 'requintes', 'pois', 'estarei'],\n",
              " ['dizendo', 'apenas', 'nu', 'embora'],\n",
              " ['pano', 'fundo', 'agora', 'penumbra'],\n",
              " ['atormentada', 'sempre', 'sonhos', 'noite'],\n",
              " ['atormentado', 'durmo', 'esperem', 'então'],\n",
              " ['estrelas', 'segue:', 'nada', 'cintilará'],\n",
              " ['trata', 'matéria', 'opaca', 'própria'],\n",
              " ['natureza', 'desprezível', 'todos', 'história'],\n",
              " ['falta', 'melodia', 'cantabile', 'ritmo'],\n",
              " ['vezes', 'descompasso', 'fatos', 'apaixoneime'],\n",
              " ['subitamente', 'fatos', 'literatura', 'fatos'],\n",
              " ['pedras', 'duras', 'agir', 'interessando'],\n",
              " ['pensar', 'fatos', 'fugir', 'pergunto'],\n",
              " ['deveria', 'caminhar', 'frente', 'tempo'],\n",
              " ['esboçar', 'logo', 'final', 'acontece'],\n",
              " ['porém', 'ainda', 'sei', 'bem'],\n",
              " ['terminará', 'porque', 'entendo', 'devo'],\n",
              " ['caminha', 'passo', 'passo', 'acordo'],\n",
              " ['prazo', 'determinado', 'horas:', 'bicho'],\n",
              " ['lida', 'tempo', 'primeira', 'condição:'],\n",
              " ['caminhar', 'paulatinamente', 'apesar', 'impaciência'],\n",
              " ['relação', 'moça', 'história', 'vou'],\n",
              " ['sensibilizar', 'bem', 'sei', 'cada'],\n",
              " ['dia', 'dia', 'roubado', 'morte'],\n",
              " ['intelectual', 'escrevo', 'corpo', 'escrevo'],\n",
              " ['névoa', 'úmida', 'palavras', 'sons'],\n",
              " ['transfundidos', 'sombras', 'entrecruzam', 'desiguais'],\n",
              " ['estalactites', 'renda', 'música', 'transfigurada'],\n",
              " ['órgão', 'mal', 'ouso', 'clamar'],\n",
              " ['palavras', 'rede', 'vibrante', 'rica'],\n",
              " ['mórbida', 'obscura', 'tendo', 'contratom'],\n",
              " ['baixo', 'grosso', 'dor', 'alegro'],\n",
              " ['brio', 'tentarei', 'tirar', 'ouro'],\n",
              " ['carvão', 'sei', 'adiando', 'história'],\n",
              " ['brinco', 'bola', 'bola', 'fato'],\n",
              " ['ato?', 'juro', 'livro', 'feito'],\n",
              " ['palavras', 'fotografia', 'muda', 'livro'],\n",
              " ['silêncio', 'livro', 'pergunta', 'desconfio'],\n",
              " ['toda', 'conversa', 'feita', 'apenas'],\n",
              " ['adiar', 'pobreza', 'história', 'pois'],\n",
              " ['medo', 'antes', 'ter', 'surgido'],\n",
              " ['vida', 'datilógrafa', 'homem', 'pouco'],\n",
              " ['contente', 'apesar', 'mau', 'êxito'],\n",
              " ['literatura', 'coisas', 'algum', 'modo'],\n",
              " ['tão', 'boas', 'podiam', 'tornar'],\n",
              " ['ruins', 'porque', 'amadurece', 'plenamente'],\n",
              " ['pode', 'apodrecer', 'transgredir', 'porém'],\n",
              " ['próprios', 'limites', 'fascinou', 'repente'],\n",
              " ['pensei', 'escrever', 'sobre', 'realidade'],\n",
              " ['ultrapassa', 'qualquer', 'quer', 'dizer'],\n",
              " ['realidade', 'narrarei', 'meloso?', 'tendência'],\n",
              " ['então', 'agora', 'seco', 'endureço'],\n",
              " ['tudo', 'menos', 'escrevo', 'pede'],\n",
              " ['favor', 'ninguém', 'implora', 'socorro:'],\n",
              " ['agüenta', 'chamada', 'dor', 'dignidade'],\n",
              " ['barão', 'parece', 'mudando', 'modo'],\n",
              " ['escrever', 'acontece', 'escrevo', 'quero'],\n",
              " ['profissional', 'preciso', 'falar', 'dessa'],\n",
              " ['nordestina', 'senão', 'sufoco', 'acusa'],\n",
              " ['meio', 'defender', 'escrever', 'sobre'],\n",
              " ['escrevo', 'traços', 'vivos', 'ríspidos'],\n",
              " ['pintura', 'estarei', 'lidando', 'fatos'],\n",
              " ['irremediáveis', 'pedras', 'falei', 'embora'],\n",
              " ['queira', 'animar', 'sinos', 'badalem'],\n",
              " ['enquanto', 'adivinho', 'realidade', 'anjos'],\n",
              " ['esvoacem', 'vespas', 'transparentes', 'torno'],\n",
              " ['cabeça', 'quente', 'porque', 'quer'],\n",
              " ['transformar', 'objeto', 'coisa', 'fácil'],\n",
              " ['ação', 'ultrapassa', 'palavra?', 'escrever'],\n",
              " ['nome', 'real', 'dado', 'coisas'],\n",
              " ['cada', 'coisa', 'palavra', 'inventa'],\n",
              " ['vosso', 'deus', 'mandou', 'inventar'],\n",
              " ['porque', 'escrevo?', 'antes', 'tudo'],\n",
              " ['porque', 'captei', 'espírito', 'língua'],\n",
              " ['assim', 'vezes', 'forma', 'faz'],\n",
              " ['conteúdo', 'escrevo', 'portanto', 'causa'],\n",
              " ['nordestina', 'motivo', 'grave', 'força'],\n",
              " ['maior', 'diz', 'requerimentos', 'oficiais'],\n",
              " ['força', 'lei', 'sim', 'força'],\n",
              " ...]"
            ]
          },
          "metadata": {},
          "execution_count": 66
        }
      ]
    },
    {
      "cell_type": "markdown",
      "source": [
        "Agora, vamos fazer uma função para calcular a semelhança de cossenos entre as frases dentro de um corpus."
      ],
      "metadata": {
        "id": "f5wsZZ1Y3iR7"
      }
    },
    {
      "cell_type": "code",
      "source": [
        "def heatmap_matrix(corpus_sent):\n",
        "  \n",
        "  length = len(corpus_sent)\n",
        "  heat_matrix = np.zeros((length,length))\n",
        "  for i in range(length):\n",
        "    sent1 = sentence_embedding_bert(\" \".join(corpus_sent[i]))\n",
        "    for j in range(length):\n",
        "      sent2 = sentence_embedding_bert(\" \".join(corpus_sent[j]))\n",
        "      heat_matrix[i][j] = float(torch.cosine_similarity(sent1.reshape(1,-1), sent2.reshape(1,-1)))\n",
        "  return heat_matrix"
      ],
      "metadata": {
        "id": "_jfPt3OGp_bA"
      },
      "execution_count": 78,
      "outputs": []
    },
    {
      "cell_type": "markdown",
      "source": [
        "Com isso, podemos aplicar isto, por exemplo, nas 10 primeiras frases do nosso corpus."
      ],
      "metadata": {
        "id": "uxm1tG0V3rm2"
      }
    },
    {
      "cell_type": "code",
      "source": [
        "sent[:10]"
      ],
      "metadata": {
        "colab": {
          "base_uri": "https://localhost:8080/"
        },
        "id": "3BQqzBYw3xXb",
        "outputId": "74bcd2f6-4751-4fb0-922e-78148103503b"
      },
      "execution_count": 111,
      "outputs": [
        {
          "output_type": "execute_result",
          "data": {
            "text/plain": [
              "[['hora', 'estrela', 'clarice', 'lispector'],\n",
              " ['hora', 'estrela', 'culpa', 'hora'],\n",
              " ['estrela', 'arranje', 'direito', 'grito'],\n",
              " ['quanto', 'futuro', 'lamento', 'blue'],\n",
              " ['sabe', 'gritar', 'assovio', 'vento'],\n",
              " ['escuro', 'posso', 'fazer', 'nada'],\n",
              " ['registro', 'fatos', 'antecedentes', 'história'],\n",
              " ['lacrimogênica', 'cordel', 'saída', 'discreta'],\n",
              " ['porta', 'fundos', 'apresentação', 'escrever'],\n",
              " ['estrelas', 'ora', 'direis', 'clarice']]"
            ]
          },
          "metadata": {},
          "execution_count": 111
        }
      ]
    },
    {
      "cell_type": "code",
      "source": [
        "sentences_heat = heatmap_matrix(sent[:10])\n"
      ],
      "metadata": {
        "id": "_RVsehRc0zyc"
      },
      "execution_count": 112,
      "outputs": []
    },
    {
      "cell_type": "code",
      "source": [
        "ax = sns.heatmap(sentences_heat)"
      ],
      "metadata": {
        "colab": {
          "base_uri": "https://localhost:8080/",
          "height": 272
        },
        "id": "sGovujEo2eJs",
        "outputId": "4d3fd22d-5977-4d25-e24c-48e12d03f568"
      },
      "execution_count": 113,
      "outputs": [
        {
          "output_type": "display_data",
          "data": {
            "text/plain": [
              "<Figure size 432x288 with 2 Axes>"
            ],
            "image/png": "[encoded data removed]"
          },
          "metadata": {}
        }
      ]
    },
    {
      "cell_type": "markdown",
      "source": [
        "Aqui, quanto mais claro, mais similar são as frases. O mapa de calor é bonito, mas díficil de visualizar. Para selecionarmos as frases mais próximas, vamos definir que queremos apenas as que possuem um valor de similaridade de cossenos maior de 0.9."
      ],
      "metadata": {
        "id": "SQiexs9N4Y22"
      }
    },
    {
      "cell_type": "code",
      "source": [
        "index = np.where((sentences_heat > 0.9) & (sentences_heat < 0.925))"
      ],
      "metadata": {
        "id": "XST9GIMz4p2N"
      },
      "execution_count": 120,
      "outputs": []
    },
    {
      "cell_type": "code",
      "source": [
        "listofcc= list(zip(index[0], index[1]))\n",
        "cc = list(set(listofcc))"
      ],
      "metadata": {
        "id": "n3U0_rSo5tZL"
      },
      "execution_count": 124,
      "outputs": []
    },
    {
      "cell_type": "markdown",
      "source": [
        "A partir disso, temos que as frases mais semelhantes são:"
      ],
      "metadata": {
        "id": "MfxEDE6q7lJM"
      }
    },
    {
      "cell_type": "code",
      "source": [
        "for coordinates in cc:\n",
        "  print(f\"({' '.join(sent[coordinates[0]])}) e ({' '.join(sent[coordinates[1]])})\\n\")"
      ],
      "metadata": {
        "colab": {
          "base_uri": "https://localhost:8080/"
        },
        "id": "oQosOakB7kYa",
        "outputId": "3c67b12b-5ad7-4f68-c3bd-f8ccb03805a8"
      },
      "execution_count": 130,
      "outputs": [
        {
          "output_type": "stream",
          "name": "stdout",
          "text": [
            "(hora estrela clarice lispector) e (hora estrela culpa hora)\n",
            "\n",
            "(estrelas ora direis clarice) e (hora estrela clarice lispector)\n",
            "\n",
            "(sabe gritar assovio vento) e (estrelas ora direis clarice)\n",
            "\n",
            "(lacrimogênica cordel saída discreta) e (hora estrela clarice lispector)\n",
            "\n",
            "(estrela arranje direito grito) e (estrelas ora direis clarice)\n",
            "\n",
            "(estrelas ora direis clarice) e (estrela arranje direito grito)\n",
            "\n",
            "(hora estrela clarice lispector) e (lacrimogênica cordel saída discreta)\n",
            "\n",
            "(estrela arranje direito grito) e (escuro posso fazer nada)\n",
            "\n",
            "(estrelas ora direis clarice) e (sabe gritar assovio vento)\n",
            "\n",
            "(hora estrela clarice lispector) e (estrelas ora direis clarice)\n",
            "\n",
            "(sabe gritar assovio vento) e (estrela arranje direito grito)\n",
            "\n",
            "(hora estrela culpa hora) e (hora estrela clarice lispector)\n",
            "\n",
            "(escuro posso fazer nada) e (estrela arranje direito grito)\n",
            "\n",
            "(estrela arranje direito grito) e (sabe gritar assovio vento)\n",
            "\n"
          ]
        }
      ]
    },
    {
      "cell_type": "markdown",
      "source": [
        "Analisando essas frases, é perceptível que muitas vezes a semelhança ocorre por conter palavras iguais. Entretanto, em alguns casos, nos deparamos com semelhanças que não possuem frases iguais, como no caso de \"(hora estrela clarice lispector) e (lacrimogênica cordel saída discreta)\"."
      ],
      "metadata": {
        "id": "Kb5Ciq_o8tNk"
      }
    },
    {
      "cell_type": "markdown",
      "source": [
        "Ao calcularmos sua similaridade de cossenos, percebemos que ambas frases \"apontam para o mesmo lugar\""
      ],
      "metadata": {
        "id": "FSz_gF3L99OR"
      }
    },
    {
      "cell_type": "code",
      "source": [
        "sent1 = sentence_embedding_bert(\"hora estrela clarice lispector\")\n",
        "sent2 = sentence_embedding_bert(\"lacrimogênica cordel saída discreta\")\n",
        "\n",
        "torch.cosine_similarity(sent1.reshape(1,-1), sent2.reshape(1,-1))"
      ],
      "metadata": {
        "colab": {
          "base_uri": "https://localhost:8080/"
        },
        "id": "Yv9BVOv39x3B",
        "outputId": "b6061730-83f2-4b5e-b25c-2f5a9513e2c7"
      },
      "execution_count": 131,
      "outputs": [
        {
          "output_type": "execute_result",
          "data": {
            "text/plain": [
              "tensor([0.9031])"
            ]
          },
          "metadata": {},
          "execution_count": 131
        }
      ]
    },
    {
      "cell_type": "markdown",
      "source": [
        "Porém, quando testamos a sua distância euclidiana, percebemos as diferenças, visto que a distância é alta."
      ],
      "metadata": {
        "id": "EjGSTCV0-BzZ"
      }
    },
    {
      "cell_type": "code",
      "source": [
        "(sent1 - sent2).pow(2).sum().sqrt()\n"
      ],
      "metadata": {
        "colab": {
          "base_uri": "https://localhost:8080/"
        },
        "id": "k709dacc95t7",
        "outputId": "b908f0ed-168c-4e27-a45f-64df6996dab3"
      },
      "execution_count": 132,
      "outputs": [
        {
          "output_type": "execute_result",
          "data": {
            "text/plain": [
              "tensor(8.3922)"
            ]
          },
          "metadata": {},
          "execution_count": 132
        }
      ]
    },
    {
      "cell_type": "markdown",
      "metadata": {
        "id": "l_Mb7OCP6Xeg"
      },
      "source": [
        "Referencias\n",
        "\n",
        "https://www.alura.com.br/artigos/lemmatization-vs-stemming-quando-usar-cada-uma\n",
        "\n",
        "https://towardsdatascience.com/from-dataframe-to-n-grams-e34e29df3460\n",
        "\n",
        "https://www.kaggle.com/code/pierremegret/gensim-word2vec-tutorial/notebook\n"
      ]
    }
  ],
  "metadata": {
    "accelerator": "GPU",
    "colab": {
      "name": "Projeto_de_Entrada_Clarisse_Lispector.ipynb",
      "provenance": [],
      "toc_visible": true
    },
    "gpuClass": "standard",
    "kernelspec": {
      "display_name": "Python 3.10.4 64-bit",
      "language": "python",
      "name": "python3"
    },
    "language_info": {
      "codemirror_mode": {
        "name": "ipython",
        "version": 3
      },
      "file_extension": ".py",
      "mimetype": "text/x-python",
      "name": "python",
      "nbconvert_exporter": "python",
      "pygments_lexer": "ipython3",
      "version": "3.10.4"
    },
    "vscode": {
      "interpreter": {
        "hash": "8e502c3083077283654ee0db8689729377640bb97ef493668650ddc40e07c009"
      }
    }
  },
  "nbformat": 4,
  "nbformat_minor": 0
}